{
  "nbformat": 4,
  "nbformat_minor": 0,
  "metadata": {
    "colab": {
      "name": "Base_of_neuralnet_01_2.ipynb",
      "version": "0.3.2",
      "provenance": [],
      "collapsed_sections": [],
      "include_colab_link": true
    },
    "kernelspec": {
      "name": "python3",
      "display_name": "Python 3"
    },
    "accelerator": "GPU"
  },
  "cells": [
    {
      "cell_type": "markdown",
      "metadata": {
        "id": "view-in-github",
        "colab_type": "text"
      },
      "source": [
        "<a href=\"https://colab.research.google.com/github/aluqbnle/ml-sandbox/blob/master/Base_of_neuralnet_01_2.ipynb\" target=\"_parent\"><img src=\"https://colab.research.google.com/assets/colab-badge.svg\" alt=\"Open In Colab\"/></a>"
      ]
    },
    {
      "metadata": {
        "id": "eC-6vQZe93tH",
        "colab_type": "code",
        "colab": {}
      },
      "cell_type": "code",
      "source": [
        "from __future__ import print_function\n",
        "import numpy as np\n",
        "from keras.datasets import mnist\n",
        "from keras.models import Sequential\n",
        "from keras.layers import Dense, Activation\n",
        "from keras.optimizers import SGD\n",
        "from keras.utils import np_utils"
      ],
      "execution_count": 0,
      "outputs": []
    },
    {
      "metadata": {
        "id": "o5XrW48tnDqE",
        "colab_type": "code",
        "colab": {}
      },
      "cell_type": "code",
      "source": [
        "import os\n",
        "from time import gmtime, strftime\n",
        "from keras.callbacks import TensorBoard\n",
        "def make_tensorboard(set_dir_name=' '):\n",
        "  tictoc = strftime(\"%a_%d_%b_%Y_%H_%M_%S\",gmtime())\n",
        "  directory_name = tictoc\n",
        "  log_dir = set_dir_name + '_' + directory_name\n",
        "  os.mkdir(log_dir)\n",
        "  tensorboard = TensorBoard(log_dir=log_dir)\n",
        "  return tensorboard"
      ],
      "execution_count": 0,
      "outputs": []
    },
    {
      "metadata": {
        "id": "0bmyf6F7nWz6",
        "colab_type": "code",
        "colab": {}
      },
      "cell_type": "code",
      "source": [
        "np.random.seed(1671) # for reproducibility"
      ],
      "execution_count": 0,
      "outputs": []
    },
    {
      "metadata": {
        "id": "8Nb6a9E-odat",
        "colab_type": "code",
        "colab": {}
      },
      "cell_type": "code",
      "source": [
        "# network and training\n",
        "NB_EPOCH = 40\n",
        "BATCH_SIZE = 128\n",
        "VERBOSE = 1\n",
        "NB_CLASSES = 10 # number of outputs = number of digits\n",
        "OPTIMIZER = SGD() # optimizer, explained later in this chapter\n",
        "N_HIDDEN = 128\n",
        "VALIDATION_SPLIT = 0.2 # how much TRAIN is reserved for VALIDATION"
      ],
      "execution_count": 0,
      "outputs": []
    },
    {
      "metadata": {
        "id": "hZheJ5WcpEXT",
        "colab_type": "code",
        "colab": {}
      },
      "cell_type": "code",
      "source": [
        "#data: shuffled and split between train and test sets\n",
        "(X_train,y_train),(X_test,y_test) = mnist.load_data()"
      ],
      "execution_count": 0,
      "outputs": []
    },
    {
      "metadata": {
        "id": "zJ8CIpvApSt8",
        "colab_type": "code",
        "colab": {}
      },
      "cell_type": "code",
      "source": [
        "# X_train is 60000 rows of 28x28 values --> reshaped in 60000 x 784\n",
        "RESHAPED =784"
      ],
      "execution_count": 0,
      "outputs": []
    },
    {
      "metadata": {
        "id": "8hmVMKESpg33",
        "colab_type": "code",
        "colab": {}
      },
      "cell_type": "code",
      "source": [
        "#\n",
        "X_train = X_train.reshape(60000,RESHAPED)\n",
        "X_test = X_test.reshape(10000,RESHAPED)\n",
        "X_train = X_train.astype('float32')\n",
        "X_test = X_test.astype('float32')"
      ],
      "execution_count": 0,
      "outputs": []
    },
    {
      "metadata": {
        "id": "iJy9B1G-p5T6",
        "colab_type": "code",
        "colab": {
          "base_uri": "https://localhost:8080/",
          "height": 50
        },
        "outputId": "efa0d0e9-4d0f-4b03-baae-5677b638059e"
      },
      "cell_type": "code",
      "source": [
        "# normalize\n",
        "X_train /= 255\n",
        "X_test /= 255\n",
        "print(X_train.shape[0], 'train samples')\n",
        "print(X_test.shape[0],'test samples')\n"
      ],
      "execution_count": 56,
      "outputs": [
        {
          "output_type": "stream",
          "text": [
            "60000 train samples\n",
            "10000 test samples\n"
          ],
          "name": "stdout"
        }
      ]
    },
    {
      "metadata": {
        "id": "lO1SGWtAqJNp",
        "colab_type": "code",
        "colab": {}
      },
      "cell_type": "code",
      "source": [
        "# convert class vectors binary class matrics\n",
        "Y_train = np_utils.to_categorical(y_train, NB_CLASSES)\n",
        "Y_test = np_utils.to_categorical(y_test,NB_CLASSES)"
      ],
      "execution_count": 0,
      "outputs": []
    },
    {
      "metadata": {
        "id": "-iZ895Wiqjpu",
        "colab_type": "code",
        "colab": {
          "base_uri": "https://localhost:8080/",
          "height": 336
        },
        "outputId": "8d15f861-6c9a-4d43-ff36-7cc9ee652402"
      },
      "cell_type": "code",
      "source": [
        "# M_HIDDEN hidden layers\n",
        "# 10 outputs\n",
        "# final stage is softmax\n",
        "model = Sequential()\n",
        "model.add(Dense(N_HIDDEN , input_shape=(RESHAPED,)))\n",
        "model.add(Activation('relu'))\n",
        "model.add(Dense(N_HIDDEN))\n",
        "model.add(Activation('relu'))\n",
        "model.add(Dense(NB_CLASSES))\n",
        "model.add(Activation('softmax'))\n",
        "model.summary()\n"
      ],
      "execution_count": 58,
      "outputs": [
        {
          "output_type": "stream",
          "text": [
            "_________________________________________________________________\n",
            "Layer (type)                 Output Shape              Param #   \n",
            "=================================================================\n",
            "dense_5 (Dense)              (None, 128)               100480    \n",
            "_________________________________________________________________\n",
            "activation_5 (Activation)    (None, 128)               0         \n",
            "_________________________________________________________________\n",
            "dense_6 (Dense)              (None, 128)               16512     \n",
            "_________________________________________________________________\n",
            "activation_6 (Activation)    (None, 128)               0         \n",
            "_________________________________________________________________\n",
            "dense_7 (Dense)              (None, 10)                1290      \n",
            "_________________________________________________________________\n",
            "activation_7 (Activation)    (None, 10)                0         \n",
            "=================================================================\n",
            "Total params: 118,282\n",
            "Trainable params: 118,282\n",
            "Non-trainable params: 0\n",
            "_________________________________________________________________\n"
          ],
          "name": "stdout"
        }
      ]
    },
    {
      "metadata": {
        "id": "ZtDlm3d-raMB",
        "colab_type": "code",
        "colab": {}
      },
      "cell_type": "code",
      "source": [
        "model.compile(loss='categorical_crossentropy',\n",
        "             optimizer=OPTIMIZER,\n",
        "             metrics=['accuracy'])"
      ],
      "execution_count": 0,
      "outputs": []
    },
    {
      "metadata": {
        "id": "stfmDseirv6Z",
        "colab_type": "code",
        "colab": {}
      },
      "cell_type": "code",
      "source": [
        "callbacks = [make_tensorboard(set_dir_name='keras_MNIST_V2')]"
      ],
      "execution_count": 0,
      "outputs": []
    },
    {
      "metadata": {
        "id": "Qch-C6_Tr5XU",
        "colab_type": "code",
        "colab": {
          "base_uri": "https://localhost:8080/",
          "height": 1414
        },
        "outputId": "529eb84f-a26b-41e7-cdd2-9df455fc90aa"
      },
      "cell_type": "code",
      "source": [
        "model.fit(X_train,Y_train,\n",
        "         batch_size=BATCH_SIZE,epochs=NB_EPOCH,\n",
        "         callbacks=callbacks,\n",
        "         verbose=VERBOSE,validation_split=VALIDATION_SPLIT)"
      ],
      "execution_count": 65,
      "outputs": [
        {
          "output_type": "stream",
          "text": [
            "Train on 48000 samples, validate on 12000 samples\n",
            "Epoch 1/40\n",
            "48000/48000 [==============================] - 2s 32us/step - loss: 0.0978 - acc: 0.9729 - val_loss: 0.1177 - val_acc: 0.9663\n",
            "Epoch 2/40\n",
            "48000/48000 [==============================] - 2s 35us/step - loss: 0.0960 - acc: 0.9736 - val_loss: 0.1182 - val_acc: 0.9661\n",
            "Epoch 3/40\n",
            "48000/48000 [==============================] - 2s 35us/step - loss: 0.0942 - acc: 0.9742 - val_loss: 0.1168 - val_acc: 0.9669\n",
            "Epoch 4/40\n",
            "48000/48000 [==============================] - 2s 35us/step - loss: 0.0927 - acc: 0.9744 - val_loss: 0.1143 - val_acc: 0.9668\n",
            "Epoch 5/40\n",
            "48000/48000 [==============================] - 2s 35us/step - loss: 0.0912 - acc: 0.9749 - val_loss: 0.1143 - val_acc: 0.9673\n",
            "Epoch 6/40\n",
            "48000/48000 [==============================] - 2s 35us/step - loss: 0.0898 - acc: 0.9752 - val_loss: 0.1126 - val_acc: 0.9676\n",
            "Epoch 7/40\n",
            "48000/48000 [==============================] - 2s 35us/step - loss: 0.0882 - acc: 0.9760 - val_loss: 0.1126 - val_acc: 0.9674\n",
            "Epoch 8/40\n",
            "48000/48000 [==============================] - 2s 35us/step - loss: 0.0870 - acc: 0.9763 - val_loss: 0.1111 - val_acc: 0.9677\n",
            "Epoch 9/40\n",
            "48000/48000 [==============================] - 2s 35us/step - loss: 0.0855 - acc: 0.9768 - val_loss: 0.1100 - val_acc: 0.9685\n",
            "Epoch 10/40\n",
            "48000/48000 [==============================] - 2s 35us/step - loss: 0.0841 - acc: 0.9775 - val_loss: 0.1096 - val_acc: 0.9684\n",
            "Epoch 11/40\n",
            "48000/48000 [==============================] - 2s 35us/step - loss: 0.0828 - acc: 0.9773 - val_loss: 0.1089 - val_acc: 0.9682\n",
            "Epoch 12/40\n",
            "48000/48000 [==============================] - 2s 35us/step - loss: 0.0815 - acc: 0.9780 - val_loss: 0.1078 - val_acc: 0.9688\n",
            "Epoch 13/40\n",
            "48000/48000 [==============================] - 2s 35us/step - loss: 0.0803 - acc: 0.9784 - val_loss: 0.1072 - val_acc: 0.9691\n",
            "Epoch 14/40\n",
            "48000/48000 [==============================] - 2s 34us/step - loss: 0.0791 - acc: 0.9786 - val_loss: 0.1063 - val_acc: 0.9688\n",
            "Epoch 15/40\n",
            "48000/48000 [==============================] - 2s 35us/step - loss: 0.0778 - acc: 0.9785 - val_loss: 0.1053 - val_acc: 0.9695\n",
            "Epoch 16/40\n",
            "48000/48000 [==============================] - 2s 34us/step - loss: 0.0766 - acc: 0.9794 - val_loss: 0.1052 - val_acc: 0.9692\n",
            "Epoch 17/40\n",
            "48000/48000 [==============================] - 2s 35us/step - loss: 0.0755 - acc: 0.9798 - val_loss: 0.1036 - val_acc: 0.9697\n",
            "Epoch 18/40\n",
            "48000/48000 [==============================] - 2s 34us/step - loss: 0.0745 - acc: 0.9802 - val_loss: 0.1048 - val_acc: 0.9696\n",
            "Epoch 19/40\n",
            "48000/48000 [==============================] - 2s 34us/step - loss: 0.0734 - acc: 0.9802 - val_loss: 0.1026 - val_acc: 0.9694\n",
            "Epoch 20/40\n",
            "48000/48000 [==============================] - 2s 35us/step - loss: 0.0723 - acc: 0.9808 - val_loss: 0.1029 - val_acc: 0.9698\n",
            "Epoch 21/40\n",
            "48000/48000 [==============================] - 2s 35us/step - loss: 0.0712 - acc: 0.9814 - val_loss: 0.1020 - val_acc: 0.9697\n",
            "Epoch 22/40\n",
            "48000/48000 [==============================] - 2s 35us/step - loss: 0.0701 - acc: 0.9814 - val_loss: 0.1016 - val_acc: 0.9703\n",
            "Epoch 23/40\n",
            "48000/48000 [==============================] - 2s 35us/step - loss: 0.0692 - acc: 0.9817 - val_loss: 0.1018 - val_acc: 0.9701\n",
            "Epoch 24/40\n",
            "48000/48000 [==============================] - 2s 35us/step - loss: 0.0682 - acc: 0.9825 - val_loss: 0.1001 - val_acc: 0.9706\n",
            "Epoch 25/40\n",
            "48000/48000 [==============================] - 2s 34us/step - loss: 0.0672 - acc: 0.9825 - val_loss: 0.0997 - val_acc: 0.9709\n",
            "Epoch 26/40\n",
            "48000/48000 [==============================] - 2s 35us/step - loss: 0.0663 - acc: 0.9821 - val_loss: 0.0995 - val_acc: 0.9712\n",
            "Epoch 27/40\n",
            "48000/48000 [==============================] - 2s 35us/step - loss: 0.0653 - acc: 0.9829 - val_loss: 0.0986 - val_acc: 0.9709\n",
            "Epoch 28/40\n",
            "48000/48000 [==============================] - 2s 35us/step - loss: 0.0645 - acc: 0.9830 - val_loss: 0.0983 - val_acc: 0.9713\n",
            "Epoch 29/40\n",
            "48000/48000 [==============================] - 2s 35us/step - loss: 0.0635 - acc: 0.9832 - val_loss: 0.0983 - val_acc: 0.9708\n",
            "Epoch 30/40\n",
            "48000/48000 [==============================] - 2s 36us/step - loss: 0.0626 - acc: 0.9836 - val_loss: 0.0976 - val_acc: 0.9707\n",
            "Epoch 31/40\n",
            "48000/48000 [==============================] - 2s 35us/step - loss: 0.0617 - acc: 0.9840 - val_loss: 0.0977 - val_acc: 0.9714\n",
            "Epoch 32/40\n",
            "48000/48000 [==============================] - 2s 35us/step - loss: 0.0610 - acc: 0.9840 - val_loss: 0.0967 - val_acc: 0.9723\n",
            "Epoch 33/40\n",
            "48000/48000 [==============================] - 2s 34us/step - loss: 0.0601 - acc: 0.9844 - val_loss: 0.0963 - val_acc: 0.9722\n",
            "Epoch 34/40\n",
            "48000/48000 [==============================] - 2s 35us/step - loss: 0.0593 - acc: 0.9845 - val_loss: 0.0955 - val_acc: 0.9721\n",
            "Epoch 35/40\n",
            "48000/48000 [==============================] - 2s 34us/step - loss: 0.0585 - acc: 0.9846 - val_loss: 0.0956 - val_acc: 0.9722\n",
            "Epoch 36/40\n",
            "48000/48000 [==============================] - 2s 34us/step - loss: 0.0577 - acc: 0.9850 - val_loss: 0.0955 - val_acc: 0.9718\n",
            "Epoch 37/40\n",
            "48000/48000 [==============================] - 2s 35us/step - loss: 0.0569 - acc: 0.9853 - val_loss: 0.0949 - val_acc: 0.9721\n",
            "Epoch 38/40\n",
            "48000/48000 [==============================] - 2s 34us/step - loss: 0.0561 - acc: 0.9859 - val_loss: 0.0942 - val_acc: 0.9722\n",
            "Epoch 39/40\n",
            "48000/48000 [==============================] - 2s 35us/step - loss: 0.0553 - acc: 0.9856 - val_loss: 0.0951 - val_acc: 0.9710\n",
            "Epoch 40/40\n",
            "48000/48000 [==============================] - 2s 35us/step - loss: 0.0546 - acc: 0.9860 - val_loss: 0.0947 - val_acc: 0.9726\n"
          ],
          "name": "stdout"
        },
        {
          "output_type": "execute_result",
          "data": {
            "text/plain": [
              "<keras.callbacks.History at 0x7f86f5a154e0>"
            ]
          },
          "metadata": {
            "tags": []
          },
          "execution_count": 65
        }
      ]
    },
    {
      "metadata": {
        "id": "CFdgoHaMs70a",
        "colab_type": "code",
        "colab": {
          "base_uri": "https://localhost:8080/",
          "height": 84
        },
        "outputId": "d9831962-0c7e-4f8b-de9f-6f0496af692b"
      },
      "cell_type": "code",
      "source": [
        "score = model.evaluate(X_test,Y_test,verbose=VERBOSE)\n",
        "print(\"\\nTest score:\", score[0])\n",
        "print('Testaccuracy:',score[1])"
      ],
      "execution_count": 26,
      "outputs": [
        {
          "output_type": "stream",
          "text": [
            "10000/10000 [==============================] - 0s 49us/step\n",
            "\n",
            "Test score: 2.2985659347534177\n",
            "Testaccuracy: 0.1135\n"
          ],
          "name": "stdout"
        }
      ]
    },
    {
      "metadata": {
        "id": "N2PRLmF1tjBk",
        "colab_type": "code",
        "colab": {}
      },
      "cell_type": "code",
      "source": [
        "from google.colab import drive"
      ],
      "execution_count": 0,
      "outputs": []
    },
    {
      "metadata": {
        "id": "imvp51MntyAA",
        "colab_type": "code",
        "colab": {
          "base_uri": "https://localhost:8080/",
          "height": 121
        },
        "outputId": "d6cf0cdc-bde0-48d6-da20-0407f4b61f2b"
      },
      "cell_type": "code",
      "source": [
        "drive.mount('/content/drive')"
      ],
      "execution_count": 28,
      "outputs": [
        {
          "output_type": "stream",
          "text": [
            "Go to this URL in a browser: https://accounts.google.com/o/oauth2/auth?client_id=947318989803-6bn6qk8qdgf4n4g3pfee6491hc0brc4i.apps.googleusercontent.com&redirect_uri=urn%3Aietf%3Awg%3Aoauth%3A2.0%3Aoob&scope=email%20https%3A%2F%2Fwww.googleapis.com%2Fauth%2Fdocs.test%20https%3A%2F%2Fwww.googleapis.com%2Fauth%2Fdrive%20https%3A%2F%2Fwww.googleapis.com%2Fauth%2Fdrive.photos.readonly%20https%3A%2F%2Fwww.googleapis.com%2Fauth%2Fpeopleapi.readonly&response_type=code\n",
            "\n",
            "Enter your authorization code:\n",
            "··········\n",
            "Mounted at /content/drive\n"
          ],
          "name": "stdout"
        }
      ]
    },
    {
      "metadata": {
        "id": "EyLutk2Kt0Mx",
        "colab_type": "code",
        "colab": {
          "base_uri": "https://localhost:8080/",
          "height": 34
        },
        "outputId": "63d92664-f534-4b2a-d252-6ccdb85d4fea"
      },
      "cell_type": "code",
      "source": [
        "%cd \"drive/My Drive/\""
      ],
      "execution_count": 29,
      "outputs": [
        {
          "output_type": "stream",
          "text": [
            "/content/drive/My Drive\n"
          ],
          "name": "stdout"
        }
      ]
    },
    {
      "metadata": {
        "id": "5V6zjaikuKl3",
        "colab_type": "code",
        "colab": {
          "base_uri": "https://localhost:8080/",
          "height": 34
        },
        "outputId": "f2123bf3-ec33-4c65-b3c6-48b0996a46c1"
      },
      "cell_type": "code",
      "source": [
        "cd 直感Deeplearning/"
      ],
      "execution_count": 40,
      "outputs": [
        {
          "output_type": "stream",
          "text": [
            "/content/drive/My Drive/機械学習/直感Deeplearning\n"
          ],
          "name": "stdout"
        }
      ]
    },
    {
      "metadata": {
        "id": "8-cyCohHuLfA",
        "colab_type": "code",
        "colab": {
          "base_uri": "https://localhost:8080/",
          "height": 34
        },
        "outputId": "f5e65ef0-67e5-4225-9bfa-b2f4f50c91bd"
      },
      "cell_type": "code",
      "source": [
        "ls"
      ],
      "execution_count": 43,
      "outputs": [
        {
          "output_type": "stream",
          "text": [
            "01_Base_of_neuralnet_1.ipynb  01_Base_of_neuralnet_2.ipynb  notebookutil.py\n"
          ],
          "name": "stdout"
        }
      ]
    },
    {
      "metadata": {
        "id": "gNbNLwWEuXDe",
        "colab_type": "code",
        "colab": {}
      },
      "cell_type": "code",
      "source": [
        "# import sys\n",
        "# import notebookutil as nbu\n",
        "sys.meta_path.append(nbu.NotebookFinder())\n"
      ],
      "execution_count": 0,
      "outputs": []
    },
    {
      "metadata": {
        "id": "JDdJNt18vyIN",
        "colab_type": "code",
        "colab": {
          "resources": {
            "http://localhost:8080/nbextensions/google.colab/files.js": {
              "data": "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",
              "ok": true,
              "headers": [
                [
                  "content-type",
                  "application/javascript"
                ]
              ],
              "status": 200,
              "status_text": ""
            }
          },
          "base_uri": "https://localhost:8080/",
          "height": 74
        },
        "outputId": "bc372324-0f2c-40bc-dfb1-35fa18da814e"
      },
      "cell_type": "code",
      "source": [
        "from google.colab import files\n",
        "src = list(files.upload().values())[0]\n",
        "open('notebookutil.py','wb').write(src)\n",
        "import notebookutil as nbu"
      ],
      "execution_count": 47,
      "outputs": [
        {
          "output_type": "display_data",
          "data": {
            "text/html": [
              "\n",
              "     <input type=\"file\" id=\"files-1026ca80-52b8-43b4-9e71-64d5724c1ab4\" name=\"files[]\" multiple disabled />\n",
              "     <output id=\"result-1026ca80-52b8-43b4-9e71-64d5724c1ab4\">\n",
              "      Upload widget is only available when the cell has been executed in the\n",
              "      current browser session. Please rerun this cell to enable.\n",
              "      </output>\n",
              "      <script src=\"/nbextensions/google.colab/files.js\"></script> "
            ],
            "text/plain": [
              "<IPython.core.display.HTML object>"
            ]
          },
          "metadata": {
            "tags": []
          }
        },
        {
          "output_type": "stream",
          "text": [
            "Saving notebookutil.py to notebookutil (2).py\n"
          ],
          "name": "stdout"
        }
      ]
    },
    {
      "metadata": {
        "id": "tj6pKg6Bxrlw",
        "colab_type": "code",
        "colab": {
          "base_uri": "https://localhost:8080/",
          "height": 7042
        },
        "outputId": "b512b6ea-b709-4a3d-9cf0-de0107bbbb90"
      },
      "cell_type": "code",
      "source": [
        "import Base_of_neuralnet_01_1"
      ],
      "execution_count": 49,
      "outputs": [
        {
          "output_type": "stream",
          "text": [
            "60000 train samples\n",
            "10000 test samples\n",
            "_________________________________________________________________\n",
            "Layer (type)                 Output Shape              Param #   \n",
            "=================================================================\n",
            "dense_4 (Dense)              (None, 10)                7850      \n",
            "_________________________________________________________________\n",
            "activation_4 (Activation)    (None, 10)                0         \n",
            "=================================================================\n",
            "Total params: 7,850\n",
            "Trainable params: 7,850\n",
            "Non-trainable params: 0\n",
            "_________________________________________________________________\n",
            "Train on 48000 samples, validate on 12000 samples\n",
            "Epoch 1/200\n",
            "48000/48000 [==============================] - 1s 31us/step - loss: 1.3633 - acc: 0.6796 - val_loss: 0.8904 - val_acc: 0.8246\n",
            "Epoch 2/200\n",
            "48000/48000 [==============================] - 1s 31us/step - loss: 0.7913 - acc: 0.8272 - val_loss: 0.6572 - val_acc: 0.8546\n",
            "Epoch 3/200\n",
            "48000/48000 [==============================] - 1s 30us/step - loss: 0.6436 - acc: 0.8497 - val_loss: 0.5625 - val_acc: 0.8681\n",
            "Epoch 4/200\n",
            "48000/48000 [==============================] - 1s 31us/step - loss: 0.5717 - acc: 0.8602 - val_loss: 0.5098 - val_acc: 0.8765\n",
            "Epoch 5/200\n",
            "48000/48000 [==============================] - 1s 31us/step - loss: 0.5276 - acc: 0.8678 - val_loss: 0.4758 - val_acc: 0.8826\n",
            "Epoch 6/200\n",
            "48000/48000 [==============================] - 1s 31us/step - loss: 0.4973 - acc: 0.8726 - val_loss: 0.4515 - val_acc: 0.8866\n",
            "Epoch 7/200\n",
            "48000/48000 [==============================] - 1s 30us/step - loss: 0.4748 - acc: 0.8775 - val_loss: 0.4333 - val_acc: 0.8882\n",
            "Epoch 8/200\n",
            "48000/48000 [==============================] - 1s 30us/step - loss: 0.4574 - acc: 0.8803 - val_loss: 0.4189 - val_acc: 0.8920\n",
            "Epoch 9/200\n",
            "48000/48000 [==============================] - 1s 30us/step - loss: 0.4433 - acc: 0.8834 - val_loss: 0.4075 - val_acc: 0.8939\n",
            "Epoch 10/200\n",
            "48000/48000 [==============================] - 1s 30us/step - loss: 0.4317 - acc: 0.8850 - val_loss: 0.3977 - val_acc: 0.8966\n",
            "Epoch 11/200\n",
            "48000/48000 [==============================] - 1s 30us/step - loss: 0.4218 - acc: 0.8873 - val_loss: 0.3896 - val_acc: 0.8984\n",
            "Epoch 12/200\n",
            "48000/48000 [==============================] - 1s 30us/step - loss: 0.4134 - acc: 0.8888 - val_loss: 0.3827 - val_acc: 0.8995\n",
            "Epoch 13/200\n",
            "48000/48000 [==============================] - 1s 30us/step - loss: 0.4060 - acc: 0.8902 - val_loss: 0.3766 - val_acc: 0.9003\n",
            "Epoch 14/200\n",
            "48000/48000 [==============================] - 1s 30us/step - loss: 0.3995 - acc: 0.8918 - val_loss: 0.3712 - val_acc: 0.9013\n",
            "Epoch 15/200\n",
            "48000/48000 [==============================] - 1s 30us/step - loss: 0.3936 - acc: 0.8928 - val_loss: 0.3664 - val_acc: 0.9016\n",
            "Epoch 16/200\n",
            "48000/48000 [==============================] - 1s 31us/step - loss: 0.3884 - acc: 0.8945 - val_loss: 0.3621 - val_acc: 0.9031\n",
            "Epoch 17/200\n",
            "48000/48000 [==============================] - 1s 30us/step - loss: 0.3837 - acc: 0.8950 - val_loss: 0.3582 - val_acc: 0.9033\n",
            "Epoch 18/200\n",
            "48000/48000 [==============================] - 1s 30us/step - loss: 0.3794 - acc: 0.8962 - val_loss: 0.3546 - val_acc: 0.9039\n",
            "Epoch 19/200\n",
            "48000/48000 [==============================] - 1s 31us/step - loss: 0.3755 - acc: 0.8970 - val_loss: 0.3514 - val_acc: 0.9048\n",
            "Epoch 20/200\n",
            "48000/48000 [==============================] - 1s 31us/step - loss: 0.3718 - acc: 0.8979 - val_loss: 0.3485 - val_acc: 0.9053\n",
            "Epoch 21/200\n",
            "48000/48000 [==============================] - 1s 31us/step - loss: 0.3685 - acc: 0.8985 - val_loss: 0.3457 - val_acc: 0.9058\n",
            "Epoch 22/200\n",
            "48000/48000 [==============================] - 2s 31us/step - loss: 0.3653 - acc: 0.8995 - val_loss: 0.3431 - val_acc: 0.9058\n",
            "Epoch 23/200\n",
            "48000/48000 [==============================] - 1s 31us/step - loss: 0.3625 - acc: 0.8999 - val_loss: 0.3407 - val_acc: 0.9063\n",
            "Epoch 24/200\n",
            "48000/48000 [==============================] - 1s 31us/step - loss: 0.3598 - acc: 0.9008 - val_loss: 0.3385 - val_acc: 0.9070\n",
            "Epoch 25/200\n",
            "48000/48000 [==============================] - 2s 31us/step - loss: 0.3572 - acc: 0.9012 - val_loss: 0.3364 - val_acc: 0.9074\n",
            "Epoch 26/200\n",
            "48000/48000 [==============================] - 1s 30us/step - loss: 0.3548 - acc: 0.9019 - val_loss: 0.3345 - val_acc: 0.9084\n",
            "Epoch 27/200\n",
            "48000/48000 [==============================] - 1s 30us/step - loss: 0.3525 - acc: 0.9022 - val_loss: 0.3326 - val_acc: 0.9082\n",
            "Epoch 28/200\n",
            "48000/48000 [==============================] - 1s 30us/step - loss: 0.3504 - acc: 0.9032 - val_loss: 0.3311 - val_acc: 0.9090\n",
            "Epoch 29/200\n",
            "48000/48000 [==============================] - 1s 30us/step - loss: 0.3484 - acc: 0.9031 - val_loss: 0.3293 - val_acc: 0.9094\n",
            "Epoch 30/200\n",
            "48000/48000 [==============================] - 1s 30us/step - loss: 0.3465 - acc: 0.9041 - val_loss: 0.3277 - val_acc: 0.9097\n",
            "Epoch 31/200\n",
            "48000/48000 [==============================] - 1s 30us/step - loss: 0.3447 - acc: 0.9044 - val_loss: 0.3264 - val_acc: 0.9097\n",
            "Epoch 32/200\n",
            "48000/48000 [==============================] - 1s 30us/step - loss: 0.3430 - acc: 0.9047 - val_loss: 0.3249 - val_acc: 0.9097\n",
            "Epoch 33/200\n",
            "48000/48000 [==============================] - 1s 30us/step - loss: 0.3413 - acc: 0.9051 - val_loss: 0.3235 - val_acc: 0.9103\n",
            "Epoch 34/200\n",
            "48000/48000 [==============================] - 1s 30us/step - loss: 0.3397 - acc: 0.9056 - val_loss: 0.3222 - val_acc: 0.9104\n",
            "Epoch 35/200\n",
            "48000/48000 [==============================] - 1s 31us/step - loss: 0.3382 - acc: 0.9058 - val_loss: 0.3211 - val_acc: 0.9110\n",
            "Epoch 36/200\n",
            "48000/48000 [==============================] - 1s 30us/step - loss: 0.3368 - acc: 0.9062 - val_loss: 0.3198 - val_acc: 0.9110\n",
            "Epoch 37/200\n",
            "48000/48000 [==============================] - 1s 30us/step - loss: 0.3353 - acc: 0.9069 - val_loss: 0.3187 - val_acc: 0.9117\n",
            "Epoch 38/200\n",
            "48000/48000 [==============================] - 1s 31us/step - loss: 0.3340 - acc: 0.9075 - val_loss: 0.3177 - val_acc: 0.9120\n",
            "Epoch 39/200\n",
            "48000/48000 [==============================] - 1s 30us/step - loss: 0.3327 - acc: 0.9075 - val_loss: 0.3166 - val_acc: 0.9122\n",
            "Epoch 40/200\n",
            "48000/48000 [==============================] - 1s 30us/step - loss: 0.3314 - acc: 0.9078 - val_loss: 0.3159 - val_acc: 0.9118\n",
            "Epoch 41/200\n",
            "48000/48000 [==============================] - 1s 30us/step - loss: 0.3303 - acc: 0.9080 - val_loss: 0.3147 - val_acc: 0.9127\n",
            "Epoch 42/200\n",
            "48000/48000 [==============================] - 1s 30us/step - loss: 0.3291 - acc: 0.9084 - val_loss: 0.3138 - val_acc: 0.9132\n",
            "Epoch 43/200\n",
            "48000/48000 [==============================] - 1s 31us/step - loss: 0.3280 - acc: 0.9089 - val_loss: 0.3130 - val_acc: 0.9132\n",
            "Epoch 44/200\n",
            "48000/48000 [==============================] - 1s 30us/step - loss: 0.3270 - acc: 0.9091 - val_loss: 0.3121 - val_acc: 0.9132\n",
            "Epoch 45/200\n",
            "48000/48000 [==============================] - 1s 30us/step - loss: 0.3259 - acc: 0.9093 - val_loss: 0.3113 - val_acc: 0.9135\n",
            "Epoch 46/200\n",
            "48000/48000 [==============================] - 1s 30us/step - loss: 0.3249 - acc: 0.9095 - val_loss: 0.3105 - val_acc: 0.9137\n",
            "Epoch 47/200\n",
            "48000/48000 [==============================] - 1s 30us/step - loss: 0.3239 - acc: 0.9105 - val_loss: 0.3098 - val_acc: 0.9141\n",
            "Epoch 48/200\n",
            "48000/48000 [==============================] - 1s 30us/step - loss: 0.3230 - acc: 0.9105 - val_loss: 0.3090 - val_acc: 0.9146\n",
            "Epoch 49/200\n",
            "48000/48000 [==============================] - 1s 30us/step - loss: 0.3221 - acc: 0.9102 - val_loss: 0.3083 - val_acc: 0.9151\n",
            "Epoch 50/200\n",
            "48000/48000 [==============================] - 1s 30us/step - loss: 0.3212 - acc: 0.9109 - val_loss: 0.3075 - val_acc: 0.9150\n",
            "Epoch 51/200\n",
            "48000/48000 [==============================] - 1s 30us/step - loss: 0.3204 - acc: 0.9109 - val_loss: 0.3070 - val_acc: 0.9150\n",
            "Epoch 52/200\n",
            "48000/48000 [==============================] - 1s 30us/step - loss: 0.3195 - acc: 0.9112 - val_loss: 0.3063 - val_acc: 0.9148\n",
            "Epoch 53/200\n",
            "48000/48000 [==============================] - 1s 31us/step - loss: 0.3187 - acc: 0.9114 - val_loss: 0.3057 - val_acc: 0.9153\n",
            "Epoch 54/200\n",
            "48000/48000 [==============================] - 1s 30us/step - loss: 0.3180 - acc: 0.9117 - val_loss: 0.3050 - val_acc: 0.9148\n",
            "Epoch 55/200\n",
            "48000/48000 [==============================] - 1s 31us/step - loss: 0.3171 - acc: 0.9121 - val_loss: 0.3044 - val_acc: 0.9149\n",
            "Epoch 56/200\n",
            "48000/48000 [==============================] - 1s 30us/step - loss: 0.3164 - acc: 0.9121 - val_loss: 0.3037 - val_acc: 0.9156\n",
            "Epoch 57/200\n",
            "48000/48000 [==============================] - 1s 30us/step - loss: 0.3157 - acc: 0.9128 - val_loss: 0.3034 - val_acc: 0.9152\n",
            "Epoch 58/200\n",
            "48000/48000 [==============================] - 2s 31us/step - loss: 0.3149 - acc: 0.9121 - val_loss: 0.3029 - val_acc: 0.9148\n",
            "Epoch 59/200\n",
            "48000/48000 [==============================] - 2s 32us/step - loss: 0.3143 - acc: 0.9128 - val_loss: 0.3022 - val_acc: 0.9151\n",
            "Epoch 60/200\n",
            "48000/48000 [==============================] - 1s 30us/step - loss: 0.3136 - acc: 0.9129 - val_loss: 0.3016 - val_acc: 0.9161\n",
            "Epoch 61/200\n",
            "48000/48000 [==============================] - 1s 30us/step - loss: 0.3130 - acc: 0.9133 - val_loss: 0.3011 - val_acc: 0.9158\n",
            "Epoch 62/200\n",
            "48000/48000 [==============================] - 1s 30us/step - loss: 0.3123 - acc: 0.9131 - val_loss: 0.3007 - val_acc: 0.9151\n",
            "Epoch 63/200\n",
            "48000/48000 [==============================] - 1s 30us/step - loss: 0.3117 - acc: 0.9136 - val_loss: 0.3003 - val_acc: 0.9156\n",
            "Epoch 64/200\n",
            "48000/48000 [==============================] - 1s 30us/step - loss: 0.3110 - acc: 0.9137 - val_loss: 0.2997 - val_acc: 0.9158\n",
            "Epoch 65/200\n",
            "48000/48000 [==============================] - 1s 30us/step - loss: 0.3105 - acc: 0.9137 - val_loss: 0.2992 - val_acc: 0.9159\n",
            "Epoch 66/200\n",
            "48000/48000 [==============================] - 1s 30us/step - loss: 0.3098 - acc: 0.9138 - val_loss: 0.2988 - val_acc: 0.9161\n",
            "Epoch 67/200\n",
            "48000/48000 [==============================] - 1s 30us/step - loss: 0.3093 - acc: 0.9141 - val_loss: 0.2983 - val_acc: 0.9165\n",
            "Epoch 68/200\n",
            "48000/48000 [==============================] - 1s 29us/step - loss: 0.3087 - acc: 0.9139 - val_loss: 0.2979 - val_acc: 0.9166\n",
            "Epoch 69/200\n",
            "48000/48000 [==============================] - 1s 31us/step - loss: 0.3082 - acc: 0.9144 - val_loss: 0.2976 - val_acc: 0.9164\n",
            "Epoch 70/200\n",
            "48000/48000 [==============================] - 1s 30us/step - loss: 0.3077 - acc: 0.9145 - val_loss: 0.2971 - val_acc: 0.9166\n",
            "Epoch 71/200\n",
            "48000/48000 [==============================] - 1s 30us/step - loss: 0.3071 - acc: 0.9146 - val_loss: 0.2967 - val_acc: 0.9172\n",
            "Epoch 72/200\n",
            "48000/48000 [==============================] - 1s 30us/step - loss: 0.3066 - acc: 0.9147 - val_loss: 0.2964 - val_acc: 0.9167\n",
            "Epoch 73/200\n",
            "48000/48000 [==============================] - 1s 30us/step - loss: 0.3061 - acc: 0.9151 - val_loss: 0.2960 - val_acc: 0.9169\n",
            "Epoch 74/200\n",
            "48000/48000 [==============================] - 1s 31us/step - loss: 0.3056 - acc: 0.9150 - val_loss: 0.2956 - val_acc: 0.9173\n",
            "Epoch 75/200\n",
            "48000/48000 [==============================] - 1s 30us/step - loss: 0.3051 - acc: 0.9151 - val_loss: 0.2952 - val_acc: 0.9177\n",
            "Epoch 76/200\n",
            "48000/48000 [==============================] - 1s 30us/step - loss: 0.3046 - acc: 0.9152 - val_loss: 0.2950 - val_acc: 0.9173\n",
            "Epoch 77/200\n",
            "48000/48000 [==============================] - 1s 30us/step - loss: 0.3042 - acc: 0.9154 - val_loss: 0.2945 - val_acc: 0.9172\n",
            "Epoch 78/200\n",
            "48000/48000 [==============================] - 1s 30us/step - loss: 0.3037 - acc: 0.9154 - val_loss: 0.2942 - val_acc: 0.9176\n",
            "Epoch 79/200\n",
            "48000/48000 [==============================] - 1s 30us/step - loss: 0.3032 - acc: 0.9157 - val_loss: 0.2939 - val_acc: 0.9179\n",
            "Epoch 80/200\n",
            "48000/48000 [==============================] - 1s 30us/step - loss: 0.3028 - acc: 0.9156 - val_loss: 0.2936 - val_acc: 0.9177\n",
            "Epoch 81/200\n",
            "48000/48000 [==============================] - 1s 30us/step - loss: 0.3024 - acc: 0.9157 - val_loss: 0.2933 - val_acc: 0.9179\n",
            "Epoch 82/200\n",
            "48000/48000 [==============================] - 1s 30us/step - loss: 0.3019 - acc: 0.9157 - val_loss: 0.2930 - val_acc: 0.9178\n",
            "Epoch 83/200\n",
            "48000/48000 [==============================] - 1s 30us/step - loss: 0.3015 - acc: 0.9160 - val_loss: 0.2926 - val_acc: 0.9182\n",
            "Epoch 84/200\n",
            "48000/48000 [==============================] - 1s 30us/step - loss: 0.3011 - acc: 0.9161 - val_loss: 0.2924 - val_acc: 0.9179\n",
            "Epoch 85/200\n",
            "48000/48000 [==============================] - 1s 30us/step - loss: 0.3007 - acc: 0.9165 - val_loss: 0.2920 - val_acc: 0.9184\n",
            "Epoch 86/200\n",
            "48000/48000 [==============================] - 1s 30us/step - loss: 0.3003 - acc: 0.9164 - val_loss: 0.2918 - val_acc: 0.9185\n",
            "Epoch 87/200\n",
            "48000/48000 [==============================] - 1s 30us/step - loss: 0.2999 - acc: 0.9165 - val_loss: 0.2914 - val_acc: 0.9185\n",
            "Epoch 88/200\n",
            "48000/48000 [==============================] - 1s 30us/step - loss: 0.2995 - acc: 0.9166 - val_loss: 0.2911 - val_acc: 0.9188\n",
            "Epoch 89/200\n",
            "48000/48000 [==============================] - 1s 31us/step - loss: 0.2991 - acc: 0.9167 - val_loss: 0.2909 - val_acc: 0.9191\n",
            "Epoch 90/200\n",
            "48000/48000 [==============================] - 1s 30us/step - loss: 0.2988 - acc: 0.9169 - val_loss: 0.2906 - val_acc: 0.9191\n",
            "Epoch 91/200\n",
            "48000/48000 [==============================] - 1s 30us/step - loss: 0.2984 - acc: 0.9168 - val_loss: 0.2903 - val_acc: 0.9192\n",
            "Epoch 92/200\n",
            "48000/48000 [==============================] - 1s 30us/step - loss: 0.2981 - acc: 0.9170 - val_loss: 0.2901 - val_acc: 0.9196\n",
            "Epoch 93/200\n",
            "48000/48000 [==============================] - 1s 31us/step - loss: 0.2977 - acc: 0.9171 - val_loss: 0.2898 - val_acc: 0.9195\n",
            "Epoch 94/200\n",
            "48000/48000 [==============================] - 1s 30us/step - loss: 0.2973 - acc: 0.9172 - val_loss: 0.2895 - val_acc: 0.9196\n",
            "Epoch 95/200\n",
            "48000/48000 [==============================] - 1s 30us/step - loss: 0.2970 - acc: 0.9174 - val_loss: 0.2894 - val_acc: 0.9196\n",
            "Epoch 96/200\n",
            "48000/48000 [==============================] - 1s 30us/step - loss: 0.2967 - acc: 0.9174 - val_loss: 0.2891 - val_acc: 0.9198\n",
            "Epoch 97/200\n",
            "48000/48000 [==============================] - 1s 30us/step - loss: 0.2963 - acc: 0.9176 - val_loss: 0.2889 - val_acc: 0.9197\n",
            "Epoch 98/200\n",
            "48000/48000 [==============================] - 1s 30us/step - loss: 0.2960 - acc: 0.9174 - val_loss: 0.2886 - val_acc: 0.9202\n",
            "Epoch 99/200\n",
            "48000/48000 [==============================] - 1s 30us/step - loss: 0.2957 - acc: 0.9176 - val_loss: 0.2884 - val_acc: 0.9202\n",
            "Epoch 100/200\n",
            "48000/48000 [==============================] - 1s 30us/step - loss: 0.2953 - acc: 0.9178 - val_loss: 0.2882 - val_acc: 0.9200\n",
            "Epoch 101/200\n",
            "48000/48000 [==============================] - 1s 30us/step - loss: 0.2950 - acc: 0.9179 - val_loss: 0.2879 - val_acc: 0.9201\n",
            "Epoch 102/200\n",
            "48000/48000 [==============================] - 1s 30us/step - loss: 0.2947 - acc: 0.9180 - val_loss: 0.2877 - val_acc: 0.9204\n",
            "Epoch 103/200\n",
            "48000/48000 [==============================] - 1s 30us/step - loss: 0.2944 - acc: 0.9180 - val_loss: 0.2875 - val_acc: 0.9202\n",
            "Epoch 104/200\n",
            "48000/48000 [==============================] - 1s 30us/step - loss: 0.2941 - acc: 0.9184 - val_loss: 0.2873 - val_acc: 0.9202\n",
            "Epoch 105/200\n",
            "48000/48000 [==============================] - 1s 30us/step - loss: 0.2938 - acc: 0.9183 - val_loss: 0.2871 - val_acc: 0.9206\n",
            "Epoch 106/200\n",
            "48000/48000 [==============================] - 1s 30us/step - loss: 0.2935 - acc: 0.9183 - val_loss: 0.2868 - val_acc: 0.9202\n",
            "Epoch 107/200\n",
            "48000/48000 [==============================] - 1s 30us/step - loss: 0.2932 - acc: 0.9186 - val_loss: 0.2867 - val_acc: 0.9206\n",
            "Epoch 108/200\n",
            "48000/48000 [==============================] - 1s 30us/step - loss: 0.2929 - acc: 0.9185 - val_loss: 0.2864 - val_acc: 0.9208\n",
            "Epoch 109/200\n",
            "48000/48000 [==============================] - 1s 30us/step - loss: 0.2927 - acc: 0.9185 - val_loss: 0.2863 - val_acc: 0.9206\n",
            "Epoch 110/200\n",
            "48000/48000 [==============================] - 1s 30us/step - loss: 0.2923 - acc: 0.9187 - val_loss: 0.2860 - val_acc: 0.9204\n",
            "Epoch 111/200\n",
            "48000/48000 [==============================] - 1s 31us/step - loss: 0.2921 - acc: 0.9184 - val_loss: 0.2858 - val_acc: 0.9210\n",
            "Epoch 112/200\n",
            "48000/48000 [==============================] - 1s 30us/step - loss: 0.2918 - acc: 0.9187 - val_loss: 0.2857 - val_acc: 0.9207\n",
            "Epoch 113/200\n",
            "48000/48000 [==============================] - 1s 30us/step - loss: 0.2915 - acc: 0.9189 - val_loss: 0.2854 - val_acc: 0.9210\n",
            "Epoch 114/200\n",
            "48000/48000 [==============================] - 1s 30us/step - loss: 0.2913 - acc: 0.9188 - val_loss: 0.2853 - val_acc: 0.9211\n",
            "Epoch 115/200\n",
            "48000/48000 [==============================] - 1s 30us/step - loss: 0.2910 - acc: 0.9189 - val_loss: 0.2852 - val_acc: 0.9205\n",
            "Epoch 116/200\n",
            "48000/48000 [==============================] - 1s 30us/step - loss: 0.2908 - acc: 0.9189 - val_loss: 0.2849 - val_acc: 0.9213\n",
            "Epoch 117/200\n",
            "48000/48000 [==============================] - 1s 30us/step - loss: 0.2905 - acc: 0.9193 - val_loss: 0.2847 - val_acc: 0.9213\n",
            "Epoch 118/200\n",
            "48000/48000 [==============================] - 1s 30us/step - loss: 0.2902 - acc: 0.9192 - val_loss: 0.2846 - val_acc: 0.9212\n",
            "Epoch 119/200\n",
            "48000/48000 [==============================] - 1s 30us/step - loss: 0.2900 - acc: 0.9191 - val_loss: 0.2844 - val_acc: 0.9212\n",
            "Epoch 120/200\n",
            "48000/48000 [==============================] - 1s 31us/step - loss: 0.2898 - acc: 0.9192 - val_loss: 0.2842 - val_acc: 0.9212\n",
            "Epoch 121/200\n",
            "48000/48000 [==============================] - 1s 30us/step - loss: 0.2895 - acc: 0.9191 - val_loss: 0.2841 - val_acc: 0.9212\n",
            "Epoch 122/200\n",
            "48000/48000 [==============================] - 1s 31us/step - loss: 0.2892 - acc: 0.9192 - val_loss: 0.2840 - val_acc: 0.9212\n",
            "Epoch 123/200\n",
            "48000/48000 [==============================] - 1s 30us/step - loss: 0.2890 - acc: 0.9194 - val_loss: 0.2838 - val_acc: 0.9211\n",
            "Epoch 124/200\n",
            "48000/48000 [==============================] - 1s 30us/step - loss: 0.2888 - acc: 0.9197 - val_loss: 0.2837 - val_acc: 0.9210\n",
            "Epoch 125/200\n",
            "48000/48000 [==============================] - 1s 30us/step - loss: 0.2885 - acc: 0.9193 - val_loss: 0.2835 - val_acc: 0.9207\n",
            "Epoch 126/200\n",
            "48000/48000 [==============================] - 1s 30us/step - loss: 0.2883 - acc: 0.9197 - val_loss: 0.2834 - val_acc: 0.9217\n",
            "Epoch 127/200\n",
            "48000/48000 [==============================] - 1s 30us/step - loss: 0.2881 - acc: 0.9194 - val_loss: 0.2832 - val_acc: 0.9212\n",
            "Epoch 128/200\n",
            "48000/48000 [==============================] - 1s 31us/step - loss: 0.2879 - acc: 0.9194 - val_loss: 0.2830 - val_acc: 0.9210\n",
            "Epoch 129/200\n",
            "48000/48000 [==============================] - 2s 32us/step - loss: 0.2876 - acc: 0.9196 - val_loss: 0.2828 - val_acc: 0.9217\n",
            "Epoch 130/200\n",
            "48000/48000 [==============================] - 1s 31us/step - loss: 0.2874 - acc: 0.9197 - val_loss: 0.2826 - val_acc: 0.9216\n",
            "Epoch 131/200\n",
            "48000/48000 [==============================] - 2s 32us/step - loss: 0.2871 - acc: 0.9200 - val_loss: 0.2827 - val_acc: 0.9211\n",
            "Epoch 132/200\n",
            "48000/48000 [==============================] - 1s 30us/step - loss: 0.2870 - acc: 0.9197 - val_loss: 0.2824 - val_acc: 0.9213\n",
            "Epoch 133/200\n",
            "48000/48000 [==============================] - 1s 30us/step - loss: 0.2868 - acc: 0.9198 - val_loss: 0.2823 - val_acc: 0.9216\n",
            "Epoch 134/200\n",
            "48000/48000 [==============================] - 1s 31us/step - loss: 0.2866 - acc: 0.9199 - val_loss: 0.2822 - val_acc: 0.9214\n",
            "Epoch 135/200\n",
            "48000/48000 [==============================] - 1s 30us/step - loss: 0.2863 - acc: 0.9203 - val_loss: 0.2820 - val_acc: 0.9213\n",
            "Epoch 136/200\n",
            "48000/48000 [==============================] - 1s 30us/step - loss: 0.2861 - acc: 0.9196 - val_loss: 0.2818 - val_acc: 0.9215\n",
            "Epoch 137/200\n",
            "48000/48000 [==============================] - 1s 30us/step - loss: 0.2859 - acc: 0.9198 - val_loss: 0.2818 - val_acc: 0.9217\n",
            "Epoch 138/200\n",
            "48000/48000 [==============================] - 1s 30us/step - loss: 0.2857 - acc: 0.9203 - val_loss: 0.2815 - val_acc: 0.9218\n",
            "Epoch 139/200\n",
            "48000/48000 [==============================] - 1s 30us/step - loss: 0.2855 - acc: 0.9203 - val_loss: 0.2814 - val_acc: 0.9215\n",
            "Epoch 140/200\n",
            "48000/48000 [==============================] - 1s 30us/step - loss: 0.2853 - acc: 0.9201 - val_loss: 0.2812 - val_acc: 0.9216\n",
            "Epoch 141/200\n",
            "48000/48000 [==============================] - 1s 30us/step - loss: 0.2852 - acc: 0.9204 - val_loss: 0.2811 - val_acc: 0.9217\n",
            "Epoch 142/200\n",
            "48000/48000 [==============================] - 1s 30us/step - loss: 0.2849 - acc: 0.9201 - val_loss: 0.2810 - val_acc: 0.9217\n",
            "Epoch 143/200\n",
            "48000/48000 [==============================] - 1s 30us/step - loss: 0.2848 - acc: 0.9205 - val_loss: 0.2809 - val_acc: 0.9219\n",
            "Epoch 144/200\n",
            "48000/48000 [==============================] - 1s 30us/step - loss: 0.2846 - acc: 0.9208 - val_loss: 0.2808 - val_acc: 0.9217\n",
            "Epoch 145/200\n",
            "48000/48000 [==============================] - 1s 30us/step - loss: 0.2844 - acc: 0.9207 - val_loss: 0.2806 - val_acc: 0.9221\n",
            "Epoch 146/200\n",
            "48000/48000 [==============================] - 1s 30us/step - loss: 0.2841 - acc: 0.9206 - val_loss: 0.2806 - val_acc: 0.9220\n",
            "Epoch 147/200\n",
            "48000/48000 [==============================] - 1s 30us/step - loss: 0.2840 - acc: 0.9207 - val_loss: 0.2804 - val_acc: 0.9217\n",
            "Epoch 148/200\n",
            "48000/48000 [==============================] - 1s 30us/step - loss: 0.2838 - acc: 0.9209 - val_loss: 0.2803 - val_acc: 0.9218\n",
            "Epoch 149/200\n",
            "48000/48000 [==============================] - 1s 30us/step - loss: 0.2836 - acc: 0.9208 - val_loss: 0.2802 - val_acc: 0.9216\n",
            "Epoch 150/200\n",
            "48000/48000 [==============================] - 1s 29us/step - loss: 0.2835 - acc: 0.9210 - val_loss: 0.2800 - val_acc: 0.9225\n",
            "Epoch 151/200\n",
            "48000/48000 [==============================] - 1s 30us/step - loss: 0.2833 - acc: 0.9210 - val_loss: 0.2799 - val_acc: 0.9226\n",
            "Epoch 152/200\n",
            "48000/48000 [==============================] - 1s 30us/step - loss: 0.2831 - acc: 0.9211 - val_loss: 0.2798 - val_acc: 0.9222\n",
            "Epoch 153/200\n",
            "48000/48000 [==============================] - 1s 31us/step - loss: 0.2829 - acc: 0.9207 - val_loss: 0.2797 - val_acc: 0.9224\n",
            "Epoch 154/200\n",
            "48000/48000 [==============================] - 1s 30us/step - loss: 0.2827 - acc: 0.9209 - val_loss: 0.2796 - val_acc: 0.9222\n",
            "Epoch 155/200\n",
            "48000/48000 [==============================] - 1s 30us/step - loss: 0.2826 - acc: 0.9208 - val_loss: 0.2795 - val_acc: 0.9225\n",
            "Epoch 156/200\n",
            "48000/48000 [==============================] - 1s 30us/step - loss: 0.2824 - acc: 0.9210 - val_loss: 0.2794 - val_acc: 0.9224\n",
            "Epoch 157/200\n",
            "48000/48000 [==============================] - 1s 30us/step - loss: 0.2822 - acc: 0.9210 - val_loss: 0.2793 - val_acc: 0.9224\n",
            "Epoch 158/200\n",
            "48000/48000 [==============================] - 1s 30us/step - loss: 0.2821 - acc: 0.9214 - val_loss: 0.2792 - val_acc: 0.9226\n",
            "Epoch 159/200\n",
            "48000/48000 [==============================] - 1s 30us/step - loss: 0.2819 - acc: 0.9214 - val_loss: 0.2791 - val_acc: 0.9226\n",
            "Epoch 160/200\n",
            "48000/48000 [==============================] - 1s 30us/step - loss: 0.2817 - acc: 0.9213 - val_loss: 0.2790 - val_acc: 0.9225\n",
            "Epoch 161/200\n",
            "48000/48000 [==============================] - 1s 30us/step - loss: 0.2816 - acc: 0.9214 - val_loss: 0.2789 - val_acc: 0.9222\n",
            "Epoch 162/200\n",
            "48000/48000 [==============================] - 1s 30us/step - loss: 0.2814 - acc: 0.9215 - val_loss: 0.2788 - val_acc: 0.9227\n",
            "Epoch 163/200\n",
            "48000/48000 [==============================] - 1s 30us/step - loss: 0.2812 - acc: 0.9213 - val_loss: 0.2787 - val_acc: 0.9225\n",
            "Epoch 164/200\n",
            "48000/48000 [==============================] - 1s 30us/step - loss: 0.2811 - acc: 0.9216 - val_loss: 0.2786 - val_acc: 0.9225\n",
            "Epoch 165/200\n",
            "48000/48000 [==============================] - 1s 30us/step - loss: 0.2809 - acc: 0.9215 - val_loss: 0.2785 - val_acc: 0.9227\n",
            "Epoch 166/200\n",
            "48000/48000 [==============================] - 1s 30us/step - loss: 0.2807 - acc: 0.9216 - val_loss: 0.2784 - val_acc: 0.9225\n",
            "Epoch 167/200\n",
            "48000/48000 [==============================] - 1s 30us/step - loss: 0.2806 - acc: 0.9217 - val_loss: 0.2784 - val_acc: 0.9227\n",
            "Epoch 168/200\n",
            "48000/48000 [==============================] - 1s 30us/step - loss: 0.2804 - acc: 0.9219 - val_loss: 0.2782 - val_acc: 0.9228\n",
            "Epoch 169/200\n",
            "48000/48000 [==============================] - 1s 30us/step - loss: 0.2803 - acc: 0.9216 - val_loss: 0.2782 - val_acc: 0.9227\n",
            "Epoch 170/200\n",
            "48000/48000 [==============================] - 1s 30us/step - loss: 0.2801 - acc: 0.9216 - val_loss: 0.2781 - val_acc: 0.9227\n",
            "Epoch 171/200\n",
            "48000/48000 [==============================] - 1s 30us/step - loss: 0.2800 - acc: 0.9220 - val_loss: 0.2780 - val_acc: 0.9226\n",
            "Epoch 172/200\n",
            "48000/48000 [==============================] - 1s 30us/step - loss: 0.2798 - acc: 0.9218 - val_loss: 0.2778 - val_acc: 0.9231\n",
            "Epoch 173/200\n",
            "48000/48000 [==============================] - 1s 30us/step - loss: 0.2797 - acc: 0.9217 - val_loss: 0.2778 - val_acc: 0.9229\n",
            "Epoch 174/200\n",
            "48000/48000 [==============================] - 1s 30us/step - loss: 0.2796 - acc: 0.9217 - val_loss: 0.2777 - val_acc: 0.9227\n",
            "Epoch 175/200\n",
            "48000/48000 [==============================] - 1s 30us/step - loss: 0.2794 - acc: 0.9218 - val_loss: 0.2776 - val_acc: 0.9232\n",
            "Epoch 176/200\n",
            "48000/48000 [==============================] - 1s 30us/step - loss: 0.2793 - acc: 0.9220 - val_loss: 0.2775 - val_acc: 0.9232\n",
            "Epoch 177/200\n",
            "48000/48000 [==============================] - 1s 30us/step - loss: 0.2791 - acc: 0.9219 - val_loss: 0.2774 - val_acc: 0.9234\n",
            "Epoch 178/200\n",
            "48000/48000 [==============================] - 1s 30us/step - loss: 0.2790 - acc: 0.9221 - val_loss: 0.2774 - val_acc: 0.9228\n",
            "Epoch 179/200\n",
            "48000/48000 [==============================] - 1s 30us/step - loss: 0.2788 - acc: 0.9221 - val_loss: 0.2773 - val_acc: 0.9232\n",
            "Epoch 180/200\n",
            "48000/48000 [==============================] - 1s 30us/step - loss: 0.2787 - acc: 0.9221 - val_loss: 0.2771 - val_acc: 0.9235\n",
            "Epoch 181/200\n",
            "48000/48000 [==============================] - 1s 30us/step - loss: 0.2785 - acc: 0.9223 - val_loss: 0.2770 - val_acc: 0.9232\n",
            "Epoch 182/200\n",
            "48000/48000 [==============================] - 1s 30us/step - loss: 0.2784 - acc: 0.9220 - val_loss: 0.2769 - val_acc: 0.9231\n",
            "Epoch 183/200\n",
            "48000/48000 [==============================] - 1s 30us/step - loss: 0.2783 - acc: 0.9223 - val_loss: 0.2769 - val_acc: 0.9231\n",
            "Epoch 184/200\n",
            "48000/48000 [==============================] - 1s 30us/step - loss: 0.2781 - acc: 0.9223 - val_loss: 0.2768 - val_acc: 0.9230\n",
            "Epoch 185/200\n",
            "48000/48000 [==============================] - 1s 30us/step - loss: 0.2780 - acc: 0.9224 - val_loss: 0.2767 - val_acc: 0.9233\n",
            "Epoch 186/200\n",
            "48000/48000 [==============================] - 1s 30us/step - loss: 0.2779 - acc: 0.9223 - val_loss: 0.2766 - val_acc: 0.9236\n",
            "Epoch 187/200\n",
            "48000/48000 [==============================] - 1s 30us/step - loss: 0.2777 - acc: 0.9224 - val_loss: 0.2766 - val_acc: 0.9233\n",
            "Epoch 188/200\n",
            "48000/48000 [==============================] - 1s 30us/step - loss: 0.2776 - acc: 0.9226 - val_loss: 0.2765 - val_acc: 0.9236\n",
            "Epoch 189/200\n",
            "48000/48000 [==============================] - 1s 30us/step - loss: 0.2775 - acc: 0.9225 - val_loss: 0.2764 - val_acc: 0.9235\n",
            "Epoch 190/200\n",
            "48000/48000 [==============================] - 1s 31us/step - loss: 0.2773 - acc: 0.9225 - val_loss: 0.2764 - val_acc: 0.9235\n",
            "Epoch 191/200\n",
            "48000/48000 [==============================] - 1s 30us/step - loss: 0.2772 - acc: 0.9225 - val_loss: 0.2763 - val_acc: 0.9237\n",
            "Epoch 192/200\n",
            "48000/48000 [==============================] - 1s 30us/step - loss: 0.2770 - acc: 0.9226 - val_loss: 0.2762 - val_acc: 0.9238\n",
            "Epoch 193/200\n",
            "48000/48000 [==============================] - 1s 30us/step - loss: 0.2770 - acc: 0.9226 - val_loss: 0.2761 - val_acc: 0.9237\n",
            "Epoch 194/200\n",
            "48000/48000 [==============================] - 1s 30us/step - loss: 0.2768 - acc: 0.9226 - val_loss: 0.2761 - val_acc: 0.9236\n",
            "Epoch 195/200\n",
            "48000/48000 [==============================] - 1s 30us/step - loss: 0.2767 - acc: 0.9231 - val_loss: 0.2760 - val_acc: 0.9239\n",
            "Epoch 196/200\n",
            "48000/48000 [==============================] - 1s 30us/step - loss: 0.2766 - acc: 0.9226 - val_loss: 0.2758 - val_acc: 0.9241\n",
            "Epoch 197/200\n",
            "48000/48000 [==============================] - 1s 30us/step - loss: 0.2765 - acc: 0.9229 - val_loss: 0.2758 - val_acc: 0.9242\n",
            "Epoch 198/200\n",
            "48000/48000 [==============================] - 1s 30us/step - loss: 0.2763 - acc: 0.9231 - val_loss: 0.2758 - val_acc: 0.9236\n",
            "Epoch 199/200\n",
            "48000/48000 [==============================] - 1s 30us/step - loss: 0.2762 - acc: 0.9229 - val_loss: 0.2757 - val_acc: 0.9241\n",
            "Epoch 200/200\n",
            "48000/48000 [==============================] - 1s 31us/step - loss: 0.2761 - acc: 0.9230 - val_loss: 0.2756 - val_acc: 0.9241\n",
            "10000/10000 [==============================] - 0s 45us/step\n",
            "Test score: 0.2773858504086733\n",
            "Test accuracy: 0.9227\n"
          ],
          "name": "stdout"
        }
      ]
    },
    {
      "metadata": {
        "id": "_PuRUlJfyaX0",
        "colab_type": "code",
        "colab": {}
      },
      "cell_type": "code",
      "source": [
        ""
      ],
      "execution_count": 0,
      "outputs": []
    }
  ]
}