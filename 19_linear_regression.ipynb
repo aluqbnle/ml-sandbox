{
  "nbformat": 4,
  "nbformat_minor": 0,
  "metadata": {
    "colab": {
      "name": "19_linear_regression.ipynb",
      "version": "0.3.2",
      "provenance": [],
      "collapsed_sections": [],
      "include_colab_link": true
    },
    "kernelspec": {
      "name": "python3",
      "display_name": "Python 3"
    },
    "accelerator": "GPU"
  },
  "cells": [
    {
      "cell_type": "markdown",
      "metadata": {
        "id": "view-in-github",
        "colab_type": "text"
      },
      "source": [
        "<a href=\"https://colab.research.google.com/github/aluqbnle/ml-sandbox/blob/master/19_linear_regression.ipynb\" target=\"_parent\"><img src=\"https://colab.research.google.com/assets/colab-badge.svg\" alt=\"Open In Colab\"/></a>"
      ]
    },
    {
      "metadata": {
        "id": "0D-7LF8TBUze",
        "colab_type": "text"
      },
      "cell_type": "markdown",
      "source": [
        "# 線形回帰"
      ]
    },
    {
      "metadata": {
        "id": "yL9nTx44mAs7",
        "colab_type": "text"
      },
      "cell_type": "markdown",
      "source": [
        "-------"
      ]
    },
    {
      "metadata": {
        "id": "Zx-MH-KyBryv",
        "colab_type": "text"
      },
      "cell_type": "markdown",
      "source": [
        "\n",
        "\n",
        "$$\n",
        "y = w _ { 0 } x _ { 0 } + w _ { 1 } x _ { 1 } + \\cdots + w _ { m } x _ { m } = \\sum _ { k = 0 } ^ { m } w _ { k } x _ { k }\n",
        "$$\n",
        "\n"
      ]
    },
    {
      "metadata": {
        "id": "DzAWqjukCa9s",
        "colab_type": "text"
      },
      "cell_type": "markdown",
      "source": [
        "目的変数yを説明変数xで表すことを線形回帰と呼ぶ。ただし$$x_0 = 1$$とする。また、$$m=1$$の時を単回帰。$$m\\geq2$$の時を重回帰と呼ぶ。"
      ]
    },
    {
      "metadata": {
        "id": "gp7vDhEiD0z1",
        "colab_type": "text"
      },
      "cell_type": "markdown",
      "source": [
        "## 単回帰"
      ]
    },
    {
      "metadata": {
        "id": "UqzpUuCtEICQ",
        "colab_type": "text"
      },
      "cell_type": "markdown",
      "source": [
        "$$\n",
        "y = w _ { 0 } x _ { 0 } + w _ { 1 } x _ { 1 } = w _ { 0 } + w _ { 1 } x _ { 1 }\n",
        "$$"
      ]
    },
    {
      "metadata": {
        "id": "cYNt6iELEonB",
        "colab_type": "text"
      },
      "cell_type": "markdown",
      "source": [
        "観測点を最も適切に表現する直線を求める"
      ]
    },
    {
      "metadata": {
        "id": "2lAbmOYfEdVz",
        "colab_type": "text"
      },
      "cell_type": "markdown",
      "source": [
        "## 重回帰"
      ]
    },
    {
      "metadata": {
        "id": "aSW61iJnEffh",
        "colab_type": "text"
      },
      "cell_type": "markdown",
      "source": [
        "$$\n",
        "v = w _ { n } x _ { n } + w _ { 1 } x _ { 1 } + w _ { n } x _ { n } = w _ { 0 } + w _ { 1 } x _ { 1 } + w _ { 2 } x _ { 2 }\n",
        "$$"
      ]
    },
    {
      "metadata": {
        "id": "thI49NmlEqn_",
        "colab_type": "text"
      },
      "cell_type": "markdown",
      "source": [
        "観測点を最も適切に表現する平面を求める"
      ]
    },
    {
      "metadata": {
        "id": "IncUZXG-FaBW",
        "colab_type": "text"
      },
      "cell_type": "markdown",
      "source": [
        "##重みの更新"
      ]
    },
    {
      "metadata": {
        "id": "muGFzpWvFhfD",
        "colab_type": "text"
      },
      "cell_type": "markdown",
      "source": [
        "### 最小二乗法\n",
        "みんな大好き最小二乗法"
      ]
    },
    {
      "metadata": {
        "id": "yAmDhShUFtZI",
        "colab_type": "text"
      },
      "cell_type": "markdown",
      "source": [
        "$$\n",
        "L ( \\boldsymbol { w } ) = \\frac { 1 } { 2 } \\sum _ { i = 1 } ^ { n } \\left( y ^ { ( i ) } - \\hat { y } ^ { ( i ) } \\right) ^ { 2 }\n",
        "$$"
      ]
    },
    {
      "metadata": {
        "id": "cpJqHnsvFwqn",
        "colab_type": "text"
      },
      "cell_type": "markdown",
      "source": [
        "Lが目的関数である。"
      ]
    },
    {
      "metadata": {
        "id": "5Ii-Zeb9F42g",
        "colab_type": "text"
      },
      "cell_type": "markdown",
      "source": [
        "### 勾配降下法\n",
        "コスト関数Eを\n",
        "$$\n",
        "E ( \\boldsymbol { w } ) = L ( \\boldsymbol { w } ) = \\frac { 1 } { 2 } \\sum _ { i = 1 } ^ { n } \\left( y ^ { ( i ) } - \\hat { y } ^ { ( i ) } \\right) ^ { 2 }\n",
        "$$\n",
        "として\n",
        "\n",
        "$$\n",
        "\\begin{aligned} \\frac { \\partial } { \\partial w _ { j } } E ( \\boldsymbol { w } ) & = \\frac { 1 } { 2 } \\sum _ { i } ^ { n } 2 \\left( y ^ { ( i ) } - \\hat { y } ^ { ( i ) } \\right) \\frac { \\partial } { \\partial w _ { j } } \\left( y ^ { ( i ) } - \\hat { y } ^ { ( i ) } \\right) \\\\ & = \\sum _ { i } ^ { n } \\left( y ^ { ( i ) } - \\hat { y } ^ { ( i ) } \\right) \\frac { \\partial } { \\partial w _ { j } } \\left( y ^ { ( i ) } - \\sum _ { k } w _ { k } x _ { k } ^ { ( i ) } \\right) \\\\ & = \\sum _ { i } ^ { n } \\left( y ^ { ( i ) } - \\hat { y } ^ { ( i ) } \\right) \\left( - x _ { j } ^ { ( i ) } \\right) \\\\ & = - \\sum _ { i } ^ { n } \\left( y ^ { ( i ) } - \\hat { y } ^ { ( i ) } \\right) x _ { j } ^ { ( i ) } \\end{aligned}\n",
        "$$\n",
        "によって勾配を求める。\n",
        "\n",
        "したがって、重みの更新式は\n",
        "$$\n",
        "w _ { j } \\leftarrow w _ { j } + \\eta \\sum _ { i = 1 } ^ { n } \\left( y ^ { ( i ) } - \\hat { y } ^ { ( i ) } \\right) x _ { j } ^ { ( i ) }\n",
        "$$\n",
        "となる。ηは学習率である。"
      ]
    },
    {
      "metadata": {
        "id": "OSkys2PiHwAX",
        "colab_type": "text"
      },
      "cell_type": "markdown",
      "source": [
        "## 決定係数\n",
        "回帰タスクの評価指標である決定係数は残差平方和と総平方和の２つから求める。"
      ]
    },
    {
      "metadata": {
        "id": "TF5VyJ2NIbY8",
        "colab_type": "text"
      },
      "cell_type": "markdown",
      "source": [
        "### 残差平方和\n",
        "RSSという\n",
        "$$\n",
        "\\mathrm { RSS } = \\sum _ { i = 1 } ^ { n } \\left( y ^ { ( i ) } - \\hat { y } ^ { ( i ) } \\right) ^ { 2 }\n",
        "$$\n",
        "によって定義される。最小事情の目的関数Lを二倍したものである。"
      ]
    },
    {
      "metadata": {
        "id": "I8DIijWHI-gt",
        "colab_type": "text"
      },
      "cell_type": "markdown",
      "source": [
        "### 総平方和\n",
        "正解値の平均をyバーとして\n",
        "$$\n",
        "\\overline { y } = \\frac { 1 } { n } \\sum _ { i = 1 } ^ { n } y ^ { ( i ) }\n",
        "$$\n",
        "総平方和TSS\n",
        "$$\n",
        "\\mathrm { TSS } = \\sum _ { i = 1 } ^ { n } \\left( y ^ { ( i ) } - \\overline { y } \\right) ^ { 2 }\n",
        "$$\n",
        "である。"
      ]
    },
    {
      "metadata": {
        "id": "TeG0BJTY6fJm",
        "colab_type": "text"
      },
      "cell_type": "markdown",
      "source": [
        "### 決定係数\n",
        "決定係数 (coefficient of determination) は残差平方和 (RSS) と総平方和 (TSS) を用いて、\n",
        "$$\n",
        "R ^ { 2 } = 1 - \\frac { \\mathrm { RRS } } { \\mathrm { TSS } }\n",
        "$$\n",
        "と定義される。誤差(RSS)が0のとき1となり1に近いほど性能の良いモデルであると評価できる。\n",
        "\n",
        "RSS、残差平方和の平均を平均二乗誤差 (mean squared error, MSE) と呼ぶこともでき、\n",
        "$$\n",
        "\\mathrm { MSE } = \\frac { 1 } { n } \\sum _ { i = 1 } ^ { n } \\left( y ^ { ( i ) } - \\hat { y } ^ { ( i ) } \\right) ^ { 2 }\n",
        "$$\n",
        "として表される。\n",
        "平均二乗誤差を利用すると、 R二条は\n",
        "$$\n",
        "\\begin{aligned} R ^ { 2 } & = 1 - \\frac { \\mathrm { RRS } } { \\mathrm { TSS } } \\\\ & = 1 - \\frac { \\frac { 1 } { n } \\sum _ { i = 1 } ^ { n } \\left( y ^ { ( i ) } - \\hat { y } ^ { ( i ) } \\right) ^ { 2 } } { \\frac { 1 } { n } \\sum _ { i = 1 } ^ { n } \\left( y ^ { ( i ) } - \\overline { y } \\right) ^ { 2 } } \\\\ & = 1 - \\frac { \\mathrm { MSE } } { \\operatorname { Var } ( y ) } \\end{aligned}\n",
        "$$\n",
        "と変形できます。ここでVar(y)は正解地の分散であり、\n",
        "$$\n",
        "\\begin{aligned} \\operatorname { Var } ( y ) & = \\frac { 1 } { n } \\sum _ { i = 1 } ^ { n } \\left( y ^ { ( i ) } - \\overline { y } \\right) ^ { 2 } \\\\ & = \\frac { 1 } { n } \\mathrm { TSS } \\end{aligned}\n",
        "$$\n",
        "として定義される。\n"
      ]
    },
    {
      "metadata": {
        "id": "1AGZzG4Yl9VN",
        "colab_type": "text"
      },
      "cell_type": "markdown",
      "source": [
        "-----"
      ]
    },
    {
      "metadata": {
        "id": "laPHuj0jUdUf",
        "colab_type": "text"
      },
      "cell_type": "markdown",
      "source": [
        "## 実験"
      ]
    },
    {
      "metadata": {
        "id": "oE7ky-Rll5uA",
        "colab_type": "text"
      },
      "cell_type": "markdown",
      "source": [
        "### データの読み込み"
      ]
    },
    {
      "metadata": {
        "id": "TqI3ICboBMFc",
        "colab_type": "code",
        "colab": {}
      },
      "cell_type": "code",
      "source": [
        "import numpy\n",
        "from pandas import DataFrame\n",
        "from sklearn.datasets import load_boston\n",
        "from sklearn.model_selection import train_test_split"
      ],
      "execution_count": 0,
      "outputs": []
    },
    {
      "metadata": {
        "id": "K5qmIImcUc85",
        "colab_type": "code",
        "colab": {}
      },
      "cell_type": "code",
      "source": [
        "boston = load_boston()\n",
        "X = boston.data  # 特徴量\n",
        "y = boston.target  # 目的変数\n",
        "feature_names = boston.feature_names  # 特徴量名\n",
        "\n",
        "df = DataFrame(data=X, columns=feature_names)\n",
        "df['MEDV'] = y  # 目的変数"
      ],
      "execution_count": 0,
      "outputs": []
    },
    {
      "metadata": {
        "id": "ynPCsOsNUm7W",
        "colab_type": "code",
        "colab": {}
      },
      "cell_type": "code",
      "source": [
        "X = df[['RM', 'LSTAT']].values\n",
        "y = df['MEDV'].values"
      ],
      "execution_count": 0,
      "outputs": []
    },
    {
      "metadata": {
        "id": "HrU3hCaqlkmm",
        "colab_type": "code",
        "colab": {}
      },
      "cell_type": "code",
      "source": [
        "X_train, X_test, y_train, y_test = train_test_split(X, y, test_size=0.30, random_state=42)"
      ],
      "execution_count": 0,
      "outputs": []
    },
    {
      "metadata": {
        "id": "wXEZ0mEtlo_r",
        "colab_type": "code",
        "colab": {}
      },
      "cell_type": "code",
      "source": [
        "X_train0 = X_train[:, 0].reshape(-1, 1)  # 訓練データのRM\n",
        "X_train1 = X_train[:, 1].reshape(-1, 1)  # 訓練データのLSTAT\n",
        "X_test0 = X_test[:, 0].reshape(-1, 1)  # テストデータのRM\n",
        "X_test1 = X_test[:, 1].reshape(-1, 1)  # テストデータのLSTAT"
      ],
      "execution_count": 0,
      "outputs": []
    },
    {
      "metadata": {
        "id": "-RqTEbGilsCs",
        "colab_type": "code",
        "colab": {
          "base_uri": "https://localhost:8080/",
          "height": 34
        },
        "outputId": "806927a2-3110-4deb-b5ca-cbcd9115c9cc"
      },
      "cell_type": "code",
      "source": [
        "# reshape なし\n",
        "print(X_train[:10, 0])"
      ],
      "execution_count": 24,
      "outputs": [
        {
          "output_type": "stream",
          "text": [
            "[6.43  6.176 5.682 5.935 5.926 6.398 6.998 5.683 6.153 5.741]\n"
          ],
          "name": "stdout"
        }
      ]
    },
    {
      "metadata": {
        "id": "W_Cca6oblvgQ",
        "colab_type": "code",
        "colab": {
          "base_uri": "https://localhost:8080/",
          "height": 185
        },
        "outputId": "9b644235-c041-48e0-fd0d-790dc13580da"
      },
      "cell_type": "code",
      "source": [
        "# reshape あり\n",
        "print(X_train[:10, 0].reshape(-1, 1))"
      ],
      "execution_count": 25,
      "outputs": [
        {
          "output_type": "stream",
          "text": [
            "[[6.43 ]\n",
            " [6.176]\n",
            " [5.682]\n",
            " [5.935]\n",
            " [5.926]\n",
            " [6.398]\n",
            " [6.998]\n",
            " [5.683]\n",
            " [6.153]\n",
            " [5.741]]\n"
          ],
          "name": "stdout"
        }
      ]
    },
    {
      "metadata": {
        "id": "exaHu870l1s3",
        "colab_type": "code",
        "colab": {
          "base_uri": "https://localhost:8080/",
          "height": 185
        },
        "outputId": "dea7e43b-0bd3-4693-e609-9bd584daf612"
      },
      "cell_type": "code",
      "source": [
        "print(X_train[:10])"
      ],
      "execution_count": 26,
      "outputs": [
        {
          "output_type": "stream",
          "text": [
            "[[ 6.43   5.21 ]\n",
            " [ 6.176 12.04 ]\n",
            " [ 5.682 10.21 ]\n",
            " [ 5.935  6.58 ]\n",
            " [ 5.926 18.13 ]\n",
            " [ 6.398  7.79 ]\n",
            " [ 6.998  2.94 ]\n",
            " [ 5.683 22.98 ]\n",
            " [ 6.153 13.15 ]\n",
            " [ 5.741 13.15 ]]\n"
          ],
          "name": "stdout"
        }
      ]
    },
    {
      "metadata": {
        "id": "euCZ0qEqmOkl",
        "colab_type": "text"
      },
      "cell_type": "markdown",
      "source": [
        "### 前処理"
      ]
    },
    {
      "metadata": {
        "id": "n4oBiiIomHrx",
        "colab_type": "code",
        "colab": {}
      },
      "cell_type": "code",
      "source": [
        "from sklearn.preprocessing import MinMaxScaler, StandardScaler"
      ],
      "execution_count": 0,
      "outputs": []
    },
    {
      "metadata": {
        "id": "OCcUb1txmdki",
        "colab_type": "code",
        "colab": {}
      },
      "cell_type": "code",
      "source": [
        "standerd_scaler = StandardScaler()\n",
        "X_train_scaled0 = standerd_scaler.fit_transform(X_train0)  # 訓練データのスケーリング\n",
        "X_test_scaled0 = standerd_scaler.transform(X_test0)  # テストデータのスケーリング"
      ],
      "execution_count": 0,
      "outputs": []
    },
    {
      "metadata": {
        "id": "ETgeKh6mml68",
        "colab_type": "code",
        "colab": {}
      },
      "cell_type": "code",
      "source": [
        "min_max_scaler = MinMaxScaler()\n",
        "X_train_scaled1 = min_max_scaler.fit_transform(X_train1)  # 訓練データのスケーリング\n",
        "X_test_scaled1 = min_max_scaler.transform(X_test1)  # テストデータのスケーリング"
      ],
      "execution_count": 0,
      "outputs": []
    },
    {
      "metadata": {
        "id": "zuHAdlFXmsfv",
        "colab_type": "code",
        "colab": {
          "base_uri": "https://localhost:8080/",
          "height": 185
        },
        "outputId": "3e00d6d8-96db-4f09-d7b8-a30edc6f4826"
      },
      "cell_type": "code",
      "source": [
        "# X_train と同じ形状の配列を作る\n",
        "X_train_scaled = numpy.zeros(X_train.shape)\n",
        "# 1列目にスケール済みの RM を代入する\n",
        "X_train_scaled[:, 0] = X_train_scaled0.reshape(-1)\n",
        "# 2列目にスケール済みの LSTAT を代入する\n",
        "X_train_scaled[:, 1] = X_train_scaled1.reshape(-1)\n",
        "# 最初の10行を表示する\n",
        "print(X_train_scaled[:10])"
      ],
      "execution_count": 30,
      "outputs": [
        {
          "output_type": "stream",
          "text": [
            "[[ 0.14526384  0.09602649]\n",
            " [-0.20840082  0.28449227]\n",
            " [-0.89623682  0.23399558]\n",
            " [-0.54396454  0.13383002]\n",
            " [-0.55649596  0.45253863]\n",
            " [ 0.10070766  0.16721854]\n",
            " [ 0.936136    0.03338852]\n",
            " [-0.89484444  0.58636865]\n",
            " [-0.24042558  0.31512141]\n",
            " [-0.81408637  0.31512141]]\n"
          ],
          "name": "stdout"
        }
      ]
    },
    {
      "metadata": {
        "id": "IGdrT2rXQZjx",
        "colab_type": "code",
        "colab": {
          "base_uri": "https://localhost:8080/",
          "height": 185
        },
        "outputId": "63741739-0fa0-4265-e49d-faf77c6d339d"
      },
      "cell_type": "code",
      "source": [
        "# X_test と同じ形状の配列を作る\n",
        "X_test_scaled = numpy.zeros(X_test.shape)\n",
        "# 1列目にスケール済みの RM を代入する\n",
        "X_test_scaled[:, 0] = X_test_scaled0.reshape(-1)\n",
        "# 2列目にスケール済みの LSTAT を代入する\n",
        "X_test_scaled[:, 1] = X_test_scaled1.reshape(-1)\n",
        "# 最初の10行を表示する\n",
        "print(X_test_scaled[:10])"
      ],
      "execution_count": 31,
      "outputs": [
        {
          "output_type": "stream",
          "text": [
            "[[ 0.12577051  0.20171082]\n",
            " [ 0.60196466  0.04966887]\n",
            " [-0.47713027  0.450883  ]\n",
            " [-0.36295507  0.10458057]\n",
            " [-0.03992278  0.42880795]\n",
            " [-0.06498563  0.28256071]\n",
            " [-0.57320453  0.4580574 ]\n",
            " [-0.21118559  0.61892936]\n",
            " [-0.13460465  0.30739514]\n",
            " [-0.41586553  0.34768212]]\n"
          ],
          "name": "stdout"
        }
      ]
    },
    {
      "metadata": {
        "id": "L_O_xT96SATG",
        "colab_type": "text"
      },
      "cell_type": "markdown",
      "source": [
        "### 単回帰"
      ]
    },
    {
      "metadata": {
        "id": "7IRDVPzmQvnn",
        "colab_type": "code",
        "colab": {}
      },
      "cell_type": "code",
      "source": [
        "from sklearn.linear_model import SGDRegressor"
      ],
      "execution_count": 0,
      "outputs": []
    },
    {
      "metadata": {
        "id": "ZE7c5sYSSKex",
        "colab_type": "code",
        "colab": {}
      },
      "cell_type": "code",
      "source": [
        "reg0 = SGDRegressor(loss='squared_loss', max_iter=1000, tol=1e-3, penalty='none', random_state=42)"
      ],
      "execution_count": 0,
      "outputs": []
    },
    {
      "metadata": {
        "id": "Wlkj8CH0S1QS",
        "colab_type": "code",
        "colab": {
          "base_uri": "https://localhost:8080/",
          "height": 118
        },
        "outputId": "459f1ee4-152e-4744-c13d-951540d198d5"
      },
      "cell_type": "code",
      "source": [
        "reg0.fit(X_train_scaled0, y_train)"
      ],
      "execution_count": 34,
      "outputs": [
        {
          "output_type": "execute_result",
          "data": {
            "text/plain": [
              "SGDRegressor(alpha=0.0001, average=False, early_stopping=False, epsilon=0.1,\n",
              "       eta0=0.01, fit_intercept=True, l1_ratio=0.15,\n",
              "       learning_rate='invscaling', loss='squared_loss', max_iter=1000,\n",
              "       n_iter=None, n_iter_no_change=5, penalty='none', power_t=0.25,\n",
              "       random_state=42, shuffle=True, tol=0.001, validation_fraction=0.1,\n",
              "       verbose=0, warm_start=False)"
            ]
          },
          "metadata": {
            "tags": []
          },
          "execution_count": 34
        }
      ]
    },
    {
      "metadata": {
        "id": "5rgw_h21S9bV",
        "colab_type": "code",
        "colab": {
          "base_uri": "https://localhost:8080/",
          "height": 34
        },
        "outputId": "3e824ef6-6ff6-4205-cbbb-31c356a8993d"
      },
      "cell_type": "code",
      "source": [
        "reg0.score(X_train_scaled0, y_train)"
      ],
      "execution_count": 35,
      "outputs": [
        {
          "output_type": "execute_result",
          "data": {
            "text/plain": [
              "0.48788214501838045"
            ]
          },
          "metadata": {
            "tags": []
          },
          "execution_count": 35
        }
      ]
    },
    {
      "metadata": {
        "id": "Eeipp-pMU9CR",
        "colab_type": "code",
        "colab": {
          "base_uri": "https://localhost:8080/",
          "height": 34
        },
        "outputId": "ebf479d4-1a13-45f1-bb2f-2c93ba81234f"
      },
      "cell_type": "code",
      "source": [
        "reg0.score(X_test_scaled0, y_test)"
      ],
      "execution_count": 36,
      "outputs": [
        {
          "output_type": "execute_result",
          "data": {
            "text/plain": [
              "0.4582922711258371"
            ]
          },
          "metadata": {
            "tags": []
          },
          "execution_count": 36
        }
      ]
    },
    {
      "metadata": {
        "id": "libLWRsdVAkZ",
        "colab_type": "code",
        "colab": {}
      },
      "cell_type": "code",
      "source": [
        "from matplotlib import pyplot"
      ],
      "execution_count": 0,
      "outputs": []
    },
    {
      "metadata": {
        "id": "HMjvF8mx3VVP",
        "colab_type": "code",
        "colab": {}
      },
      "cell_type": "code",
      "source": [
        "y_pred = reg0.predict(X_test_scaled0)"
      ],
      "execution_count": 0,
      "outputs": []
    },
    {
      "metadata": {
        "id": "FcNNYujp3X1J",
        "colab_type": "code",
        "colab": {
          "base_uri": "https://localhost:8080/",
          "height": 721
        },
        "outputId": "048bb9f3-798d-4772-cab6-c775abf06f51"
      },
      "cell_type": "code",
      "source": [
        "fig = pyplot.figure(figsize=(12, 12))\n",
        "\n",
        "# テストデータのプロット（散布図）\n",
        "pyplot.scatter(X_test0, y_test, color='black', alpha=0.55)\n",
        "\n",
        "# 予測値のプロット（直線）\n",
        "pyplot.plot(X_test0, y_pred, linewidth=3, color='blue')\n",
        "\n",
        "pyplot.xlabel(\"RM\", fontsize=18)\n",
        "pyplot.ylabel(\"MEDV\", fontsize=18)\n",
        "\n",
        "pyplot.grid()\n",
        "pyplot.show()"
      ],
      "execution_count": 39,
      "outputs": [
        {
          "output_type": "display_data",
          "data": {
            "image/png": "[encoded data removed]",
            "text/plain": [
              "<Figure size 864x864 with 1 Axes>"
            ]
          },
          "metadata": {
            "tags": []
          }
        }
      ]
    },
    {
      "metadata": {
        "id": "8SuSTY-y3dGL",
        "colab_type": "code",
        "colab": {}
      },
      "cell_type": "code",
      "source": [
        "reg1 = SGDRegressor(loss='squared_loss', max_iter=1000, tol=1e-3, penalty='none', random_state=42)"
      ],
      "execution_count": 0,
      "outputs": []
    },
    {
      "metadata": {
        "id": "HehfQjDk3jYp",
        "colab_type": "code",
        "colab": {
          "base_uri": "https://localhost:8080/",
          "height": 118
        },
        "outputId": "a5ed3834-71ea-4d55-edeb-bb5652354733"
      },
      "cell_type": "code",
      "source": [
        "reg1.fit(X_train_scaled1, y_train)"
      ],
      "execution_count": 41,
      "outputs": [
        {
          "output_type": "execute_result",
          "data": {
            "text/plain": [
              "SGDRegressor(alpha=0.0001, average=False, early_stopping=False, epsilon=0.1,\n",
              "       eta0=0.01, fit_intercept=True, l1_ratio=0.15,\n",
              "       learning_rate='invscaling', loss='squared_loss', max_iter=1000,\n",
              "       n_iter=None, n_iter_no_change=5, penalty='none', power_t=0.25,\n",
              "       random_state=42, shuffle=True, tol=0.001, validation_fraction=0.1,\n",
              "       verbose=0, warm_start=False)"
            ]
          },
          "metadata": {
            "tags": []
          },
          "execution_count": 41
        }
      ]
    },
    {
      "metadata": {
        "id": "-Jd2uUP73mXk",
        "colab_type": "code",
        "colab": {
          "base_uri": "https://localhost:8080/",
          "height": 34
        },
        "outputId": "434d5d38-0b68-42e5-8d21-98c8cd4a5e0b"
      },
      "cell_type": "code",
      "source": [
        "reg1.score(X_train_scaled1, y_train)"
      ],
      "execution_count": 42,
      "outputs": [
        {
          "output_type": "execute_result",
          "data": {
            "text/plain": [
              "0.5568885061492568"
            ]
          },
          "metadata": {
            "tags": []
          },
          "execution_count": 42
        }
      ]
    },
    {
      "metadata": {
        "id": "Ob5rI7qg3o_T",
        "colab_type": "code",
        "colab": {
          "base_uri": "https://localhost:8080/",
          "height": 34
        },
        "outputId": "37e4fb6c-a154-4b3d-8feb-a1cb9ca22ab1"
      },
      "cell_type": "code",
      "source": [
        "reg1.score(X_test_scaled1, y_test)"
      ],
      "execution_count": 43,
      "outputs": [
        {
          "output_type": "execute_result",
          "data": {
            "text/plain": [
              "0.49510611450093317"
            ]
          },
          "metadata": {
            "tags": []
          },
          "execution_count": 43
        }
      ]
    },
    {
      "metadata": {
        "id": "kVxiv_mT3sAb",
        "colab_type": "code",
        "colab": {}
      },
      "cell_type": "code",
      "source": [
        "# テストデータの予測値\n",
        "y_pred = reg1.predict(X_test_scaled1)"
      ],
      "execution_count": 0,
      "outputs": []
    },
    {
      "metadata": {
        "id": "DvOj7nHZ3yE2",
        "colab_type": "code",
        "colab": {
          "base_uri": "https://localhost:8080/",
          "height": 721
        },
        "outputId": "4cc6c1fb-5d91-48f6-c170-54fb3d186303"
      },
      "cell_type": "code",
      "source": [
        "fig = pyplot.figure(figsize=(12, 12))\n",
        "\n",
        "# テストデータのプロット（散布図）\n",
        "pyplot.scatter(X_test1, y_test, color='black', alpha=0.55)\n",
        "\n",
        "# 予測値のプロット（直線）\n",
        "pyplot.plot(X_test1, y_pred, linewidth=3, color='blue')\n",
        "\n",
        "pyplot.xlabel(\"LSTAT\", fontsize=18)\n",
        "pyplot.ylabel(\"MEDV\", fontsize=18)\n",
        "\n",
        "pyplot.grid()\n",
        "pyplot.show()"
      ],
      "execution_count": 45,
      "outputs": [
        {
          "output_type": "display_data",
          "data": {
            "image/png": "[encoded data removed]",
            "text/plain": [
              "<Figure size 864x864 with 1 Axes>"
            ]
          },
          "metadata": {
            "tags": []
          }
        }
      ]
    },
    {
      "metadata": {
        "id": "Bo-9SjuY39u3",
        "colab_type": "text"
      },
      "cell_type": "markdown",
      "source": [
        "### 重回帰"
      ]
    },
    {
      "metadata": {
        "id": "74qM7TJM30pW",
        "colab_type": "code",
        "colab": {}
      },
      "cell_type": "code",
      "source": [
        "reg = SGDRegressor(loss='squared_loss', max_iter=1000, tol=1e-3, penalty='none', random_state=42)"
      ],
      "execution_count": 0,
      "outputs": []
    },
    {
      "metadata": {
        "id": "Plvqyvto34Q-",
        "colab_type": "code",
        "colab": {
          "base_uri": "https://localhost:8080/",
          "height": 118
        },
        "outputId": "955845d0-50d4-4113-c24a-9cacdd47b95d"
      },
      "cell_type": "code",
      "source": [
        "reg.fit(X_train_scaled, y_train)"
      ],
      "execution_count": 47,
      "outputs": [
        {
          "output_type": "execute_result",
          "data": {
            "text/plain": [
              "SGDRegressor(alpha=0.0001, average=False, early_stopping=False, epsilon=0.1,\n",
              "       eta0=0.01, fit_intercept=True, l1_ratio=0.15,\n",
              "       learning_rate='invscaling', loss='squared_loss', max_iter=1000,\n",
              "       n_iter=None, n_iter_no_change=5, penalty='none', power_t=0.25,\n",
              "       random_state=42, shuffle=True, tol=0.001, validation_fraction=0.1,\n",
              "       verbose=0, warm_start=False)"
            ]
          },
          "metadata": {
            "tags": []
          },
          "execution_count": 47
        }
      ]
    },
    {
      "metadata": {
        "id": "M0fhWY9z36HM",
        "colab_type": "code",
        "colab": {
          "base_uri": "https://localhost:8080/",
          "height": 34
        },
        "outputId": "ef37b486-26f8-4aad-ec3a-18f2868157f7"
      },
      "cell_type": "code",
      "source": [
        "reg.score(X_train_scaled, y_train)"
      ],
      "execution_count": 48,
      "outputs": [
        {
          "output_type": "execute_result",
          "data": {
            "text/plain": [
              "0.6465520140289235"
            ]
          },
          "metadata": {
            "tags": []
          },
          "execution_count": 48
        }
      ]
    },
    {
      "metadata": {
        "id": "XC_Pu7BR38ZJ",
        "colab_type": "code",
        "colab": {
          "base_uri": "https://localhost:8080/",
          "height": 34
        },
        "outputId": "dd3e13fd-8f4e-498d-f75e-1266acb41cac"
      },
      "cell_type": "code",
      "source": [
        "reg.score(X_test_scaled, y_test)"
      ],
      "execution_count": 49,
      "outputs": [
        {
          "output_type": "execute_result",
          "data": {
            "text/plain": [
              "0.6042122051466812"
            ]
          },
          "metadata": {
            "tags": []
          },
          "execution_count": 49
        }
      ]
    },
    {
      "metadata": {
        "id": "gqP3F5uP4CHI",
        "colab_type": "code",
        "colab": {}
      },
      "cell_type": "code",
      "source": [
        ""
      ],
      "execution_count": 0,
      "outputs": []
    }
  ]
}