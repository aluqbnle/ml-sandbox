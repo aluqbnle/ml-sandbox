{
  "nbformat": 4,
  "nbformat_minor": 0,
  "metadata": {
    "colab": {
      "name": "01_OutlineOfMachineLeaning.ipynb",
      "version": "0.3.2",
      "provenance": [],
      "collapsed_sections": [],
      "include_colab_link": true
    },
    "kernelspec": {
      "name": "python3",
      "display_name": "Python 3"
    }
  },
  "cells": [
    {
      "cell_type": "markdown",
      "metadata": {
        "id": "view-in-github",
        "colab_type": "text"
      },
      "source": [
        "<a href=\"https://colab.research.google.com/github/aluqbnle/ml-sandbox/blob/master/01_OutlineOfMachineLeaning.ipynb\" target=\"_parent\"><img src=\"https://colab.research.google.com/assets/colab-badge.svg\" alt=\"Open In Colab\"/></a>"
      ]
    },
    {
      "metadata": {
        "id": "6zQH5yiyPnaI",
        "colab_type": "code",
        "outputId": "5413e7b8-df9c-4c0e-e9ce-26934205e1da",
        "colab": {
          "base_uri": "https://localhost:8080/",
          "height": 68
        }
      },
      "cell_type": "code",
      "source": [
        "!pip3 install scikit-learn"
      ],
      "execution_count": 0,
      "outputs": [
        {
          "output_type": "stream",
          "text": [
            "Requirement already satisfied: scikit-learn in /usr/local/lib/python3.6/dist-packages (0.20.2)\n",
            "Requirement already satisfied: numpy>=1.8.2 in /usr/local/lib/python3.6/dist-packages (from scikit-learn) (1.14.6)\n",
            "Requirement already satisfied: scipy>=0.13.3 in /usr/local/lib/python3.6/dist-packages (from scikit-learn) (1.1.0)\n"
          ],
          "name": "stdout"
        }
      ]
    },
    {
      "metadata": {
        "id": "nCR67tvLRAAz",
        "colab_type": "code",
        "outputId": "66fa0f52-0763-4646-9cb0-32830b60a1a2",
        "colab": {
          "base_uri": "https://localhost:8080/",
          "height": 34
        }
      },
      "cell_type": "code",
      "source": [
        "!ls"
      ],
      "execution_count": 0,
      "outputs": [
        {
          "output_type": "stream",
          "text": [
            "sample_data\n"
          ],
          "name": "stdout"
        }
      ]
    },
    {
      "metadata": {
        "id": "FFnzK04HXH_6",
        "colab_type": "code",
        "outputId": "4c3a6383-efcd-4f07-b7e3-792179837dbb",
        "colab": {
          "base_uri": "https://localhost:8080/",
          "height": 34
        }
      },
      "cell_type": "code",
      "source": [
        "!./sample_data/"
      ],
      "execution_count": 0,
      "outputs": [
        {
          "output_type": "stream",
          "text": [
            "/bin/bash: ./sample_data/: Is a directory\n"
          ],
          "name": "stdout"
        }
      ]
    },
    {
      "metadata": {
        "id": "yzf53ms7XMGf",
        "colab_type": "code",
        "colab": {}
      },
      "cell_type": "code",
      "source": [
        "!cd sample_data/"
      ],
      "execution_count": 0,
      "outputs": []
    },
    {
      "metadata": {
        "id": "9XcncyyzXPN_",
        "colab_type": "code",
        "outputId": "bcd90984-471b-433a-a613-439038bdea40",
        "colab": {
          "base_uri": "https://localhost:8080/",
          "height": 34
        }
      },
      "cell_type": "code",
      "source": [
        "!ls"
      ],
      "execution_count": 0,
      "outputs": [
        {
          "output_type": "stream",
          "text": [
            "sample_data\n"
          ],
          "name": "stdout"
        }
      ]
    },
    {
      "metadata": {
        "id": "sWAYIMmeXQbQ",
        "colab_type": "code",
        "colab": {}
      },
      "cell_type": "code",
      "source": [
        "!cd .."
      ],
      "execution_count": 0,
      "outputs": []
    },
    {
      "metadata": {
        "id": "lyfH8OvCXSQs",
        "colab_type": "code",
        "outputId": "abcdf40f-30e0-4b3d-ac82-ad419c00dbe6",
        "colab": {
          "base_uri": "https://localhost:8080/",
          "height": 34
        }
      },
      "cell_type": "code",
      "source": [
        "!pwd"
      ],
      "execution_count": 0,
      "outputs": [
        {
          "output_type": "stream",
          "text": [
            "/content\n"
          ],
          "name": "stdout"
        }
      ]
    },
    {
      "metadata": {
        "id": "VBF-x0En93Ka",
        "colab_type": "text"
      },
      "cell_type": "markdown",
      "source": [
        "# 機械学習の概要\n",
        "### 機械学習とは\n",
        "- 記憶\n",
        "- 学習\n",
        "- 認識\n",
        "- 推論\n",
        "\n",
        "によって知能が構成されてると考える。このとき機械学習を用いることができる。機械学習には三種類ある\n",
        "\n",
        "### 3種類の機械学習\n",
        "- 教師あり学習\n",
        "- 教師なし学習\n",
        "- 強化学習\n",
        "\n",
        "#### 教師あり学習\n",
        "- 分類\n",
        "- 回帰\n",
        "\n",
        "教師あり学習は二種類に分けられて、分類を主に使っていくことになると思う\n",
        "\n",
        "##### 分類\n",
        "分類とは正解ラベルが離散値である教師あり学習\n",
        "二値分類とその複数の多クラス分類も行える\n",
        "\n",
        "\n",
        "#### 回帰\n",
        "回帰とは正解ラベルが連続値である教師あり学習\n",
        "推定したい値を目的変数または従属変数\n",
        "推定するための値を説明変数または独立変数\n",
        "とよぶ\n",
        "\n",
        "\n",
        " #### 教師なし学習\n",
        " - クラスタリング\n",
        " - そんなにできてないっぽい\n",
        " \n",
        " \n",
        " #### 強化学習\n",
        " イゴっ\n",
        " \n",
        " ### 機械学習の流れ\n",
        " 1.  前処理\n",
        " 2. 学習\n",
        " 3. 予測\n",
        " \n",
        " \n",
        " #### 前処理\n",
        " > \"Garbage in, garbage out\"\n",
        " \n",
        " - 欠損値補完\n",
        " - スケール揃え\n",
        " \n",
        " \n",
        " #### 学習\n",
        " \n",
        " - ノーフリーランチ定理\n",
        " \n",
        " #### 予測"
      ]
    },
    {
      "metadata": {
        "id": "l31G2puLXUGw",
        "colab_type": "code",
        "colab": {}
      },
      "cell_type": "code",
      "source": [
        ""
      ],
      "execution_count": 0,
      "outputs": []
    }
  ]
}