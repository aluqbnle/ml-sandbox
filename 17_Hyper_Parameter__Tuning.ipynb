{
  "nbformat": 4,
  "nbformat_minor": 0,
  "metadata": {
    "colab": {
      "name": "17_Hyper_Parameter_ Tuning.ipynb",
      "version": "0.3.2",
      "provenance": [],
      "collapsed_sections": [],
      "include_colab_link": true
    },
    "kernelspec": {
      "name": "python3",
      "display_name": "Python 3"
    },
    "accelerator": "GPU"
  },
  "cells": [
    {
      "cell_type": "markdown",
      "metadata": {
        "id": "view-in-github",
        "colab_type": "text"
      },
      "source": [
        "<a href=\"https://colab.research.google.com/github/aluqbnle/ml-sandbox/blob/master/17_Hyper_Parameter__Tuning.ipynb\" target=\"_parent\"><img src=\"https://colab.research.google.com/assets/colab-badge.svg\" alt=\"Open In Colab\"/></a>"
      ]
    },
    {
      "metadata": {
        "id": "b70yurDhIehI",
        "colab_type": "text"
      },
      "cell_type": "markdown",
      "source": [
        "### グリッドサーチ"
      ]
    },
    {
      "metadata": {
        "id": "iBZKqQXUGH1K",
        "colab_type": "code",
        "colab": {}
      },
      "cell_type": "code",
      "source": [
        "param_a = [0.0 , 0.2 , 0.4 ,0.6,0.8,1.0]\n",
        "param_b = [1,10,100,1000]"
      ],
      "execution_count": 0,
      "outputs": []
    },
    {
      "metadata": {
        "id": "POHWc-KrHkvF",
        "colab_type": "code",
        "colab": {
          "base_uri": "https://localhost:8080/",
          "height": 420
        },
        "outputId": "8cd44343-8ad8-4dd5-f935-743bb119d2bb"
      },
      "cell_type": "code",
      "source": [
        "for a in param_a:\n",
        "  for b in param_b:\n",
        "    print(f\"a={a},b={b}\")"
      ],
      "execution_count": 30,
      "outputs": [
        {
          "output_type": "stream",
          "text": [
            "a=0.0,b=1\n",
            "a=0.0,b=10\n",
            "a=0.0,b=100\n",
            "a=0.0,b=1000\n",
            "a=0.2,b=1\n",
            "a=0.2,b=10\n",
            "a=0.2,b=100\n",
            "a=0.2,b=1000\n",
            "a=0.4,b=1\n",
            "a=0.4,b=10\n",
            "a=0.4,b=100\n",
            "a=0.4,b=1000\n",
            "a=0.6,b=1\n",
            "a=0.6,b=10\n",
            "a=0.6,b=100\n",
            "a=0.6,b=1000\n",
            "a=0.8,b=1\n",
            "a=0.8,b=10\n",
            "a=0.8,b=100\n",
            "a=0.8,b=1000\n",
            "a=1.0,b=1\n",
            "a=1.0,b=10\n",
            "a=1.0,b=100\n",
            "a=1.0,b=1000\n"
          ],
          "name": "stdout"
        }
      ]
    },
    {
      "metadata": {
        "id": "R666E_1dI3Rs",
        "colab_type": "text"
      },
      "cell_type": "markdown",
      "source": [
        "### ランダムサーチ"
      ]
    },
    {
      "metadata": {
        "id": "D7kkU6WwIL-j",
        "colab_type": "code",
        "colab": {}
      },
      "cell_type": "code",
      "source": [
        "import numpy\n",
        "numpy.random.seed(0) #乱数シードの固定"
      ],
      "execution_count": 0,
      "outputs": []
    },
    {
      "metadata": {
        "id": "2_Q-MzHuJDoz",
        "colab_type": "code",
        "colab": {
          "base_uri": "https://localhost:8080/",
          "height": 353
        },
        "outputId": "d374d14a-fc4e-40d3-c797-34d0e15bab9d"
      },
      "cell_type": "code",
      "source": [
        "for _ in range(20):\n",
        "  a = numpy.random.random()\n",
        "  b = numpy.random.randint(1,1001)\n",
        "  print(f\"a={a},b={b}\")"
      ],
      "execution_count": 32,
      "outputs": [
        {
          "output_type": "stream",
          "text": [
            "a=0.5488135039273248,b=630\n",
            "a=0.8442657485810173,b=764\n",
            "a=0.5448831829968969,b=10\n",
            "a=0.6235636967859723,b=755\n",
            "a=0.4375872112626925,b=71\n",
            "a=0.05671297731744318,b=397\n",
            "a=0.3834415188257777,b=487\n",
            "a=0.8121687287754932,b=175\n",
            "a=0.5680445610939323,b=678\n",
            "a=0.8360787635373775,b=73\n",
            "a=0.08712929970154071,b=116\n",
            "a=0.36824153984054797,b=710\n",
            "a=0.7781567509498505,b=432\n",
            "a=0.8700872583584364,b=100\n",
            "a=0.7991585642167236,b=756\n",
            "a=0.5204774795512048,b=148\n",
            "a=0.11827442586893322,b=289\n",
            "a=0.5820197920751071,b=698\n",
            "a=0.9446689170495839,b=544\n",
            "a=0.10590760718779213,b=152\n"
          ],
          "name": "stdout"
        }
      ]
    },
    {
      "metadata": {
        "id": "HBZYfLqKTkiA",
        "colab_type": "text"
      },
      "cell_type": "markdown",
      "source": [
        "## パラメータ探索の実験"
      ]
    },
    {
      "metadata": {
        "id": "A9xY5ULhSReU",
        "colab_type": "code",
        "colab": {}
      },
      "cell_type": "code",
      "source": [
        "from pandas import DataFrame\n",
        "from sklearn.datasets import load_breast_cancer"
      ],
      "execution_count": 0,
      "outputs": []
    },
    {
      "metadata": {
        "id": "ZcLY8-W3TzDs",
        "colab_type": "code",
        "colab": {}
      },
      "cell_type": "code",
      "source": [
        "breast_cancer = load_breast_cancer()\n",
        "X = breast_cancer.data[:,:10]\n",
        "y = breast_cancer.target\n",
        "\n",
        "columns=['radius','texture','Circumference','area','smoothness','compactness','dent','number_of_dent','Symmetry','fractal dimension']\n",
        "\n",
        "df = DataFrame(data=X[:,:10],columns=columns)\n",
        "df['objective_values']=y"
      ],
      "execution_count": 0,
      "outputs": []
    },
    {
      "metadata": {
        "id": "LXTa5kUfUgRI",
        "colab_type": "code",
        "colab": {}
      },
      "cell_type": "code",
      "source": [
        "X=df[['area','dent']].values\n",
        "y=df['objective_values'].values"
      ],
      "execution_count": 0,
      "outputs": []
    },
    {
      "metadata": {
        "id": "I2oKx_qPUor6",
        "colab_type": "code",
        "colab": {}
      },
      "cell_type": "code",
      "source": [
        "from sklearn.model_selection import train_test_split"
      ],
      "execution_count": 0,
      "outputs": []
    },
    {
      "metadata": {
        "id": "9E25jgE-Uwrj",
        "colab_type": "code",
        "colab": {}
      },
      "cell_type": "code",
      "source": [
        "X_train,X_test,y_train,y_test = train_test_split(X,y,test_size=0.30,random_state=42)"
      ],
      "execution_count": 0,
      "outputs": []
    },
    {
      "metadata": {
        "id": "3SpOlZ6nVHj_",
        "colab_type": "code",
        "colab": {}
      },
      "cell_type": "code",
      "source": [
        "import numpy\n",
        "from sklearn.ensemble import RandomForestClassifier\n",
        "from sklearn.metrics import accuracy_score\n",
        "from sklearn.model_selection import StratifiedKFold"
      ],
      "execution_count": 0,
      "outputs": []
    },
    {
      "metadata": {
        "id": "_8LzqKo8VlL6",
        "colab_type": "text"
      },
      "cell_type": "markdown",
      "source": [
        "### グリッドサーチ"
      ]
    },
    {
      "metadata": {
        "id": "LqLVpuVwVfkJ",
        "colab_type": "code",
        "colab": {}
      },
      "cell_type": "code",
      "source": [
        "from sklearn.model_selection import GridSearchCV"
      ],
      "execution_count": 0,
      "outputs": []
    },
    {
      "metadata": {
        "id": "e8T5xRdGVufs",
        "colab_type": "code",
        "colab": {}
      },
      "cell_type": "code",
      "source": [
        "param_grid = {\n",
        "    'max_depth':[1,2],\n",
        "    'n_estimators':[10,15,20,25,30]\n",
        "}"
      ],
      "execution_count": 0,
      "outputs": []
    },
    {
      "metadata": {
        "id": "SHMlcbqxWT1N",
        "colab_type": "code",
        "colab": {}
      },
      "cell_type": "code",
      "source": [
        "gs = GridSearchCV(\n",
        "    # ランダムフォレスト\n",
        "    estimator=RandomForestClassifier(criterion='gini',random_state=42),\n",
        "    # 上で定義したパラメータの範囲\n",
        "    param_grid=param_grid,\n",
        "    scoring='accuracy',\n",
        "    # 交差検証に StratifiedKFold を利用する\n",
        "    cv = StratifiedKFold(n_splits=10,shuffle=True,random_state=42),\n",
        "    return_train_score=True)"
      ],
      "execution_count": 0,
      "outputs": []
    },
    {
      "metadata": {
        "id": "yI5usiAhXvIG",
        "colab_type": "code",
        "colab": {
          "base_uri": "https://localhost:8080/",
          "height": 218
        },
        "outputId": "66114fd3-fc1f-40bd-8153-9bad43071531"
      },
      "cell_type": "code",
      "source": [
        "gs.fit(X_train,y_train)"
      ],
      "execution_count": 42,
      "outputs": [
        {
          "output_type": "execute_result",
          "data": {
            "text/plain": [
              "GridSearchCV(cv=StratifiedKFold(n_splits=10, random_state=42, shuffle=True),\n",
              "       error_score='raise-deprecating',\n",
              "       estimator=RandomForestClassifier(bootstrap=True, class_weight=None, criterion='gini',\n",
              "            max_depth=None, max_features='auto', max_leaf_nodes=None,\n",
              "            min_impurity_decrease=0.0, min_impurity_split=None,\n",
              "            min_samples_leaf=1, min_samples_split=2,\n",
              "            min_weight_fraction_leaf=0.0, n_estimators='warn', n_jobs=None,\n",
              "            oob_score=False, random_state=42, verbose=0, warm_start=False),\n",
              "       fit_params=None, iid='warn', n_jobs=None,\n",
              "       param_grid={'max_depth': [1, 2], 'n_estimators': [10, 15, 20, 25, 30]},\n",
              "       pre_dispatch='2*n_jobs', refit=True, return_train_score=True,\n",
              "       scoring='accuracy', verbose=0)"
            ]
          },
          "metadata": {
            "tags": []
          },
          "execution_count": 42
        }
      ]
    },
    {
      "metadata": {
        "id": "Zm-ve9JqaIcj",
        "colab_type": "code",
        "colab": {
          "base_uri": "https://localhost:8080/",
          "height": 34
        },
        "outputId": "21c4fa25-e384-4734-99b6-615375ba9bec"
      },
      "cell_type": "code",
      "source": [
        "gs.best_params_"
      ],
      "execution_count": 43,
      "outputs": [
        {
          "output_type": "execute_result",
          "data": {
            "text/plain": [
              "{'max_depth': 2, 'n_estimators': 20}"
            ]
          },
          "metadata": {
            "tags": []
          },
          "execution_count": 43
        }
      ]
    },
    {
      "metadata": {
        "id": "zSGEHlfAaYlS",
        "colab_type": "code",
        "colab": {
          "base_uri": "https://localhost:8080/",
          "height": 34
        },
        "outputId": "0d3fcf6f-960b-4c31-d61f-4ddb6a3fef86"
      },
      "cell_type": "code",
      "source": [
        "gs.best_score_"
      ],
      "execution_count": 44,
      "outputs": [
        {
          "output_type": "execute_result",
          "data": {
            "text/plain": [
              "0.9120603015075377"
            ]
          },
          "metadata": {
            "tags": []
          },
          "execution_count": 44
        }
      ]
    },
    {
      "metadata": {
        "id": "IqYsyIQwaaU3",
        "colab_type": "code",
        "colab": {
          "base_uri": "https://localhost:8080/",
          "height": 343
        },
        "outputId": "6d170f78-61cb-464f-b04c-6d8969ba5e82"
      },
      "cell_type": "code",
      "source": [
        "df_grid_result = DataFrame(gs.cv_results_)\n",
        "df_grid_result[['param_max_depth','param_n_estimators','mean_train_score','mean_test_score']]"
      ],
      "execution_count": 47,
      "outputs": [
        {
          "output_type": "execute_result",
          "data": {
            "text/html": [
              "<div>\n",
              "<style scoped>\n",
              "    .dataframe tbody tr th:only-of-type {\n",
              "        vertical-align: middle;\n",
              "    }\n",
              "\n",
              "    .dataframe tbody tr th {\n",
              "        vertical-align: top;\n",
              "    }\n",
              "\n",
              "    .dataframe thead th {\n",
              "        text-align: right;\n",
              "    }\n",
              "</style>\n",
              "<table border=\"1\" class=\"dataframe\">\n",
              "  <thead>\n",
              "    <tr style=\"text-align: right;\">\n",
              "      <th></th>\n",
              "      <th>param_max_depth</th>\n",
              "      <th>param_n_estimators</th>\n",
              "      <th>mean_train_score</th>\n",
              "      <th>mean_test_score</th>\n",
              "    </tr>\n",
              "  </thead>\n",
              "  <tbody>\n",
              "    <tr>\n",
              "      <th>0</th>\n",
              "      <td>1</td>\n",
              "      <td>10</td>\n",
              "      <td>0.886656</td>\n",
              "      <td>0.884422</td>\n",
              "    </tr>\n",
              "    <tr>\n",
              "      <th>1</th>\n",
              "      <td>1</td>\n",
              "      <td>15</td>\n",
              "      <td>0.888043</td>\n",
              "      <td>0.881910</td>\n",
              "    </tr>\n",
              "    <tr>\n",
              "      <th>2</th>\n",
              "      <td>1</td>\n",
              "      <td>20</td>\n",
              "      <td>0.883304</td>\n",
              "      <td>0.879397</td>\n",
              "    </tr>\n",
              "    <tr>\n",
              "      <th>3</th>\n",
              "      <td>1</td>\n",
              "      <td>25</td>\n",
              "      <td>0.888602</td>\n",
              "      <td>0.879397</td>\n",
              "    </tr>\n",
              "    <tr>\n",
              "      <th>4</th>\n",
              "      <td>1</td>\n",
              "      <td>30</td>\n",
              "      <td>0.888327</td>\n",
              "      <td>0.879397</td>\n",
              "    </tr>\n",
              "    <tr>\n",
              "      <th>5</th>\n",
              "      <td>2</td>\n",
              "      <td>10</td>\n",
              "      <td>0.916248</td>\n",
              "      <td>0.904523</td>\n",
              "    </tr>\n",
              "    <tr>\n",
              "      <th>6</th>\n",
              "      <td>2</td>\n",
              "      <td>15</td>\n",
              "      <td>0.918757</td>\n",
              "      <td>0.907035</td>\n",
              "    </tr>\n",
              "    <tr>\n",
              "      <th>7</th>\n",
              "      <td>2</td>\n",
              "      <td>20</td>\n",
              "      <td>0.923504</td>\n",
              "      <td>0.912060</td>\n",
              "    </tr>\n",
              "    <tr>\n",
              "      <th>8</th>\n",
              "      <td>2</td>\n",
              "      <td>25</td>\n",
              "      <td>0.924623</td>\n",
              "      <td>0.912060</td>\n",
              "    </tr>\n",
              "    <tr>\n",
              "      <th>9</th>\n",
              "      <td>2</td>\n",
              "      <td>30</td>\n",
              "      <td>0.926297</td>\n",
              "      <td>0.912060</td>\n",
              "    </tr>\n",
              "  </tbody>\n",
              "</table>\n",
              "</div>"
            ],
            "text/plain": [
              "  param_max_depth param_n_estimators  mean_train_score  mean_test_score\n",
              "0               1                 10          0.886656         0.884422\n",
              "1               1                 15          0.888043         0.881910\n",
              "2               1                 20          0.883304         0.879397\n",
              "3               1                 25          0.888602         0.879397\n",
              "4               1                 30          0.888327         0.879397\n",
              "5               2                 10          0.916248         0.904523\n",
              "6               2                 15          0.918757         0.907035\n",
              "7               2                 20          0.923504         0.912060\n",
              "8               2                 25          0.924623         0.912060\n",
              "9               2                 30          0.926297         0.912060"
            ]
          },
          "metadata": {
            "tags": []
          },
          "execution_count": 47
        }
      ]
    },
    {
      "metadata": {
        "id": "t2sx1pUTazP5",
        "colab_type": "code",
        "colab": {
          "base_uri": "https://localhost:8080/",
          "height": 34
        },
        "outputId": "6401856a-2ef6-4354-c9b2-81c264617380"
      },
      "cell_type": "code",
      "source": [
        "# もっとも良かった機械学習モデルを取り出す\n",
        "clf = gs.best_estimator_\n",
        "# scoreメソッドを利用して、正解率の計算をする\n",
        "clf.score(X_test,y_test)"
      ],
      "execution_count": 48,
      "outputs": [
        {
          "output_type": "execute_result",
          "data": {
            "text/plain": [
              "0.9298245614035088"
            ]
          },
          "metadata": {
            "tags": []
          },
          "execution_count": 48
        }
      ]
    },
    {
      "metadata": {
        "id": "rBmliiSNegKw",
        "colab_type": "text"
      },
      "cell_type": "markdown",
      "source": [
        "### ランダムサーチ"
      ]
    },
    {
      "metadata": {
        "id": "oQJZAITDda8X",
        "colab_type": "code",
        "colab": {}
      },
      "cell_type": "code",
      "source": [
        "from sklearn.model_selection import RandomizedSearchCV"
      ],
      "execution_count": 0,
      "outputs": []
    },
    {
      "metadata": {
        "id": "tJXXZeYaflec",
        "colab_type": "code",
        "colab": {}
      },
      "cell_type": "code",
      "source": [
        "from scipy.stats import randint"
      ],
      "execution_count": 0,
      "outputs": []
    },
    {
      "metadata": {
        "id": "8r05naiBfrcW",
        "colab_type": "code",
        "colab": {}
      },
      "cell_type": "code",
      "source": [
        "param_dist = {\n",
        "    'max_depth':randint(1,3),\n",
        "    'n_estimators':randint(10,31)\n",
        "}"
      ],
      "execution_count": 0,
      "outputs": []
    },
    {
      "metadata": {
        "id": "tKrV8RDQgEUg",
        "colab_type": "code",
        "colab": {}
      },
      "cell_type": "code",
      "source": [
        "rs = RandomizedSearchCV(\n",
        "    # ランダムフォレスト\n",
        "    estimator=RandomForestClassifier(criterion='gini',random_state=42),\n",
        "    # 上で定義したパラメータの分布\n",
        "    param_distributions=param_dist,\n",
        "    scoring='accuracy',\n",
        "    # 交差検証にStratifiedKFoldを利用する\n",
        "    cv = StratifiedKFold(n_splits=10,shuffle=True,random_state=42),\n",
        "    # 探索回数は10回\n",
        "    n_iter=10,\n",
        "    return_train_score=True,\n",
        "    random_state=42)"
      ],
      "execution_count": 0,
      "outputs": []
    },
    {
      "metadata": {
        "id": "HENmFnkDj7yu",
        "colab_type": "code",
        "colab": {
          "base_uri": "https://localhost:8080/",
          "height": 272
        },
        "outputId": "754b6a0b-4d03-489a-d684-5e061b5c7482"
      },
      "cell_type": "code",
      "source": [
        "rs.fit(X_train,y_train)"
      ],
      "execution_count": 56,
      "outputs": [
        {
          "output_type": "stream",
          "text": [
            "/usr/local/lib/python3.6/dist-packages/sklearn/model_selection/_search.py:841: DeprecationWarning: The default of the `iid` parameter will change from True to False in version 0.22 and will be removed in 0.24. This will change numeric results when test-set sizes are unequal.\n",
            "  DeprecationWarning)\n"
          ],
          "name": "stderr"
        },
        {
          "output_type": "execute_result",
          "data": {
            "text/plain": [
              "RandomizedSearchCV(cv=StratifiedKFold(n_splits=10, random_state=42, shuffle=True),\n",
              "          error_score='raise-deprecating',\n",
              "          estimator=RandomForestClassifier(bootstrap=True, class_weight=None, criterion='gini',\n",
              "            max_depth=None, max_features='auto', max_leaf_nodes=None,\n",
              "            min_impurity_decrease=0.0, min_impurity_split=None,\n",
              "            min_samples_leaf=1, min_samples_split=2,\n",
              "            min_weight_fraction_leaf=0.0, n_estimators='warn', n_jobs=None,\n",
              "            oob_score=False, random_state=42, verbose=0, warm_start=False),\n",
              "          fit_params=None, iid='warn', n_iter=10, n_jobs=None,\n",
              "          param_distributions={'max_depth': <scipy.stats._distn_infrastructure.rv_frozen object at 0x7fe3463547f0>, 'n_estimators': <scipy.stats._distn_infrastructure.rv_frozen object at 0x7fe3463542e8>},\n",
              "          pre_dispatch='2*n_jobs', random_state=42, refit=True,\n",
              "          return_train_score=True, scoring='accuracy', verbose=0)"
            ]
          },
          "metadata": {
            "tags": []
          },
          "execution_count": 56
        }
      ]
    },
    {
      "metadata": {
        "id": "VfFL6v0kkP_5",
        "colab_type": "code",
        "colab": {
          "base_uri": "https://localhost:8080/",
          "height": 34
        },
        "outputId": "eb09bb9a-793a-4f9d-a25a-8562bbc1ff61"
      },
      "cell_type": "code",
      "source": [
        "rs.best_params_"
      ],
      "execution_count": 57,
      "outputs": [
        {
          "output_type": "execute_result",
          "data": {
            "text/plain": [
              "{'max_depth': 2, 'n_estimators': 30}"
            ]
          },
          "metadata": {
            "tags": []
          },
          "execution_count": 57
        }
      ]
    },
    {
      "metadata": {
        "id": "2cVAIaDxkYKS",
        "colab_type": "code",
        "colab": {
          "base_uri": "https://localhost:8080/",
          "height": 34
        },
        "outputId": "73af57c2-036f-4c86-aace-c5569ad9cce4"
      },
      "cell_type": "code",
      "source": [
        "rs.best_score_"
      ],
      "execution_count": 58,
      "outputs": [
        {
          "output_type": "execute_result",
          "data": {
            "text/plain": [
              "0.9120603015075377"
            ]
          },
          "metadata": {
            "tags": []
          },
          "execution_count": 58
        }
      ]
    },
    {
      "metadata": {
        "id": "lCTc2Ofykalx",
        "colab_type": "code",
        "colab": {
          "base_uri": "https://localhost:8080/",
          "height": 343
        },
        "outputId": "ebd3c0f5-69b6-4558-913f-49faf132a28b"
      },
      "cell_type": "code",
      "source": [
        "df_random_result = DataFrame(rs.cv_results_)\n",
        "df_random_result[['param_max_depth', 'param_n_estimators', 'mean_train_score', 'mean_test_score']]"
      ],
      "execution_count": 59,
      "outputs": [
        {
          "output_type": "execute_result",
          "data": {
            "text/html": [
              "<div>\n",
              "<style scoped>\n",
              "    .dataframe tbody tr th:only-of-type {\n",
              "        vertical-align: middle;\n",
              "    }\n",
              "\n",
              "    .dataframe tbody tr th {\n",
              "        vertical-align: top;\n",
              "    }\n",
              "\n",
              "    .dataframe thead th {\n",
              "        text-align: right;\n",
              "    }\n",
              "</style>\n",
              "<table border=\"1\" class=\"dataframe\">\n",
              "  <thead>\n",
              "    <tr style=\"text-align: right;\">\n",
              "      <th></th>\n",
              "      <th>param_max_depth</th>\n",
              "      <th>param_n_estimators</th>\n",
              "      <th>mean_train_score</th>\n",
              "      <th>mean_test_score</th>\n",
              "    </tr>\n",
              "  </thead>\n",
              "  <tbody>\n",
              "    <tr>\n",
              "      <th>0</th>\n",
              "      <td>1</td>\n",
              "      <td>29</td>\n",
              "      <td>0.891116</td>\n",
              "      <td>0.879397</td>\n",
              "    </tr>\n",
              "    <tr>\n",
              "      <th>1</th>\n",
              "      <td>1</td>\n",
              "      <td>24</td>\n",
              "      <td>0.886650</td>\n",
              "      <td>0.881910</td>\n",
              "    </tr>\n",
              "    <tr>\n",
              "      <th>2</th>\n",
              "      <td>1</td>\n",
              "      <td>17</td>\n",
              "      <td>0.888043</td>\n",
              "      <td>0.881910</td>\n",
              "    </tr>\n",
              "    <tr>\n",
              "      <th>3</th>\n",
              "      <td>1</td>\n",
              "      <td>30</td>\n",
              "      <td>0.888327</td>\n",
              "      <td>0.879397</td>\n",
              "    </tr>\n",
              "    <tr>\n",
              "      <th>4</th>\n",
              "      <td>1</td>\n",
              "      <td>28</td>\n",
              "      <td>0.888048</td>\n",
              "      <td>0.879397</td>\n",
              "    </tr>\n",
              "    <tr>\n",
              "      <th>5</th>\n",
              "      <td>1</td>\n",
              "      <td>20</td>\n",
              "      <td>0.883304</td>\n",
              "      <td>0.879397</td>\n",
              "    </tr>\n",
              "    <tr>\n",
              "      <th>6</th>\n",
              "      <td>1</td>\n",
              "      <td>30</td>\n",
              "      <td>0.888327</td>\n",
              "      <td>0.879397</td>\n",
              "    </tr>\n",
              "    <tr>\n",
              "      <th>7</th>\n",
              "      <td>2</td>\n",
              "      <td>17</td>\n",
              "      <td>0.918478</td>\n",
              "      <td>0.909548</td>\n",
              "    </tr>\n",
              "    <tr>\n",
              "      <th>8</th>\n",
              "      <td>2</td>\n",
              "      <td>12</td>\n",
              "      <td>0.917922</td>\n",
              "      <td>0.907035</td>\n",
              "    </tr>\n",
              "    <tr>\n",
              "      <th>9</th>\n",
              "      <td>2</td>\n",
              "      <td>30</td>\n",
              "      <td>0.926297</td>\n",
              "      <td>0.912060</td>\n",
              "    </tr>\n",
              "  </tbody>\n",
              "</table>\n",
              "</div>"
            ],
            "text/plain": [
              "  param_max_depth param_n_estimators  mean_train_score  mean_test_score\n",
              "0               1                 29          0.891116         0.879397\n",
              "1               1                 24          0.886650         0.881910\n",
              "2               1                 17          0.888043         0.881910\n",
              "3               1                 30          0.888327         0.879397\n",
              "4               1                 28          0.888048         0.879397\n",
              "5               1                 20          0.883304         0.879397\n",
              "6               1                 30          0.888327         0.879397\n",
              "7               2                 17          0.918478         0.909548\n",
              "8               2                 12          0.917922         0.907035\n",
              "9               2                 30          0.926297         0.912060"
            ]
          },
          "metadata": {
            "tags": []
          },
          "execution_count": 59
        }
      ]
    },
    {
      "metadata": {
        "id": "DUgGpXp8kg_I",
        "colab_type": "code",
        "colab": {
          "base_uri": "https://localhost:8080/",
          "height": 34
        },
        "outputId": "66c49c9e-9a46-4dd7-8b58-a8187404b277"
      },
      "cell_type": "code",
      "source": [
        "clf2 = rs.best_estimator_\n",
        "clf2.score(X_test, y_test)"
      ],
      "execution_count": 60,
      "outputs": [
        {
          "output_type": "execute_result",
          "data": {
            "text/plain": [
              "0.9181286549707602"
            ]
          },
          "metadata": {
            "tags": []
          },
          "execution_count": 60
        }
      ]
    },
    {
      "metadata": {
        "id": "mFEvDRjDkmPH",
        "colab_type": "code",
        "colab": {}
      },
      "cell_type": "code",
      "source": [
        ""
      ],
      "execution_count": 0,
      "outputs": []
    }
  ]
}