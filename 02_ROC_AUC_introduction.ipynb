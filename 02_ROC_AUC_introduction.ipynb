{
  "nbformat": 4,
  "nbformat_minor": 0,
  "metadata": {
    "colab": {
      "name": "02_ROC_AUC_introduction.ipynb",
      "version": "0.3.2",
      "provenance": [],
      "collapsed_sections": [],
      "include_colab_link": true
    },
    "kernelspec": {
      "name": "python3",
      "display_name": "Python 3"
    }
  },
  "cells": [
    {
      "cell_type": "markdown",
      "metadata": {
        "id": "view-in-github",
        "colab_type": "text"
      },
      "source": [
        "<a href=\"https://colab.research.google.com/github/aluqbnle/ml-sandbox/blob/master/02_ROC_AUC_introduction.ipynb\" target=\"_parent\"><img src=\"https://colab.research.google.com/assets/colab-badge.svg\" alt=\"Open In Colab\"/></a>"
      ]
    },
    {
      "metadata": {
        "id": "EPnOyY837OWJ",
        "colab_type": "text"
      },
      "cell_type": "markdown",
      "source": [
        "# ROC\n",
        "- ROC曲線(Receiver Operatorating Characteristic curve、受信者動作特性曲線)とは連続変数である独立変数と二分変数であるアウトカムとの関係の強さを評価する方法として、診断検査の有用性を検討する手法として利用されています。\n",
        "- 二分変数は二値で出てくるってこと\n",
        "- あくまでも単変量解析であり、多変量解析ではない\n",
        "- http://www.med.osaka-u.ac.jp/pub/kid/clinicaljournalclub6.html\n",
        "  - むずかしかった\n",
        "- https://qiita.com/CookieBox26/items/faca9c20d8152a8ab1fd\n",
        "  - 正解率だけじゃ評価できないケースが多いことはわかった \n",
        "- https://oku.edu.mie-u.ac.jp/~okumura/stat/ROC.html\n",
        "  - コレでなんとなくわかった気がする。どこで閾値をとっても、よく学習できてるモデルかを評価し感するのに線のしたの面積を使う感じなのかなと思ってる"
      ]
    },
    {
      "metadata": {
        "id": "yWIYc2qm7Ei8",
        "colab_type": "code",
        "colab": {}
      },
      "cell_type": "code",
      "source": [
        ""
      ],
      "execution_count": 0,
      "outputs": []
    }
  ]
}