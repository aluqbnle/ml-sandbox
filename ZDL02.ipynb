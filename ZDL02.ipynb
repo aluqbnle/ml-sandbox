{
  "nbformat": 4,
  "nbformat_minor": 0,
  "metadata": {
    "colab": {
      "name": "ZDL02.ipynb",
      "version": "0.3.2",
      "provenance": [],
      "include_colab_link": true
    },
    "kernelspec": {
      "name": "python3",
      "display_name": "Python 3"
    },
    "accelerator": "GPU"
  },
  "cells": [
    {
      "cell_type": "markdown",
      "metadata": {
        "id": "view-in-github",
        "colab_type": "text"
      },
      "source": [
        "<a href=\"https://colab.research.google.com/github/aluqbnle/ml-sandbox/blob/master/ZDL02.ipynb\" target=\"_parent\"><img src=\"https://colab.research.google.com/assets/colab-badge.svg\" alt=\"Open In Colab\"/></a>"
      ]
    },
    {
      "metadata": {
        "id": "cryylYf3XCSb",
        "colab_type": "text"
      },
      "cell_type": "markdown",
      "source": [
        "# パーセプトロンの実装\n",
        "## ANDゲートの実装"
      ]
    },
    {
      "metadata": {
        "id": "Jzoh0RmUWm4C",
        "colab_type": "code",
        "colab": {}
      },
      "cell_type": "code",
      "source": [
        "def AND(x1,x2):\n",
        "  w1,w2,theta = 0.5,0.5,0.7\n",
        "  tmp = x1*w1 +x2*w2\n",
        "  if tmp <= theta:\n",
        "    return 0\n",
        "  elif tmp > theta:\n",
        "    return 1"
      ],
      "execution_count": 0,
      "outputs": []
    },
    {
      "metadata": {
        "id": "hVaSm-IOW_ci",
        "colab_type": "code",
        "colab": {
          "base_uri": "https://localhost:8080/",
          "height": 34
        },
        "outputId": "10ed6bdc-bf97-474b-b0d9-448224be2437"
      },
      "cell_type": "code",
      "source": [
        "AND(0,0)"
      ],
      "execution_count": 2,
      "outputs": [
        {
          "output_type": "execute_result",
          "data": {
            "text/plain": [
              "0"
            ]
          },
          "metadata": {
            "tags": []
          },
          "execution_count": 2
        }
      ]
    },
    {
      "metadata": {
        "id": "4B9ZuSp1XYhE",
        "colab_type": "code",
        "colab": {
          "base_uri": "https://localhost:8080/",
          "height": 34
        },
        "outputId": "fe5ff9b1-59e1-4ec1-ec24-b5912bae9359"
      },
      "cell_type": "code",
      "source": [
        "AND(1,0)"
      ],
      "execution_count": 3,
      "outputs": [
        {
          "output_type": "execute_result",
          "data": {
            "text/plain": [
              "0"
            ]
          },
          "metadata": {
            "tags": []
          },
          "execution_count": 3
        }
      ]
    },
    {
      "metadata": {
        "id": "hZOFUZYIXbpK",
        "colab_type": "code",
        "colab": {
          "base_uri": "https://localhost:8080/",
          "height": 34
        },
        "outputId": "b001951d-7387-4782-d507-9b4d77709e02"
      },
      "cell_type": "code",
      "source": [
        "AND(0,1)"
      ],
      "execution_count": 4,
      "outputs": [
        {
          "output_type": "execute_result",
          "data": {
            "text/plain": [
              "0"
            ]
          },
          "metadata": {
            "tags": []
          },
          "execution_count": 4
        }
      ]
    },
    {
      "metadata": {
        "id": "PuEc-YLnXd8M",
        "colab_type": "code",
        "colab": {
          "base_uri": "https://localhost:8080/",
          "height": 34
        },
        "outputId": "fb3ffdd6-207b-4611-8179-ea5efb98702a"
      },
      "cell_type": "code",
      "source": [
        "AND(1,1)"
      ],
      "execution_count": 5,
      "outputs": [
        {
          "output_type": "execute_result",
          "data": {
            "text/plain": [
              "1"
            ]
          },
          "metadata": {
            "tags": []
          },
          "execution_count": 5
        }
      ]
    },
    {
      "metadata": {
        "id": "XI-5Dh1oXy40",
        "colab_type": "text"
      },
      "cell_type": "markdown",
      "source": [
        "### 重みバイアスの導入"
      ]
    },
    {
      "metadata": {
        "id": "IhBYW1r4Xe8F",
        "colab_type": "code",
        "colab": {}
      },
      "cell_type": "code",
      "source": [
        "import numpy as np\n",
        "x = np.array([0,1])\n",
        "w = np.array([0.5,0.5])\n",
        "b = -0.7\n"
      ],
      "execution_count": 0,
      "outputs": []
    },
    {
      "metadata": {
        "id": "-vHsL6w6YCWE",
        "colab_type": "code",
        "colab": {
          "base_uri": "https://localhost:8080/",
          "height": 34
        },
        "outputId": "8ca6c4a4-dc50-40d1-acd5-f87879b4fcab"
      },
      "cell_type": "code",
      "source": [
        "w*x"
      ],
      "execution_count": 7,
      "outputs": [
        {
          "output_type": "execute_result",
          "data": {
            "text/plain": [
              "array([0. , 0.5])"
            ]
          },
          "metadata": {
            "tags": []
          },
          "execution_count": 7
        }
      ]
    },
    {
      "metadata": {
        "id": "jpk8YNSQYDrr",
        "colab_type": "code",
        "colab": {
          "base_uri": "https://localhost:8080/",
          "height": 34
        },
        "outputId": "f58f906c-cd30-488d-ae42-bcb590bedb83"
      },
      "cell_type": "code",
      "source": [
        "np.sum(w*x)+b"
      ],
      "execution_count": 8,
      "outputs": [
        {
          "output_type": "execute_result",
          "data": {
            "text/plain": [
              "-0.19999999999999996"
            ]
          },
          "metadata": {
            "tags": []
          },
          "execution_count": 8
        }
      ]
    },
    {
      "metadata": {
        "id": "JQxfDz3CYVUP",
        "colab_type": "text"
      },
      "cell_type": "markdown",
      "source": [
        "### 重みとバイアスによる実装"
      ]
    },
    {
      "metadata": {
        "id": "rBeZr_C9YIVD",
        "colab_type": "code",
        "colab": {}
      },
      "cell_type": "code",
      "source": [
        "def AND(x1,x2):\n",
        "  x = np.array([x1,x2])\n",
        "  w = np.array([0.5,0.5])\n",
        "  b = -0.7\n",
        "  tmp = np.sum(w*x) + b\n",
        "  if tmp <= 0:\n",
        "    return 0\n",
        "  else:\n",
        "    return 1"
      ],
      "execution_count": 0,
      "outputs": []
    },
    {
      "metadata": {
        "id": "TbEEtuRSYp5V",
        "colab_type": "code",
        "colab": {}
      },
      "cell_type": "code",
      "source": [
        "def NAND(x1,x2):\n",
        "  x = np.array([x1,x2])\n",
        "  w = np.array([-0.5,-0.5])\n",
        "  b =0.7\n",
        "  tmp = np.sum(w*x) + b\n",
        "  if tmp <= 0:\n",
        "    return 0\n",
        "  else:\n",
        "    return 1"
      ],
      "execution_count": 0,
      "outputs": []
    },
    {
      "metadata": {
        "id": "2MAqHVxmZEM7",
        "colab_type": "code",
        "colab": {}
      },
      "cell_type": "code",
      "source": [
        "def OR(x1,x2):\n",
        "  x = np.array([x1,x2])\n",
        "  w = np.array([0.5,0.5])\n",
        "  b = -0.2\n",
        "  tmp = np.sum(w*x)+b\n",
        "  if tmp <= 0:\n",
        "    return 0\n",
        "  else:\n",
        "    return 1"
      ],
      "execution_count": 0,
      "outputs": []
    },
    {
      "metadata": {
        "id": "EtjuVdwqZdxq",
        "colab_type": "text"
      },
      "cell_type": "markdown",
      "source": [
        "単層のパーセプトロンではXORゲートを実装することができない\n",
        "\n",
        "=>XORは非線形な領域をもっているから"
      ]
    },
    {
      "metadata": {
        "id": "I1KyaXS4apaM",
        "colab_type": "text"
      },
      "cell_type": "markdown",
      "source": [
        "### 多層パーセプトロン"
      ]
    },
    {
      "metadata": {
        "id": "tXbhDPG8bEd5",
        "colab_type": "text"
      },
      "cell_type": "markdown",
      "source": [
        "NANDとORをANDするとXORになる"
      ]
    },
    {
      "metadata": {
        "id": "M2QHzD4qZYGe",
        "colab_type": "code",
        "colab": {}
      },
      "cell_type": "code",
      "source": [
        "def XOR(x1,x2):\n",
        "  s1 = NAND(x1,x2)\n",
        "  s2 = OR(x1,x2)\n",
        "  y = AND(s1,s2)\n",
        "  return y"
      ],
      "execution_count": 0,
      "outputs": []
    },
    {
      "metadata": {
        "id": "iDzD9roGbUQU",
        "colab_type": "code",
        "colab": {
          "base_uri": "https://localhost:8080/",
          "height": 34
        },
        "outputId": "61c89c76-c0b3-4be0-a5ac-f66a50d1cb82"
      },
      "cell_type": "code",
      "source": [
        "XOR(0,0)"
      ],
      "execution_count": 13,
      "outputs": [
        {
          "output_type": "execute_result",
          "data": {
            "text/plain": [
              "0"
            ]
          },
          "metadata": {
            "tags": []
          },
          "execution_count": 13
        }
      ]
    },
    {
      "metadata": {
        "id": "vAAwGrAtbXut",
        "colab_type": "code",
        "colab": {
          "base_uri": "https://localhost:8080/",
          "height": 34
        },
        "outputId": "de88b588-c3a4-49ad-e0ca-c0682c161d24"
      },
      "cell_type": "code",
      "source": [
        "XOR(0,1)"
      ],
      "execution_count": 14,
      "outputs": [
        {
          "output_type": "execute_result",
          "data": {
            "text/plain": [
              "1"
            ]
          },
          "metadata": {
            "tags": []
          },
          "execution_count": 14
        }
      ]
    },
    {
      "metadata": {
        "id": "iG-GZq1XbZRx",
        "colab_type": "code",
        "colab": {
          "base_uri": "https://localhost:8080/",
          "height": 34
        },
        "outputId": "733a80e8-6c7d-4a1c-943b-315f234c8fd7"
      },
      "cell_type": "code",
      "source": [
        "XOR(1,0)"
      ],
      "execution_count": 15,
      "outputs": [
        {
          "output_type": "execute_result",
          "data": {
            "text/plain": [
              "1"
            ]
          },
          "metadata": {
            "tags": []
          },
          "execution_count": 15
        }
      ]
    },
    {
      "metadata": {
        "id": "EKIgOH9zbawV",
        "colab_type": "code",
        "colab": {
          "base_uri": "https://localhost:8080/",
          "height": 34
        },
        "outputId": "e7bdd9d5-ceb9-4833-fc74-8bebb734af0f"
      },
      "cell_type": "code",
      "source": [
        "XOR(1,1)"
      ],
      "execution_count": 16,
      "outputs": [
        {
          "output_type": "execute_result",
          "data": {
            "text/plain": [
              "0"
            ]
          },
          "metadata": {
            "tags": []
          },
          "execution_count": 16
        }
      ]
    },
    {
      "metadata": {
        "id": "hHwxnYxzbvRN",
        "colab_type": "text"
      },
      "cell_type": "markdown",
      "source": [
        "XORは二層のパーセプトロン"
      ]
    },
    {
      "metadata": {
        "id": "AWoqw6fObb5n",
        "colab_type": "code",
        "colab": {}
      },
      "cell_type": "code",
      "source": [
        ""
      ],
      "execution_count": 0,
      "outputs": []
    }
  ]
}