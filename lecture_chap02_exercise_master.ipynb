{
  "nbformat": 4,
  "nbformat_minor": 0,
  "metadata": {
    "colab": {
      "name": "lecture_chap02_exercise_master.ipynb",
      "version": "0.3.2",
      "provenance": [],
      "collapsed_sections": [],
      "include_colab_link": true
    },
    "kernelspec": {
      "name": "python3",
      "display_name": "Python 3"
    }
  },
  "cells": [
    {
      "cell_type": "markdown",
      "metadata": {
        "id": "view-in-github",
        "colab_type": "text"
      },
      "source": [
        "<a href=\"https://colab.research.google.com/github/aluqbnle/ml-sandbox/blob/master/lecture_chap02_exercise_master.ipynb\" target=\"_parent\"><img src=\"https://colab.research.google.com/assets/colab-badge.svg\" alt=\"Open In Colab\"/></a>"
      ]
    },
    {
      "metadata": {
        "id": "_AV_nFIi3uAq",
        "colab_type": "text"
      },
      "cell_type": "markdown",
      "source": [
        "# 松尾研のハンズオンをやっていく"
      ]
    },
    {
      "metadata": {
        "id": "F3087Yp-5N3H",
        "colab_type": "text"
      },
      "cell_type": "markdown",
      "source": [
        "## https://karaage.hatenadiary.jp/entry/2018/01/31/073000"
      ]
    },
    {
      "metadata": {
        "id": "G4X2IGf437FC",
        "colab_type": "text"
      },
      "cell_type": "markdown",
      "source": [
        "## numpy"
      ]
    },
    {
      "metadata": {
        "id": "ex2oiG-r3j-m",
        "colab_type": "code",
        "colab": {}
      },
      "cell_type": "code",
      "source": [
        "import numpy as np"
      ],
      "execution_count": 0,
      "outputs": []
    },
    {
      "metadata": {
        "id": "hrkedDiGykar",
        "colab_type": "text"
      },
      "cell_type": "markdown",
      "source": [
        "## 行列・ベクトルの生成・初期化"
      ]
    },
    {
      "metadata": {
        "id": "fsUQG__K32Nt",
        "colab_type": "code",
        "outputId": "44a2d86f-9534-44b9-ef52-acd39b3f9e23",
        "colab": {
          "base_uri": "https://localhost:8080/",
          "height": 67
        }
      },
      "cell_type": "code",
      "source": [
        "W = np.array([[1,2,3],[4,5,6]])\n",
        "x = np.array([7,8,9])\n",
        "\n",
        "print(W)\n",
        "print(x)"
      ],
      "execution_count": 5,
      "outputs": [
        {
          "output_type": "stream",
          "text": [
            "[[1 2 3]\n",
            " [4 5 6]]\n",
            "[7 8 9]\n"
          ],
          "name": "stdout"
        }
      ]
    },
    {
      "metadata": {
        "id": "tDpLQl744vsv",
        "colab_type": "code",
        "outputId": "f26ba2d7-11ca-45ce-9e30-977335024dfe",
        "colab": {
          "base_uri": "https://localhost:8080/",
          "height": 50
        }
      },
      "cell_type": "code",
      "source": [
        "print(W.shape)\n",
        "print(x.shape)"
      ],
      "execution_count": 6,
      "outputs": [
        {
          "output_type": "stream",
          "text": [
            "(2, 3)\n",
            "(3,)\n"
          ],
          "name": "stdout"
        }
      ]
    },
    {
      "metadata": {
        "id": "4dPAJCFX47lq",
        "colab_type": "code",
        "colab": {
          "base_uri": "https://localhost:8080/",
          "height": 50
        },
        "outputId": "260323c6-c22a-4c12-eae8-46a79720c980"
      },
      "cell_type": "code",
      "source": [
        "x_row = np.array([[7,8,9]])\n",
        "x_col = np.array([[7],[8],[9]])\n",
        "\n",
        "print(x_row.shape)\n",
        "print(x_col.shape)"
      ],
      "execution_count": 7,
      "outputs": [
        {
          "output_type": "stream",
          "text": [
            "(1, 3)\n",
            "(3, 1)\n"
          ],
          "name": "stdout"
        }
      ]
    },
    {
      "metadata": {
        "id": "5QOkXbf6t82c",
        "colab_type": "code",
        "colab": {
          "base_uri": "https://localhost:8080/",
          "height": 67
        },
        "outputId": "904f9905-448e-4375-d9a4-664f62983985"
      },
      "cell_type": "code",
      "source": [
        "print(np.zeros(10))\n",
        "print(np.zeros((2,3)))"
      ],
      "execution_count": 8,
      "outputs": [
        {
          "output_type": "stream",
          "text": [
            "[0. 0. 0. 0. 0. 0. 0. 0. 0. 0.]\n",
            "[[0. 0. 0.]\n",
            " [0. 0. 0.]]\n"
          ],
          "name": "stdout"
        }
      ]
    },
    {
      "metadata": {
        "id": "Wz04eXaqu7yr",
        "colab_type": "code",
        "colab": {
          "base_uri": "https://localhost:8080/",
          "height": 84
        },
        "outputId": "36cfd793-141f-4710-dcfd-7fd75d112dea"
      },
      "cell_type": "code",
      "source": [
        "print(np.ones(10))\n",
        "print(np.ones((3,3)))"
      ],
      "execution_count": 9,
      "outputs": [
        {
          "output_type": "stream",
          "text": [
            "[1. 1. 1. 1. 1. 1. 1. 1. 1. 1.]\n",
            "[[1. 1. 1.]\n",
            " [1. 1. 1.]\n",
            " [1. 1. 1.]]\n"
          ],
          "name": "stdout"
        }
      ]
    },
    {
      "metadata": {
        "id": "V26K8XQqvOku",
        "colab_type": "code",
        "colab": {
          "base_uri": "https://localhost:8080/",
          "height": 134
        },
        "outputId": "65d4aa75-25fb-498c-8359-35fdc927e101"
      },
      "cell_type": "code",
      "source": [
        "print(np.arange(10))\n",
        "print(np.arange(3,7))\n",
        "print(np.arange(1,10,0.1))"
      ],
      "execution_count": 10,
      "outputs": [
        {
          "output_type": "stream",
          "text": [
            "[0 1 2 3 4 5 6 7 8 9]\n",
            "[3 4 5 6]\n",
            "[1.  1.1 1.2 1.3 1.4 1.5 1.6 1.7 1.8 1.9 2.  2.1 2.2 2.3 2.4 2.5 2.6 2.7\n",
            " 2.8 2.9 3.  3.1 3.2 3.3 3.4 3.5 3.6 3.7 3.8 3.9 4.  4.1 4.2 4.3 4.4 4.5\n",
            " 4.6 4.7 4.8 4.9 5.  5.1 5.2 5.3 5.4 5.5 5.6 5.7 5.8 5.9 6.  6.1 6.2 6.3\n",
            " 6.4 6.5 6.6 6.7 6.8 6.9 7.  7.1 7.2 7.3 7.4 7.5 7.6 7.7 7.8 7.9 8.  8.1\n",
            " 8.2 8.3 8.4 8.5 8.6 8.7 8.8 8.9 9.  9.1 9.2 9.3 9.4 9.5 9.6 9.7 9.8 9.9]\n"
          ],
          "name": "stdout"
        }
      ]
    },
    {
      "metadata": {
        "id": "bh_o3DVOvupb",
        "colab_type": "code",
        "colab": {
          "base_uri": "https://localhost:8080/",
          "height": 50
        },
        "outputId": "d4c8e9f0-2b8a-41fa-c711-df8f1d2fef43"
      },
      "cell_type": "code",
      "source": [
        "print(np.linspace(0,10,21))"
      ],
      "execution_count": 11,
      "outputs": [
        {
          "output_type": "stream",
          "text": [
            "[ 0.   0.5  1.   1.5  2.   2.5  3.   3.5  4.   4.5  5.   5.5  6.   6.5\n",
            "  7.   7.5  8.   8.5  9.   9.5 10. ]\n"
          ],
          "name": "stdout"
        }
      ]
    },
    {
      "metadata": {
        "id": "qjNOKUq1ytkj",
        "colab_type": "text"
      },
      "cell_type": "markdown",
      "source": [
        "## 行列・ベクトルの操作"
      ]
    },
    {
      "metadata": {
        "id": "sWm_MV8Gxi5G",
        "colab_type": "code",
        "colab": {
          "base_uri": "https://localhost:8080/",
          "height": 185
        },
        "outputId": "0729abfc-c584-4db9-fa30-b924546b8dc8"
      },
      "cell_type": "code",
      "source": [
        "W = np.array([[1,2,3],[4,5,6]])\n",
        "x =np.array([[7,8,9]])\n",
        "\n",
        "print(W)\n",
        "print(W.T)\n",
        "print()\n",
        "print(x)\n",
        "print(x.T)\n"
      ],
      "execution_count": 12,
      "outputs": [
        {
          "output_type": "stream",
          "text": [
            "[[1 2 3]\n",
            " [4 5 6]]\n",
            "[[1 4]\n",
            " [2 5]\n",
            " [3 6]]\n",
            "\n",
            "[[7 8 9]]\n",
            "[[7]\n",
            " [8]\n",
            " [9]]\n"
          ],
          "name": "stdout"
        }
      ]
    },
    {
      "metadata": {
        "id": "6UEVkhtazHs7",
        "colab_type": "code",
        "colab": {
          "base_uri": "https://localhost:8080/",
          "height": 34
        },
        "outputId": "cc320a49-4bef-47bb-9e6b-357a7bc50933"
      },
      "cell_type": "code",
      "source": [
        "print(W.flatten())"
      ],
      "execution_count": 13,
      "outputs": [
        {
          "output_type": "stream",
          "text": [
            "[1 2 3 4 5 6]\n"
          ],
          "name": "stdout"
        }
      ]
    },
    {
      "metadata": {
        "id": "Gt8Regq41l9Z",
        "colab_type": "code",
        "colab": {
          "base_uri": "https://localhost:8080/",
          "height": 67
        },
        "outputId": "e3065b06-0900-4a0d-8237-dab8aabbb44b"
      },
      "cell_type": "code",
      "source": [
        "print(W.reshape(3,2))"
      ],
      "execution_count": 14,
      "outputs": [
        {
          "output_type": "stream",
          "text": [
            "[[1 2]\n",
            " [3 4]\n",
            " [5 6]]\n"
          ],
          "name": "stdout"
        }
      ]
    },
    {
      "metadata": {
        "id": "iYay_8o31tpM",
        "colab_type": "code",
        "colab": {
          "base_uri": "https://localhost:8080/",
          "height": 50
        },
        "outputId": "86cf0315-b964-4a9b-d073-f1402f073d20"
      },
      "cell_type": "code",
      "source": [
        "print(np.arange(10).reshape(2,5))"
      ],
      "execution_count": 15,
      "outputs": [
        {
          "output_type": "stream",
          "text": [
            "[[0 1 2 3 4]\n",
            " [5 6 7 8 9]]\n"
          ],
          "name": "stdout"
        }
      ]
    },
    {
      "metadata": {
        "id": "pdJj_gqC16gi",
        "colab_type": "code",
        "colab": {
          "base_uri": "https://localhost:8080/",
          "height": 269
        },
        "outputId": "09bf464d-fd27-4af2-eb97-c0599161307a"
      },
      "cell_type": "code",
      "source": [
        "W = np.array([[1,2,3],[4,5,6]])\n",
        "\n",
        "print(W[0])\n",
        "print(W[1])\n",
        "print()\n",
        "\n",
        "print(W[:,0])\n",
        "print(W[:,1])\n",
        "print(W[:,2])\n",
        "print()\n",
        "\n",
        "print(W[::-1])\n",
        "print()\n",
        "\n",
        "print(W[:,::-1])\n",
        "print()\n",
        "\n",
        "print(W[::-1,::-1])"
      ],
      "execution_count": 16,
      "outputs": [
        {
          "output_type": "stream",
          "text": [
            "[1 2 3]\n",
            "[4 5 6]\n",
            "\n",
            "[1 4]\n",
            "[2 5]\n",
            "[3 6]\n",
            "\n",
            "[[4 5 6]\n",
            " [1 2 3]]\n",
            "\n",
            "[[3 2 1]\n",
            " [6 5 4]]\n",
            "\n",
            "[[6 5 4]\n",
            " [3 2 1]]\n"
          ],
          "name": "stdout"
        }
      ]
    },
    {
      "metadata": {
        "id": "bbqnKmfY3XgZ",
        "colab_type": "code",
        "colab": {
          "base_uri": "https://localhost:8080/",
          "height": 84
        },
        "outputId": "228d7b98-ff28-4af4-ba8c-f7fa7567f6ec"
      },
      "cell_type": "code",
      "source": [
        "z = np.arange(20).reshape(4,5)\n",
        "x = np.zeros((2, 3))\n",
        "z[1:3,1:4] = x\n",
        "print(z)"
      ],
      "execution_count": 17,
      "outputs": [
        {
          "output_type": "stream",
          "text": [
            "[[ 0  1  2  3  4]\n",
            " [ 5  0  0  0  9]\n",
            " [10  0  0  0 14]\n",
            " [15 16 17 18 19]]\n"
          ],
          "name": "stdout"
        }
      ]
    },
    {
      "metadata": {
        "id": "rhQ-bq4R5-l9",
        "colab_type": "code",
        "colab": {
          "base_uri": "https://localhost:8080/",
          "height": 302
        },
        "outputId": "4d7a65b6-c4fb-44e7-c50e-a645961a62c9"
      },
      "cell_type": "code",
      "source": [
        "x = np.arange(1, 9).reshape(2, 4)\n",
        "print(x)\n",
        "print()\n",
        "\n",
        "y = x[[0, 1, 0, 1], [0, 1, 2, 3]]\n",
        "print(y)\n",
        "\n",
        "# z is equivalent as y\n",
        "# [(0,0), (1,1), (0,2), (1,3)] is zip([0,1,0,1], [0,1,2,3]) \n",
        "z = np.array([x[0, 0], x[1, 1], x[0, 2], x[1, 3]])\n",
        "print(z)\n",
        "print()\n",
        "\n",
        "A = np.arange(0,12).reshape(4,3)\n",
        "print(A)\n",
        "print()\n",
        "\n",
        "b = np.array([0, 2, 0, 1])\n",
        "print(A[np.arange(4), b])      # 各行からbのインデックスに従って抽出\n",
        "print()\n",
        "\n",
        "A[np.arange(4), b] += 10\n",
        "print(A)"
      ],
      "execution_count": 18,
      "outputs": [
        {
          "output_type": "stream",
          "text": [
            "[[1 2 3 4]\n",
            " [5 6 7 8]]\n",
            "\n",
            "[1 6 3 8]\n",
            "[1 6 3 8]\n",
            "\n",
            "[[ 0  1  2]\n",
            " [ 3  4  5]\n",
            " [ 6  7  8]\n",
            " [ 9 10 11]]\n",
            "\n",
            "[ 0  5  6 10]\n",
            "\n",
            "[[10  1  2]\n",
            " [ 3  4 15]\n",
            " [16  7  8]\n",
            " [ 9 20 11]]\n"
          ],
          "name": "stdout"
        }
      ]
    },
    {
      "metadata": {
        "id": "KiI4ZshA8Pvg",
        "colab_type": "code",
        "colab": {
          "base_uri": "https://localhost:8080/",
          "height": 134
        },
        "outputId": "98bbb95d-6776-4179-aaa0-c1a14b25112b"
      },
      "cell_type": "code",
      "source": [
        "a = np.arange(10)\n",
        "print(a)\n",
        "print(a < 5)\n",
        "print(np.where(a < 5))\n",
        "print()\n",
        "\n",
        "b = np.arange(50, 60)\n",
        "print(b)\n",
        "print(b[a < 5])\n",
        "print(b[np.where(a < 5)])"
      ],
      "execution_count": 19,
      "outputs": [
        {
          "output_type": "stream",
          "text": [
            "[0 1 2 3 4 5 6 7 8 9]\n",
            "[ True  True  True  True  True False False False False False]\n",
            "(array([0, 1, 2, 3, 4]),)\n",
            "\n",
            "[50 51 52 53 54 55 56 57 58 59]\n",
            "[50 51 52 53 54]\n",
            "[50 51 52 53 54]\n"
          ],
          "name": "stdout"
        }
      ]
    },
    {
      "metadata": {
        "id": "ypu__RNK_MPa",
        "colab_type": "code",
        "colab": {
          "base_uri": "https://localhost:8080/",
          "height": 67
        },
        "outputId": "edaa076b-f4a2-442f-84d2-5b53ccea1086"
      },
      "cell_type": "code",
      "source": [
        "W = np.array([[1, 2, 3], [4, 5, 6]])\n",
        "x = np.array([7, 8, 9])\n",
        "\n",
        "print(W * 2)\n",
        "print(-x)"
      ],
      "execution_count": 20,
      "outputs": [
        {
          "output_type": "stream",
          "text": [
            "[[ 2  4  6]\n",
            " [ 8 10 12]]\n",
            "[-7 -8 -9]\n"
          ],
          "name": "stdout"
        }
      ]
    },
    {
      "metadata": {
        "id": "o-dBXdrk_P_m",
        "colab_type": "code",
        "colab": {
          "base_uri": "https://localhost:8080/",
          "height": 151
        },
        "outputId": "bbcf85e4-b16a-4019-ffdd-5f7d83ec6067"
      },
      "cell_type": "code",
      "source": [
        "# 行列での例\n",
        "W = np.array([[1, 2, 3], [4, 5, 6]])\n",
        "\n",
        "print(W)\n",
        "print()\n",
        "\n",
        "print(W.sum())\n",
        "print()\n",
        "\n",
        "print(W.sum(axis=0))\n",
        "print()\n",
        "\n",
        "print(W.sum(axis=1))"
      ],
      "execution_count": 21,
      "outputs": [
        {
          "output_type": "stream",
          "text": [
            "[[1 2 3]\n",
            " [4 5 6]]\n",
            "\n",
            "21\n",
            "\n",
            "[5 7 9]\n",
            "\n",
            "[ 6 15]\n"
          ],
          "name": "stdout"
        }
      ]
    },
    {
      "metadata": {
        "id": "BsqRDp22_UGk",
        "colab_type": "code",
        "colab": {
          "base_uri": "https://localhost:8080/",
          "height": 336
        },
        "outputId": "8302c45f-e60a-414d-db21-0640bb5963cb"
      },
      "cell_type": "code",
      "source": [
        "# 3階テンソルでの例\n",
        "A = np.arange(24).reshape(2,3,4)\n",
        "print(A)\n",
        "print()\n",
        "\n",
        "print(A.sum())\n",
        "print()\n",
        "\n",
        "print(A.sum(axis=0))\n",
        "print()\n",
        "\n",
        "print(A.sum(axis=1))\n",
        "print()\n",
        "\n",
        "print(A.sum(axis=2))"
      ],
      "execution_count": 22,
      "outputs": [
        {
          "output_type": "stream",
          "text": [
            "[[[ 0  1  2  3]\n",
            "  [ 4  5  6  7]\n",
            "  [ 8  9 10 11]]\n",
            "\n",
            " [[12 13 14 15]\n",
            "  [16 17 18 19]\n",
            "  [20 21 22 23]]]\n",
            "\n",
            "276\n",
            "\n",
            "[[12 14 16 18]\n",
            " [20 22 24 26]\n",
            " [28 30 32 34]]\n",
            "\n",
            "[[12 15 18 21]\n",
            " [48 51 54 57]]\n",
            "\n",
            "[[ 6 22 38]\n",
            " [54 70 86]]\n"
          ],
          "name": "stdout"
        }
      ]
    },
    {
      "metadata": {
        "id": "D_48eu86_YBc",
        "colab_type": "code",
        "colab": {}
      },
      "cell_type": "code",
      "source": [
        ""
      ],
      "execution_count": 0,
      "outputs": []
    }
  ]
}