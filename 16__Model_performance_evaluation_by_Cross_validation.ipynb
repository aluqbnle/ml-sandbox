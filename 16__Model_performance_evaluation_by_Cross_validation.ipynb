{
  "nbformat": 4,
  "nbformat_minor": 0,
  "metadata": {
    "colab": {
      "name": "16_ Model_performance_evaluation_by_Cross-validation.ipynb",
      "version": "0.3.2",
      "provenance": [],
      "collapsed_sections": [],
      "include_colab_link": true
    },
    "kernelspec": {
      "name": "python3",
      "display_name": "Python 3"
    },
    "accelerator": "GPU"
  },
  "cells": [
    {
      "cell_type": "markdown",
      "metadata": {
        "id": "view-in-github",
        "colab_type": "text"
      },
      "source": [
        "<a href=\"https://colab.research.google.com/github/aluqbnle/ml-sandbox/blob/master/16__Model_performance_evaluation_by_Cross_validation.ipynb\" target=\"_parent\"><img src=\"https://colab.research.google.com/assets/colab-badge.svg\" alt=\"Open In Colab\"/></a>"
      ]
    },
    {
      "metadata": {
        "id": "K06cuzp5aAUP",
        "colab_type": "text"
      },
      "cell_type": "markdown",
      "source": [
        "## 交差検証"
      ]
    },
    {
      "metadata": {
        "id": "v4KyOguBl5DC",
        "colab_type": "code",
        "colab": {}
      },
      "cell_type": "code",
      "source": [
        "from pandas import DataFrame\n",
        "from sklearn.datasets import load_breast_cancer"
      ],
      "execution_count": 0,
      "outputs": []
    },
    {
      "metadata": {
        "id": "dkaQWe1VZWGq",
        "colab_type": "code",
        "colab": {}
      },
      "cell_type": "code",
      "source": [
        "breast_cancer=load_breast_cancer()\n",
        "X=breast_cancer.data[:,:10]\n",
        "y=breast_cancer.target\n",
        "\n",
        "columns=['radius','texture','Circumference','area','smoothness','compactness','dent','number_of_dent','Symmetry','fractal dimension']\n",
        "\n",
        "df=DataFrame(data=X[:,:10],columns=columns)\n",
        "df['objective_values']=y"
      ],
      "execution_count": 0,
      "outputs": []
    },
    {
      "metadata": {
        "id": "Y4Qk1XAUZdN-",
        "colab_type": "code",
        "colab": {}
      },
      "cell_type": "code",
      "source": [
        "X=df[['area','dent']].values\n",
        "y=df['objective_values'].values"
      ],
      "execution_count": 0,
      "outputs": []
    },
    {
      "metadata": {
        "id": "4j8AmwyHZgu8",
        "colab_type": "code",
        "colab": {}
      },
      "cell_type": "code",
      "source": [
        "import numpy\n",
        "from sklearn.ensemble import RandomForestClassifier\n",
        "from sklearn.metrics import accuracy_score"
      ],
      "execution_count": 0,
      "outputs": []
    },
    {
      "metadata": {
        "id": "D-xKyCAraTHF",
        "colab_type": "text"
      },
      "cell_type": "markdown",
      "source": [
        "### 層化k分割交差検証によるモデルの評価"
      ]
    },
    {
      "metadata": {
        "id": "YV_aPhZ8ZwY7",
        "colab_type": "code",
        "colab": {}
      },
      "cell_type": "code",
      "source": [
        "from sklearn.model_selection import StratifiedKFold"
      ],
      "execution_count": 0,
      "outputs": []
    },
    {
      "metadata": {
        "id": "7QhsJb2ualRf",
        "colab_type": "code",
        "colab": {}
      },
      "cell_type": "code",
      "source": [
        "skf =StratifiedKFold(n_splits=10,shuffle=True,random_state=42)"
      ],
      "execution_count": 0,
      "outputs": []
    },
    {
      "metadata": {
        "id": "1mLSIOv2a0WQ",
        "colab_type": "code",
        "colab": {
          "base_uri": "https://localhost:8080/",
          "height": 185
        },
        "outputId": "2734ebfe-961a-4391-98f5-4922492d843f"
      },
      "cell_type": "code",
      "source": [
        "# 各分割毎の正解率を格納するリスト\n",
        "scores = []\n",
        "\n",
        "# 各分割に対して、ランダムフォレストモデルを評価する\n",
        "for i,(train_index,test_index) in enumerate(skf.split(X,y)):\n",
        "  #train_indexは訓練データに利用するデータのインデックスが格納されたリスト\n",
        "  #test_indexはテストデータに利用するデータのインデックスが格納されたリスト\n",
        "  X_train,X_test=X[train_index],X[test_index]\n",
        "  y_train,y_test=y[train_index],y[test_index]\n",
        "  \n",
        "  # ランダムフォレストモデルの作成\n",
        "  rf = RandomForestClassifier(criterion='gini',max_depth=1,n_estimators=10,random_state=42)\n",
        "  \n",
        "  # ランダムフォレストモデルの学習\n",
        "  rf.fit(X_train,y_train)\n",
        "  \n",
        "  # テストデータの予測\n",
        "  pred =rf.predict(X_test)\n",
        "  acc = accuracy_score(y_test,pred)\n",
        "  scores.append(acc)\n",
        "  \n",
        "  # 正解率の表示\n",
        "  print(f\"分割: {i}, 正解率:{acc}\")"
      ],
      "execution_count": 13,
      "outputs": [
        {
          "output_type": "stream",
          "text": [
            "分割: 0, 正解率:0.8793103448275862\n",
            "分割: 1, 正解率:0.9137931034482759\n",
            "分割: 2, 正解率:0.8947368421052632\n",
            "分割: 3, 正解率:0.8596491228070176\n",
            "分割: 4, 正解率:0.8771929824561403\n",
            "分割: 5, 正解率:0.9473684210526315\n",
            "分割: 6, 正解率:0.8947368421052632\n",
            "分割: 7, 正解率:0.8571428571428571\n",
            "分割: 8, 正解率:0.8928571428571429\n",
            "分割: 9, 正解率:0.9107142857142857\n"
          ],
          "name": "stdout"
        }
      ]
    },
    {
      "metadata": {
        "id": "dSKaGyzJzLKI",
        "colab_type": "code",
        "colab": {
          "base_uri": "https://localhost:8080/",
          "height": 34
        },
        "outputId": "a8ba357f-1828-44c3-892d-331ab0b63cba"
      },
      "cell_type": "code",
      "source": [
        "numpy.mean(scores)"
      ],
      "execution_count": 14,
      "outputs": [
        {
          "output_type": "execute_result",
          "data": {
            "text/plain": [
              "0.8927501944516465"
            ]
          },
          "metadata": {
            "tags": []
          },
          "execution_count": 14
        }
      ]
    },
    {
      "metadata": {
        "id": "JpmUwvdD0bFm",
        "colab_type": "code",
        "colab": {}
      },
      "cell_type": "code",
      "source": [
        ""
      ],
      "execution_count": 0,
      "outputs": []
    }
  ]
}