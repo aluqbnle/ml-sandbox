{
  "nbformat": 4,
  "nbformat_minor": 0,
  "metadata": {
    "colab": {
      "name": "19_linear_regression.ipynb",
      "version": "0.3.2",
      "provenance": [],
      "collapsed_sections": [],
      "include_colab_link": true
    },
    "kernelspec": {
      "name": "python3",
      "display_name": "Python 3"
    }
  },
  "cells": [
    {
      "cell_type": "markdown",
      "metadata": {
        "id": "view-in-github",
        "colab_type": "text"
      },
      "source": [
        "<a href=\"https://colab.research.google.com/github/aluqbnle/ml-sandbox/blob/master/19_linear_regression.ipynb\" target=\"_parent\"><img src=\"https://colab.research.google.com/assets/colab-badge.svg\" alt=\"Open In Colab\"/></a>"
      ]
    },
    {
      "metadata": {
        "id": "0D-7LF8TBUze",
        "colab_type": "text"
      },
      "cell_type": "markdown",
      "source": [
        "# 線形回帰"
      ]
    },
    {
      "metadata": {
        "id": "Zx-MH-KyBryv",
        "colab_type": "text"
      },
      "cell_type": "markdown",
      "source": [
        "\n",
        "\n",
        "$$\n",
        "y = w _ { 0 } x _ { 0 } + w _ { 1 } x _ { 1 } + \\cdots + w _ { m } x _ { m } = \\sum _ { k = 0 } ^ { m } w _ { k } x _ { k }\n",
        "$$\n",
        "\n"
      ]
    },
    {
      "metadata": {
        "id": "DzAWqjukCa9s",
        "colab_type": "text"
      },
      "cell_type": "markdown",
      "source": [
        "目的変数yを説明変数xで表すことを線形回帰と呼ぶ。ただし$$x_0 = 1$$とする。また、$$m=1$$の時を単回帰。$$m\\geq2$$の時を重回帰と呼ぶ。"
      ]
    },
    {
      "metadata": {
        "id": "gp7vDhEiD0z1",
        "colab_type": "text"
      },
      "cell_type": "markdown",
      "source": [
        "## 単回帰"
      ]
    },
    {
      "metadata": {
        "id": "UqzpUuCtEICQ",
        "colab_type": "text"
      },
      "cell_type": "markdown",
      "source": [
        "$$\n",
        "y = w _ { 0 } x _ { 0 } + w _ { 1 } x _ { 1 } = w _ { 0 } + w _ { 1 } x _ { 1 }\n",
        "$$"
      ]
    },
    {
      "metadata": {
        "id": "cYNt6iELEonB",
        "colab_type": "text"
      },
      "cell_type": "markdown",
      "source": [
        "観測点を最も適切に表現する直線を求める"
      ]
    },
    {
      "metadata": {
        "id": "2lAbmOYfEdVz",
        "colab_type": "text"
      },
      "cell_type": "markdown",
      "source": [
        "## 重回帰"
      ]
    },
    {
      "metadata": {
        "id": "aSW61iJnEffh",
        "colab_type": "text"
      },
      "cell_type": "markdown",
      "source": [
        "$$\n",
        "v = w _ { n } x _ { n } + w _ { 1 } x _ { 1 } + w _ { n } x _ { n } = w _ { 0 } + w _ { 1 } x _ { 1 } + w _ { 2 } x _ { 2 }\n",
        "$$"
      ]
    },
    {
      "metadata": {
        "id": "thI49NmlEqn_",
        "colab_type": "text"
      },
      "cell_type": "markdown",
      "source": [
        "観測点を最も適切に表現する平面を求める"
      ]
    },
    {
      "metadata": {
        "id": "IncUZXG-FaBW",
        "colab_type": "text"
      },
      "cell_type": "markdown",
      "source": [
        "##重みの更新"
      ]
    },
    {
      "metadata": {
        "id": "muGFzpWvFhfD",
        "colab_type": "text"
      },
      "cell_type": "markdown",
      "source": [
        "### 最小二乗法\n",
        "みんな大好き最小二乗法"
      ]
    },
    {
      "metadata": {
        "id": "yAmDhShUFtZI",
        "colab_type": "text"
      },
      "cell_type": "markdown",
      "source": [
        "$$\n",
        "L ( \\boldsymbol { w } ) = \\frac { 1 } { 2 } \\sum _ { i = 1 } ^ { n } \\left( y ^ { ( i ) } - \\hat { y } ^ { ( i ) } \\right) ^ { 2 }\n",
        "$$"
      ]
    },
    {
      "metadata": {
        "id": "cpJqHnsvFwqn",
        "colab_type": "text"
      },
      "cell_type": "markdown",
      "source": [
        "Lが目的関数である。"
      ]
    },
    {
      "metadata": {
        "id": "5Ii-Zeb9F42g",
        "colab_type": "text"
      },
      "cell_type": "markdown",
      "source": [
        "### 勾配降下法\n",
        "コスト関数Eを\n",
        "$$\n",
        "E ( \\boldsymbol { w } ) = L ( \\boldsymbol { w } ) = \\frac { 1 } { 2 } \\sum _ { i = 1 } ^ { n } \\left( y ^ { ( i ) } - \\hat { y } ^ { ( i ) } \\right) ^ { 2 }\n",
        "$$\n",
        "として\n",
        "\n",
        "$$\n",
        "\\begin{aligned} \\frac { \\partial } { \\partial w _ { j } } E ( \\boldsymbol { w } ) & = \\frac { 1 } { 2 } \\sum _ { i } ^ { n } 2 \\left( y ^ { ( i ) } - \\hat { y } ^ { ( i ) } \\right) \\frac { \\partial } { \\partial w _ { j } } \\left( y ^ { ( i ) } - \\hat { y } ^ { ( i ) } \\right) \\\\ & = \\sum _ { i } ^ { n } \\left( y ^ { ( i ) } - \\hat { y } ^ { ( i ) } \\right) \\frac { \\partial } { \\partial w _ { j } } \\left( y ^ { ( i ) } - \\sum _ { k } w _ { k } x _ { k } ^ { ( i ) } \\right) \\\\ & = \\sum _ { i } ^ { n } \\left( y ^ { ( i ) } - \\hat { y } ^ { ( i ) } \\right) \\left( - x _ { j } ^ { ( i ) } \\right) \\\\ & = - \\sum _ { i } ^ { n } \\left( y ^ { ( i ) } - \\hat { y } ^ { ( i ) } \\right) x _ { j } ^ { ( i ) } \\end{aligned}\n",
        "$$\n",
        "によって勾配を求める。\n",
        "\n",
        "したがって、重みの更新式は\n",
        "$$\n",
        "w _ { j } \\leftarrow w _ { j } + \\eta \\sum _ { i = 1 } ^ { n } \\left( y ^ { ( i ) } - \\hat { y } ^ { ( i ) } \\right) x _ { j } ^ { ( i ) }\n",
        "$$\n",
        "となる。ηは学習率である。"
      ]
    },
    {
      "metadata": {
        "id": "OSkys2PiHwAX",
        "colab_type": "text"
      },
      "cell_type": "markdown",
      "source": [
        "## 決定係数\n",
        "回帰タスクの評価指標である決定係数は残差平方和と総平方和の２つから求める。"
      ]
    },
    {
      "metadata": {
        "id": "TF5VyJ2NIbY8",
        "colab_type": "text"
      },
      "cell_type": "markdown",
      "source": [
        "### 残差平方和\n",
        "RSSという\n",
        "$$\n",
        "\\mathrm { RSS } = \\sum _ { i = 1 } ^ { n } \\left( y ^ { ( i ) } - \\hat { y } ^ { ( i ) } \\right) ^ { 2 }\n",
        "$$\n",
        "によって定義される。最小事情の目的関数Lを二倍したものである。"
      ]
    },
    {
      "metadata": {
        "id": "I8DIijWHI-gt",
        "colab_type": "text"
      },
      "cell_type": "markdown",
      "source": [
        "### 総平方和\n",
        "正解値の平均をyバーとして\n",
        "$$\n",
        "\\overline { y } = \\frac { 1 } { n } \\sum _ { i = 1 } ^ { n } y ^ { ( i ) }\n",
        "$$\n",
        "総平方和TSS\n",
        "$$\n",
        "\\mathrm { TSS } = \\sum _ { i = 1 } ^ { n } \\left( y ^ { ( i ) } - \\overline { y } \\right) ^ { 2 }\n",
        "$$\n",
        "である。"
      ]
    },
    {
      "metadata": {
        "id": "TeG0BJTY6fJm",
        "colab_type": "text"
      },
      "cell_type": "markdown",
      "source": [
        "### 決定係数\n",
        "決定係数 (coefficient of determination) は残差平方和 (RSS) と総平方和 (TSS) を用いて、\n",
        "$$\n",
        "R ^ { 2 } = 1 - \\frac { \\mathrm { RRS } } { \\mathrm { TSS } }\n",
        "$$\n",
        "と定義される。誤差(RSS)が0のとき1となり1に近いほど性能の良いモデルであると評価できる。\n",
        "\n",
        "RSS、残差平方和の平均を平均二乗誤差 (mean squared error, MSE) と呼ぶこともでき、\n",
        "$$\n",
        "\\mathrm { MSE } = \\frac { 1 } { n } \\sum _ { i = 1 } ^ { n } \\left( y ^ { ( i ) } - \\hat { y } ^ { ( i ) } \\right) ^ { 2 }\n",
        "$$\n",
        "として表される。\n",
        "平均二乗誤差を利用すると、 R二条は\n",
        "$$\n",
        "\\begin{aligned} R ^ { 2 } & = 1 - \\frac { \\mathrm { RRS } } { \\mathrm { TSS } } \\\\ & = 1 - \\frac { \\frac { 1 } { n } \\sum _ { i = 1 } ^ { n } \\left( y ^ { ( i ) } - \\hat { y } ^ { ( i ) } \\right) ^ { 2 } } { \\frac { 1 } { n } \\sum _ { i = 1 } ^ { n } \\left( y ^ { ( i ) } - \\overline { y } \\right) ^ { 2 } } \\\\ & = 1 - \\frac { \\mathrm { MSE } } { \\operatorname { Var } ( y ) } \\end{aligned}\n",
        "$$\n",
        "と変形できます。ここでVar(y)は正解地の分散であり、\n",
        "$$\n",
        "\\begin{aligned} \\operatorname { Var } ( y ) & = \\frac { 1 } { n } \\sum _ { i = 1 } ^ { n } \\left( y ^ { ( i ) } - \\overline { y } \\right) ^ { 2 } \\\\ & = \\frac { 1 } { n } \\mathrm { TSS } \\end{aligned}\n",
        "$$\n",
        "として定義される。\n"
      ]
    },
    {
      "metadata": {
        "id": "TqI3ICboBMFc",
        "colab_type": "code",
        "colab": {}
      },
      "cell_type": "code",
      "source": [
        ""
      ],
      "execution_count": 0,
      "outputs": []
    }
  ]
}