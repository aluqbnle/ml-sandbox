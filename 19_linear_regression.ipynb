{
  "nbformat": 4,
  "nbformat_minor": 0,
  "metadata": {
    "colab": {
      "name": "19_linear_regression.ipynb",
      "version": "0.3.2",
      "provenance": [],
      "collapsed_sections": [],
      "include_colab_link": true
    },
    "kernelspec": {
      "name": "python3",
      "display_name": "Python 3"
    }
  },
  "cells": [
    {
      "cell_type": "markdown",
      "metadata": {
        "id": "view-in-github",
        "colab_type": "text"
      },
      "source": [
        "<a href=\"https://colab.research.google.com/github/aluqbnle/ml-sandbox/blob/master/19_linear_regression.ipynb\" target=\"_parent\"><img src=\"https://colab.research.google.com/assets/colab-badge.svg\" alt=\"Open In Colab\"/></a>"
      ]
    },
    {
      "metadata": {
        "id": "0D-7LF8TBUze",
        "colab_type": "text"
      },
      "cell_type": "markdown",
      "source": [
        "# 線形回帰"
      ]
    },
    {
      "metadata": {
        "id": "Zx-MH-KyBryv",
        "colab_type": "text"
      },
      "cell_type": "markdown",
      "source": [
        "\n",
        "\n",
        "$$\n",
        "y = w _ { 0 } x _ { 0 } + w _ { 1 } x _ { 1 } + \\cdots + w _ { m } x _ { m } = \\sum _ { k = 0 } ^ { m } w _ { k } x _ { k }\n",
        "$$\n",
        "\n"
      ]
    },
    {
      "metadata": {
        "id": "DzAWqjukCa9s",
        "colab_type": "text"
      },
      "cell_type": "markdown",
      "source": [
        "目的変数yを説明変数xで表すことを線形回帰と呼ぶ。ただし$$x_0 = 1$$とする。また、$$m=1$$の時を単回帰。$$m\\geq2$$の時を重回帰と呼ぶ。"
      ]
    },
    {
      "metadata": {
        "id": "gp7vDhEiD0z1",
        "colab_type": "text"
      },
      "cell_type": "markdown",
      "source": [
        "## 単回帰"
      ]
    },
    {
      "metadata": {
        "id": "UqzpUuCtEICQ",
        "colab_type": "text"
      },
      "cell_type": "markdown",
      "source": [
        "$$\n",
        "y = w _ { 0 } x _ { 0 } + w _ { 1 } x _ { 1 } = w _ { 0 } + w _ { 1 } x _ { 1 }\n",
        "$$"
      ]
    },
    {
      "metadata": {
        "id": "cYNt6iELEonB",
        "colab_type": "text"
      },
      "cell_type": "markdown",
      "source": [
        "観測点を最も適切に表現する直線を求める"
      ]
    },
    {
      "metadata": {
        "id": "2lAbmOYfEdVz",
        "colab_type": "text"
      },
      "cell_type": "markdown",
      "source": [
        "## 重回帰"
      ]
    },
    {
      "metadata": {
        "id": "aSW61iJnEffh",
        "colab_type": "text"
      },
      "cell_type": "markdown",
      "source": [
        "$$\n",
        "v = w _ { n } x _ { n } + w _ { 1 } x _ { 1 } + w _ { n } x _ { n } = w _ { 0 } + w _ { 1 } x _ { 1 } + w _ { 2 } x _ { 2 }\n",
        "$$"
      ]
    },
    {
      "metadata": {
        "id": "thI49NmlEqn_",
        "colab_type": "text"
      },
      "cell_type": "markdown",
      "source": [
        "観測点を最も適切に表現する平面を求める"
      ]
    },
    {
      "metadata": {
        "id": "TqI3ICboBMFc",
        "colab_type": "code",
        "colab": {}
      },
      "cell_type": "code",
      "source": [
        ""
      ],
      "execution_count": 0,
      "outputs": []
    }
  ]
}