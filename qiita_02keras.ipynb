{
  "nbformat": 4,
  "nbformat_minor": 0,
  "metadata": {
    "colab": {
      "name": "qiita_02keras.ipynb",
      "version": "0.3.2",
      "provenance": [],
      "include_colab_link": true
    },
    "kernelspec": {
      "name": "python3",
      "display_name": "Python 3"
    },
    "accelerator": "TPU"
  },
  "cells": [
    {
      "cell_type": "markdown",
      "metadata": {
        "id": "view-in-github",
        "colab_type": "text"
      },
      "source": [
        "<a href=\"https://colab.research.google.com/github/aluqbnle/ml-sandbox/blob/master/qiita_02keras.ipynb\" target=\"_parent\"><img src=\"https://colab.research.google.com/assets/colab-badge.svg\" alt=\"Open In Colab\"/></a>"
      ]
    },
    {
      "metadata": {
        "id": "_uCVbQYZL4EK",
        "colab_type": "text"
      },
      "cell_type": "markdown",
      "source": [
        "# Kerasをやる"
      ]
    },
    {
      "metadata": {
        "id": "n126DgksL0EZ",
        "colab_type": "code",
        "colab": {
          "base_uri": "https://localhost:8080/",
          "height": 67
        },
        "outputId": "783f52f3-eca0-4b31-a29d-397c9e8d8fe5"
      },
      "cell_type": "code",
      "source": [
        "from keras.datasets import mnist\n",
        "(x_train,y_train),(x_test,y_test) = mnist.load_data()"
      ],
      "execution_count": 1,
      "outputs": [
        {
          "output_type": "stream",
          "text": [
            "Using TensorFlow backend.\n"
          ],
          "name": "stderr"
        },
        {
          "output_type": "stream",
          "text": [
            "Downloading data from https://s3.amazonaws.com/img-datasets/mnist.npz\n",
            "11493376/11490434 [==============================] - 0s 0us/step\n"
          ],
          "name": "stdout"
        }
      ]
    },
    {
      "metadata": {
        "id": "m9lK0pETMdNp",
        "colab_type": "code",
        "colab": {}
      },
      "cell_type": "code",
      "source": [
        "from keras.utils.np_utils import to_categorical\n",
        "\n",
        "# 画像を1次元化\n",
        "x_train = x_train.reshape(60000, 784)\n",
        "x_test = x_test.reshape(10000, 784)\n",
        "\n",
        "# 画素を0~1の範囲に変換(正規化)\n",
        "x_train = x_train.astype('float32') / 255\n",
        "x_test = x_test.astype('float32') / 255\n",
        "\n",
        "# 正解ラベルをone-hot-encoding\n",
        "y_train = to_categorical(y_train, 10)\n",
        "y_test = to_categorical(y_test, 10)"
      ],
      "execution_count": 0,
      "outputs": []
    },
    {
      "metadata": {
        "id": "PeS1qyVrNMQP",
        "colab_type": "code",
        "colab": {
          "base_uri": "https://localhost:8080/",
          "height": 87
        },
        "outputId": "d2fb9670-9e8d-49d7-f34a-3431d5944ebb"
      },
      "cell_type": "code",
      "source": [
        "from keras.models import Sequential\n",
        "from keras.layers import Dense\n",
        "\n",
        "model = Sequential()\n",
        "model.add(Dense(64, activation='relu', input_dim=784))\n",
        "model.add(Dense(10, activation='softmax'))\n",
        "\n",
        "model.compile(optimizer='rmsprop',\n",
        "              loss='categorical_crossentropy',\n",
        "              metrics=['accuracy'])\n"
      ],
      "execution_count": 3,
      "outputs": [
        {
          "output_type": "stream",
          "text": [
            "WARNING:tensorflow:From /usr/local/lib/python3.6/dist-packages/tensorflow/python/framework/op_def_library.py:263: colocate_with (from tensorflow.python.framework.ops) is deprecated and will be removed in a future version.\n",
            "Instructions for updating:\n",
            "Colocations handled automatically by placer.\n"
          ],
          "name": "stdout"
        }
      ]
    },
    {
      "metadata": {
        "id": "QUjanEjyNOcO",
        "colab_type": "code",
        "colab": {
          "base_uri": "https://localhost:8080/",
          "height": 507
        },
        "outputId": "958e4c33-6660-4630-d40d-0ab88f5371c7"
      },
      "cell_type": "code",
      "source": [
        "model.fit(x_train, y_train,\n",
        "            batch_size=100,\n",
        "            epochs=12,\n",
        "            verbose=1)"
      ],
      "execution_count": 4,
      "outputs": [
        {
          "output_type": "stream",
          "text": [
            "WARNING:tensorflow:From /usr/local/lib/python3.6/dist-packages/tensorflow/python/ops/math_ops.py:3066: to_int32 (from tensorflow.python.ops.math_ops) is deprecated and will be removed in a future version.\n",
            "Instructions for updating:\n",
            "Use tf.cast instead.\n",
            "Epoch 1/12\n",
            "60000/60000 [==============================] - 3s 43us/step - loss: 0.3542 - acc: 0.9035\n",
            "Epoch 2/12\n",
            "60000/60000 [==============================] - 2s 32us/step - loss: 0.1848 - acc: 0.9470\n",
            "Epoch 3/12\n",
            "60000/60000 [==============================] - 2s 30us/step - loss: 0.1407 - acc: 0.9596\n",
            "Epoch 4/12\n",
            "60000/60000 [==============================] - 2s 29us/step - loss: 0.1149 - acc: 0.9664\n",
            "Epoch 5/12\n",
            "60000/60000 [==============================] - 2s 28us/step - loss: 0.0975 - acc: 0.9712\n",
            "Epoch 6/12\n",
            "60000/60000 [==============================] - 2s 28us/step - loss: 0.0844 - acc: 0.9750\n",
            "Epoch 7/12\n",
            "60000/60000 [==============================] - 2s 27us/step - loss: 0.0750 - acc: 0.9786\n",
            "Epoch 8/12\n",
            "60000/60000 [==============================] - 2s 29us/step - loss: 0.0679 - acc: 0.9801\n",
            "Epoch 9/12\n",
            "60000/60000 [==============================] - 2s 28us/step - loss: 0.0611 - acc: 0.9824\n",
            "Epoch 10/12\n",
            "60000/60000 [==============================] - 2s 27us/step - loss: 0.0560 - acc: 0.9839\n",
            "Epoch 11/12\n",
            "60000/60000 [==============================] - 2s 27us/step - loss: 0.0513 - acc: 0.9855\n",
            "Epoch 12/12\n",
            "60000/60000 [==============================] - 2s 26us/step - loss: 0.0464 - acc: 0.9869\n"
          ],
          "name": "stdout"
        },
        {
          "output_type": "execute_result",
          "data": {
            "text/plain": [
              "<keras.callbacks.History at 0x7fe4e03d1dd8>"
            ]
          },
          "metadata": {
            "tags": []
          },
          "execution_count": 4
        }
      ]
    },
    {
      "metadata": {
        "id": "jx3xXTqUNQ-i",
        "colab_type": "code",
        "colab": {
          "base_uri": "https://localhost:8080/",
          "height": 67
        },
        "outputId": "3f5418de-d691-495d-97f8-4e9b76fbc08f"
      },
      "cell_type": "code",
      "source": [
        "score = model.evaluate(x_test, y_test)\n",
        "print(score[0])\n",
        "print(score[1])"
      ],
      "execution_count": 5,
      "outputs": [
        {
          "output_type": "stream",
          "text": [
            "10000/10000 [==============================] - 0s 25us/step\n",
            "0.08946762549648993\n",
            "0.9743\n"
          ],
          "name": "stdout"
        }
      ]
    },
    {
      "metadata": {
        "id": "_SmAy5ILNY29",
        "colab_type": "code",
        "colab": {
          "base_uri": "https://localhost:8080/",
          "height": 1129
        },
        "outputId": "6cb951ba-82ec-4797-a7d3-b9b04f3bb377"
      },
      "cell_type": "code",
      "source": [
        "import keras\n",
        "from keras.datasets import mnist\n",
        "from keras.models import Sequential\n",
        "from keras.layers import Dense, Dropout\n",
        "from keras.optimizers import RMSprop\n",
        "\n",
        "batch_size = 128\n",
        "num_classes = 10\n",
        "epochs = 20\n",
        "\n",
        "# the data, split between train and test sets\n",
        "(x_train, y_train), (x_test, y_test) = mnist.load_data()\n",
        "\n",
        "x_train = x_train.reshape(60000, 784)\n",
        "x_test = x_test.reshape(10000, 784)\n",
        "x_train = x_train.astype('float32')\n",
        "x_test = x_test.astype('float32')\n",
        "x_train /= 255\n",
        "x_test /= 255\n",
        "print(x_train.shape[0], 'train samples')\n",
        "print(x_test.shape[0], 'test samples')\n",
        "\n",
        "# convert class vectors to binary class matrices\n",
        "y_train = keras.utils.to_categorical(y_train, num_classes)\n",
        "y_test = keras.utils.to_categorical(y_test, num_classes)\n",
        "\n",
        "model = Sequential()\n",
        "model.add(Dense(512, activation='relu', input_shape=(784,)))\n",
        "model.add(Dropout(0.2))\n",
        "model.add(Dense(512, activation='relu'))\n",
        "model.add(Dropout(0.2))\n",
        "model.add(Dense(num_classes, activation='softmax'))\n",
        "\n",
        "model.summary()\n",
        "\n",
        "model.compile(loss='categorical_crossentropy',\n",
        "              optimizer=RMSprop(),\n",
        "              metrics=['accuracy'])\n",
        "\n",
        "history = model.fit(x_train, y_train,\n",
        "                    batch_size=batch_size,\n",
        "                    epochs=epochs,\n",
        "                    verbose=1,\n",
        "                    validation_data=(x_test, y_test))\n",
        "score = model.evaluate(x_test, y_test, verbose=0)\n",
        "print('Test loss:', score[0])\n",
        "print('Test accuracy:', score[1])"
      ],
      "execution_count": 6,
      "outputs": [
        {
          "output_type": "stream",
          "text": [
            "60000 train samples\n",
            "10000 test samples\n",
            "WARNING:tensorflow:From /usr/local/lib/python3.6/dist-packages/keras/backend/tensorflow_backend.py:3445: calling dropout (from tensorflow.python.ops.nn_ops) with keep_prob is deprecated and will be removed in a future version.\n",
            "Instructions for updating:\n",
            "Please use `rate` instead of `keep_prob`. Rate should be set to `rate = 1 - keep_prob`.\n",
            "_________________________________________________________________\n",
            "Layer (type)                 Output Shape              Param #   \n",
            "=================================================================\n",
            "dense_3 (Dense)              (None, 512)               401920    \n",
            "_________________________________________________________________\n",
            "dropout_1 (Dropout)          (None, 512)               0         \n",
            "_________________________________________________________________\n",
            "dense_4 (Dense)              (None, 512)               262656    \n",
            "_________________________________________________________________\n",
            "dropout_2 (Dropout)          (None, 512)               0         \n",
            "_________________________________________________________________\n",
            "dense_5 (Dense)              (None, 10)                5130      \n",
            "=================================================================\n",
            "Total params: 669,706\n",
            "Trainable params: 669,706\n",
            "Non-trainable params: 0\n",
            "_________________________________________________________________\n",
            "Train on 60000 samples, validate on 10000 samples\n",
            "Epoch 1/20\n",
            "60000/60000 [==============================] - 9s 153us/step - loss: 0.2480 - acc: 0.9235 - val_loss: 0.1208 - val_acc: 0.9634\n",
            "Epoch 2/20\n",
            "60000/60000 [==============================] - 9s 153us/step - loss: 0.1031 - acc: 0.9690 - val_loss: 0.0803 - val_acc: 0.9764\n",
            "Epoch 3/20\n",
            "60000/60000 [==============================] - 9s 154us/step - loss: 0.0758 - acc: 0.9771 - val_loss: 0.0800 - val_acc: 0.9787\n",
            "Epoch 4/20\n",
            "60000/60000 [==============================] - 9s 155us/step - loss: 0.0602 - acc: 0.9817 - val_loss: 0.0804 - val_acc: 0.9778\n",
            "Epoch 5/20\n",
            "60000/60000 [==============================] - 9s 154us/step - loss: 0.0508 - acc: 0.9850 - val_loss: 0.0784 - val_acc: 0.9801\n",
            "Epoch 6/20\n",
            "60000/60000 [==============================] - 9s 155us/step - loss: 0.0443 - acc: 0.9866 - val_loss: 0.0836 - val_acc: 0.9806\n",
            "Epoch 7/20\n",
            "60000/60000 [==============================] - 9s 155us/step - loss: 0.0382 - acc: 0.9890 - val_loss: 0.0764 - val_acc: 0.9830\n",
            "Epoch 8/20\n",
            "60000/60000 [==============================] - 10s 166us/step - loss: 0.0329 - acc: 0.9900 - val_loss: 0.0939 - val_acc: 0.9799\n",
            "Epoch 9/20\n",
            "60000/60000 [==============================] - 9s 154us/step - loss: 0.0311 - acc: 0.9907 - val_loss: 0.0835 - val_acc: 0.9805\n",
            "Epoch 10/20\n",
            "60000/60000 [==============================] - 9s 154us/step - loss: 0.0292 - acc: 0.9915 - val_loss: 0.0891 - val_acc: 0.9821\n",
            "Epoch 11/20\n",
            "60000/60000 [==============================] - 9s 151us/step - loss: 0.0265 - acc: 0.9925 - val_loss: 0.0928 - val_acc: 0.9821\n",
            "Epoch 12/20\n",
            "60000/60000 [==============================] - 9s 152us/step - loss: 0.0260 - acc: 0.9929 - val_loss: 0.0889 - val_acc: 0.9832\n",
            "Epoch 13/20\n",
            "60000/60000 [==============================] - 9s 153us/step - loss: 0.0241 - acc: 0.9932 - val_loss: 0.0969 - val_acc: 0.9837\n",
            "Epoch 14/20\n",
            "60000/60000 [==============================] - 9s 153us/step - loss: 0.0229 - acc: 0.9939 - val_loss: 0.1057 - val_acc: 0.9834\n",
            "Epoch 15/20\n",
            "60000/60000 [==============================] - 9s 153us/step - loss: 0.0217 - acc: 0.9942 - val_loss: 0.1030 - val_acc: 0.9841\n",
            "Epoch 16/20\n",
            "60000/60000 [==============================] - 9s 155us/step - loss: 0.0191 - acc: 0.9946 - val_loss: 0.1000 - val_acc: 0.9834\n",
            "Epoch 17/20\n",
            "60000/60000 [==============================] - 9s 153us/step - loss: 0.0209 - acc: 0.9945 - val_loss: 0.1141 - val_acc: 0.9827\n",
            "Epoch 18/20\n",
            "60000/60000 [==============================] - 9s 156us/step - loss: 0.0209 - acc: 0.9947 - val_loss: 0.1129 - val_acc: 0.9827\n",
            "Epoch 19/20\n",
            "60000/60000 [==============================] - 9s 155us/step - loss: 0.0173 - acc: 0.9953 - val_loss: 0.1242 - val_acc: 0.9829\n",
            "Epoch 20/20\n",
            "60000/60000 [==============================] - 9s 153us/step - loss: 0.0178 - acc: 0.9954 - val_loss: 0.1252 - val_acc: 0.9825\n",
            "Test loss: 0.12524615524148372\n",
            "Test accuracy: 0.9825\n"
          ],
          "name": "stdout"
        }
      ]
    },
    {
      "metadata": {
        "id": "GJN6gzmhSKGm",
        "colab_type": "code",
        "colab": {
          "base_uri": "https://localhost:8080/",
          "height": 521
        },
        "outputId": "fb382c8a-a728-4dd9-8840-3368008252ce"
      },
      "cell_type": "code",
      "source": [
        "from __future__ import print_function\n",
        "import keras\n",
        "from keras.datasets import mnist\n",
        "from keras.models import Sequential\n",
        "from keras.layers import Dense, Dropout, Flatten\n",
        "from keras.layers import Conv2D, MaxPooling2D\n",
        "from keras import backend as K\n",
        "\n",
        "batch_size = 128\n",
        "num_classes = 10\n",
        "epochs = 12\n",
        "\n",
        "# input image dimensions\n",
        "img_rows, img_cols = 28, 28\n",
        "\n",
        "# the data, split between train and test sets\n",
        "(x_train, y_train), (x_test, y_test) = mnist.load_data()\n",
        "\n",
        "if K.image_data_format() == 'channels_first':\n",
        "    x_train = x_train.reshape(x_train.shape[0], 1, img_rows, img_cols)\n",
        "    x_test = x_test.reshape(x_test.shape[0], 1, img_rows, img_cols)\n",
        "    input_shape = (1, img_rows, img_cols)\n",
        "else:\n",
        "    x_train = x_train.reshape(x_train.shape[0], img_rows, img_cols, 1)\n",
        "    x_test = x_test.reshape(x_test.shape[0], img_rows, img_cols, 1)\n",
        "    input_shape = (img_rows, img_cols, 1)\n",
        "\n",
        "x_train = x_train.astype('float32')\n",
        "x_test = x_test.astype('float32')\n",
        "x_train /= 255\n",
        "x_test /= 255\n",
        "print('x_train shape:', x_train.shape)\n",
        "print(x_train.shape[0], 'train samples')\n",
        "print(x_test.shape[0], 'test samples')\n",
        "\n",
        "# convert class vectors to binary class matrices\n",
        "y_train = keras.utils.to_categorical(y_train, num_classes)\n",
        "y_test = keras.utils.to_categorical(y_test, num_classes)\n",
        "\n",
        "model = Sequential()\n",
        "model.add(Conv2D(32, kernel_size=(3, 3),\n",
        "                 activation='relu',\n",
        "                 input_shape=input_shape))\n",
        "model.add(Conv2D(64, (3, 3), activation='relu'))\n",
        "model.add(MaxPooling2D(pool_size=(2, 2)))\n",
        "model.add(Dropout(0.25))\n",
        "model.add(Flatten())\n",
        "model.add(Dense(128, activation='relu'))\n",
        "model.add(Dropout(0.5))\n",
        "model.add(Dense(num_classes, activation='softmax'))\n",
        "\n",
        "model.compile(loss=keras.losses.categorical_crossentropy,\n",
        "              optimizer=keras.optimizers.Adadelta(),\n",
        "              metrics=['accuracy'])\n",
        "\n",
        "model.fit(x_train, y_train,\n",
        "          batch_size=batch_size,\n",
        "          epochs=epochs,\n",
        "          verbose=1,\n",
        "          validation_data=(x_test, y_test))\n",
        "score = model.evaluate(x_test, y_test, verbose=0)\n",
        "print('Test loss:', score[0])\n",
        "print('Test accuracy:', score[1])"
      ],
      "execution_count": 7,
      "outputs": [
        {
          "output_type": "stream",
          "text": [
            "x_train shape: (60000, 28, 28, 1)\n",
            "60000 train samples\n",
            "10000 test samples\n",
            "Train on 60000 samples, validate on 10000 samples\n",
            "Epoch 1/12\n",
            "60000/60000 [==============================] - 159s 3ms/step - loss: 0.2630 - acc: 0.9193 - val_loss: 0.0533 - val_acc: 0.9826\n",
            "Epoch 2/12\n",
            "60000/60000 [==============================] - 158s 3ms/step - loss: 0.0871 - acc: 0.9740 - val_loss: 0.0451 - val_acc: 0.9841\n",
            "Epoch 3/12\n",
            "60000/60000 [==============================] - 159s 3ms/step - loss: 0.0657 - acc: 0.9801 - val_loss: 0.0317 - val_acc: 0.9893\n",
            "Epoch 4/12\n",
            "60000/60000 [==============================] - 160s 3ms/step - loss: 0.0553 - acc: 0.9829 - val_loss: 0.0358 - val_acc: 0.9877\n",
            "Epoch 5/12\n",
            "60000/60000 [==============================] - 159s 3ms/step - loss: 0.0459 - acc: 0.9863 - val_loss: 0.0275 - val_acc: 0.9909\n",
            "Epoch 6/12\n",
            "60000/60000 [==============================] - 159s 3ms/step - loss: 0.0416 - acc: 0.9872 - val_loss: 0.0278 - val_acc: 0.9902\n",
            "Epoch 7/12\n",
            "60000/60000 [==============================] - 159s 3ms/step - loss: 0.0371 - acc: 0.9887 - val_loss: 0.0269 - val_acc: 0.9918\n",
            "Epoch 8/12\n",
            "60000/60000 [==============================] - 159s 3ms/step - loss: 0.0348 - acc: 0.9896 - val_loss: 0.0283 - val_acc: 0.9908\n",
            "Epoch 9/12\n",
            "60000/60000 [==============================] - 158s 3ms/step - loss: 0.0308 - acc: 0.9904 - val_loss: 0.0295 - val_acc: 0.9916\n",
            "Epoch 10/12\n",
            "60000/60000 [==============================] - 157s 3ms/step - loss: 0.0281 - acc: 0.9909 - val_loss: 0.0248 - val_acc: 0.9917\n",
            "Epoch 11/12\n",
            "60000/60000 [==============================] - 158s 3ms/step - loss: 0.0260 - acc: 0.9918 - val_loss: 0.0249 - val_acc: 0.9928\n",
            "Epoch 12/12\n",
            "60000/60000 [==============================] - 157s 3ms/step - loss: 0.0257 - acc: 0.9918 - val_loss: 0.0242 - val_acc: 0.9929\n",
            "Test loss: 0.024214163491121144\n",
            "Test accuracy: 0.9929\n"
          ],
          "name": "stdout"
        }
      ]
    },
    {
      "metadata": {
        "id": "0nfXj-DGScXB",
        "colab_type": "code",
        "colab": {
          "base_uri": "https://localhost:8080/",
          "height": 571
        },
        "outputId": "18866f27-86c3-4622-dd03-ec408281480d"
      },
      "cell_type": "code",
      "source": [
        "import keras\n",
        "from keras.datasets import mnist\n",
        "from keras.models import Sequential\n",
        "from keras.layers import Dense, Activation\n",
        "from keras.layers import SimpleRNN\n",
        "from keras import initializers\n",
        "from keras.optimizers import RMSprop\n",
        "\n",
        "batch_size = 32\n",
        "num_classes = 10\n",
        "epochs = 200\n",
        "hidden_units = 100\n",
        "\n",
        "learning_rate = 1e-6\n",
        "clip_norm = 1.0\n",
        "\n",
        "# the data, split between train and test sets\n",
        "(x_train, y_train), (x_test, y_test) = mnist.load_data()\n",
        "\n",
        "x_train = x_train.reshape(x_train.shape[0], -1, 1)\n",
        "x_test = x_test.reshape(x_test.shape[0], -1, 1)\n",
        "x_train = x_train.astype('float32')\n",
        "x_test = x_test.astype('float32')\n",
        "x_train /= 255\n",
        "x_test /= 255\n",
        "print('x_train shape:', x_train.shape)\n",
        "print(x_train.shape[0], 'train samples')\n",
        "print(x_test.shape[0], 'test samples')\n",
        "\n",
        "# convert class vectors to binary class matrices\n",
        "y_train = keras.utils.to_categorical(y_train, num_classes)\n",
        "y_test = keras.utils.to_categorical(y_test, num_classes)\n",
        "\n",
        "print('Evaluate IRNN...')\n",
        "model = Sequential()\n",
        "model.add(SimpleRNN(hidden_units,\n",
        "                    kernel_initializer=initializers.RandomNormal(stddev=0.001),\n",
        "                    recurrent_initializer=initializers.Identity(gain=1.0),\n",
        "                    activation='relu',\n",
        "                    input_shape=x_train.shape[1:]))\n",
        "model.add(Dense(num_classes))\n",
        "model.add(Activation('softmax'))\n",
        "rmsprop = RMSprop(lr=learning_rate)\n",
        "model.compile(loss='categorical_crossentropy',\n",
        "              optimizer=rmsprop,\n",
        "              metrics=['accuracy'])\n",
        "\n",
        "model.fit(x_train, y_train,\n",
        "          batch_size=batch_size,\n",
        "          epochs=epochs,\n",
        "          verbose=1,\n",
        "          validation_data=(x_test, y_test))\n",
        "\n",
        "scores = model.evaluate(x_test, y_test, verbose=0)\n",
        "print('IRNN test score:', scores[0])\n",
        "print('IRNN test accuracy:', scores[1])"
      ],
      "execution_count": 0,
      "outputs": [
        {
          "output_type": "stream",
          "text": [
            "x_train shape: (60000, 784, 1)\n",
            "60000 train samples\n",
            "10000 test samples\n",
            "Evaluate IRNN...\n",
            "Train on 60000 samples, validate on 10000 samples\n",
            "Epoch 1/200\n",
            "60000/60000 [==============================] - 231s 4ms/step - loss: 2.1038 - acc: 0.2153 - val_loss: 2.0032 - val_acc: 0.2528\n",
            "Epoch 2/200\n",
            "60000/60000 [==============================] - 231s 4ms/step - loss: 1.9987 - acc: 0.2532 - val_loss: 1.9792 - val_acc: 0.2613\n",
            "Epoch 3/200\n",
            "60000/60000 [==============================] - 231s 4ms/step - loss: 1.9582 - acc: 0.2742 - val_loss: 1.9173 - val_acc: 0.3139\n",
            "Epoch 4/200\n",
            "60000/60000 [==============================] - 230s 4ms/step - loss: 1.8846 - acc: 0.3233 - val_loss: 1.7966 - val_acc: 0.3642\n",
            "Epoch 5/200\n",
            "60000/60000 [==============================] - 230s 4ms/step - loss: 1.7329 - acc: 0.3938 - val_loss: 1.6762 - val_acc: 0.4272\n",
            "Epoch 6/200\n",
            "60000/60000 [==============================] - 227s 4ms/step - loss: 1.6335 - acc: 0.4399 - val_loss: 1.5425 - val_acc: 0.4947\n",
            "Epoch 7/200\n",
            "60000/60000 [==============================] - 227s 4ms/step - loss: 1.4912 - acc: 0.4816 - val_loss: 1.4251 - val_acc: 0.5077\n",
            "Epoch 8/200\n",
            "60000/60000 [==============================] - 227s 4ms/step - loss: 1.4079 - acc: 0.5080 - val_loss: 1.3527 - val_acc: 0.5351\n",
            "Epoch 9/200\n",
            "60000/60000 [==============================] - 228s 4ms/step - loss: 1.3479 - acc: 0.5267 - val_loss: 1.3495 - val_acc: 0.5267\n",
            "Epoch 10/200\n",
            "60000/60000 [==============================] - 227s 4ms/step - loss: 1.3037 - acc: 0.5430 - val_loss: 1.2758 - val_acc: 0.5446\n",
            "Epoch 11/200\n",
            "60000/60000 [==============================] - 235s 4ms/step - loss: 1.2721 - acc: 0.5554 - val_loss: 1.2106 - val_acc: 0.5894\n",
            "Epoch 12/200\n",
            "60000/60000 [==============================] - 232s 4ms/step - loss: 1.2475 - acc: 0.5644 - val_loss: 1.2066 - val_acc: 0.5839\n",
            "Epoch 13/200\n",
            "60000/60000 [==============================] - 232s 4ms/step - loss: 1.2290 - acc: 0.5748 - val_loss: 1.2684 - val_acc: 0.5546\n",
            "Epoch 14/200\n",
            "16000/60000 [=======>......................] - ETA: 2:43 - loss: 1.2158 - acc: 0.5763"
          ],
          "name": "stdout"
        }
      ]
    },
    {
      "metadata": {
        "id": "8yMs_OfRS3-H",
        "colab_type": "code",
        "colab": {}
      },
      "cell_type": "code",
      "source": [
        ""
      ],
      "execution_count": 0,
      "outputs": []
    }
  ]
}