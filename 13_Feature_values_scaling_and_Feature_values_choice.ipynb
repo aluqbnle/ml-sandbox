{
  "nbformat": 4,
  "nbformat_minor": 0,
  "metadata": {
    "colab": {
      "name": "13_Feature_values_scaling_and_Feature_values_choice.ipynb",
      "version": "0.3.2",
      "provenance": [],
      "collapsed_sections": [],
      "include_colab_link": true
    },
    "kernelspec": {
      "name": "python3",
      "display_name": "Python 3"
    }
  },
  "cells": [
    {
      "cell_type": "markdown",
      "metadata": {
        "id": "view-in-github",
        "colab_type": "text"
      },
      "source": [
        "<a href=\"https://colab.research.google.com/github/aluqbnle/ml-sandbox/blob/master/13_Feature_values_scaling_and_Feature_values_choice.ipynb\" target=\"_parent\"><img src=\"https://colab.research.google.com/assets/colab-badge.svg\" alt=\"Open In Colab\"/></a>"
      ]
    },
    {
      "metadata": {
        "id": "mA6w3hW6McA0",
        "colab_type": "text"
      },
      "cell_type": "markdown",
      "source": [
        "# 標準化"
      ]
    },
    {
      "metadata": {
        "id": "6Pi4R2C1Jpm9",
        "colab_type": "code",
        "colab": {}
      },
      "cell_type": "code",
      "source": [
        "import numpy\n",
        "import pandas"
      ],
      "execution_count": 0,
      "outputs": []
    },
    {
      "metadata": {
        "id": "cRuS8kI_Kg5L",
        "colab_type": "code",
        "colab": {}
      },
      "cell_type": "code",
      "source": [
        "data={'name': ['Ryo', 'Kaori', 'Hideyuki', 'Hayato', 'Miki', 'Saeko'],  # 名前\n",
        "        'gender': ['M', 'F', 'M', 'M', 'F', 'F'],  # 性別\n",
        "        'height': [186, 168, 175, 210, 160, 163],  # 身長\n",
        "        'weight': [72, 47, 62, 90, None, numpy.NaN],  # 体重\n",
        "        'age': [30, 20, None , numpy.NaN, 23, 25],  # 年齢\n",
        "        'size': ['L', 'M', 'L', 'XL', None, 'S']  # 服のサイズ\n",
        "     }"
      ],
      "execution_count": 0,
      "outputs": []
    },
    {
      "metadata": {
        "id": "pHp1vSy2KwfG",
        "colab_type": "code",
        "colab": {
          "base_uri": "https://localhost:8080/",
          "height": 235
        },
        "outputId": "415d4219-6a9b-4528-d985-156b2e686a28"
      },
      "cell_type": "code",
      "source": [
        "df=pandas.DataFrame(data,columns=['name', 'gender', 'age', 'height', 'weight', 'size'])\n",
        "df"
      ],
      "execution_count": 4,
      "outputs": [
        {
          "output_type": "execute_result",
          "data": {
            "text/html": [
              "<div>\n",
              "<style scoped>\n",
              "    .dataframe tbody tr th:only-of-type {\n",
              "        vertical-align: middle;\n",
              "    }\n",
              "\n",
              "    .dataframe tbody tr th {\n",
              "        vertical-align: top;\n",
              "    }\n",
              "\n",
              "    .dataframe thead th {\n",
              "        text-align: right;\n",
              "    }\n",
              "</style>\n",
              "<table border=\"1\" class=\"dataframe\">\n",
              "  <thead>\n",
              "    <tr style=\"text-align: right;\">\n",
              "      <th></th>\n",
              "      <th>name</th>\n",
              "      <th>gender</th>\n",
              "      <th>age</th>\n",
              "      <th>height</th>\n",
              "      <th>weight</th>\n",
              "      <th>size</th>\n",
              "    </tr>\n",
              "  </thead>\n",
              "  <tbody>\n",
              "    <tr>\n",
              "      <th>0</th>\n",
              "      <td>Ryo</td>\n",
              "      <td>M</td>\n",
              "      <td>30.0</td>\n",
              "      <td>186</td>\n",
              "      <td>72.0</td>\n",
              "      <td>L</td>\n",
              "    </tr>\n",
              "    <tr>\n",
              "      <th>1</th>\n",
              "      <td>Kaori</td>\n",
              "      <td>F</td>\n",
              "      <td>20.0</td>\n",
              "      <td>168</td>\n",
              "      <td>47.0</td>\n",
              "      <td>M</td>\n",
              "    </tr>\n",
              "    <tr>\n",
              "      <th>2</th>\n",
              "      <td>Hideyuki</td>\n",
              "      <td>M</td>\n",
              "      <td>NaN</td>\n",
              "      <td>175</td>\n",
              "      <td>62.0</td>\n",
              "      <td>L</td>\n",
              "    </tr>\n",
              "    <tr>\n",
              "      <th>3</th>\n",
              "      <td>Hayato</td>\n",
              "      <td>M</td>\n",
              "      <td>NaN</td>\n",
              "      <td>210</td>\n",
              "      <td>90.0</td>\n",
              "      <td>XL</td>\n",
              "    </tr>\n",
              "    <tr>\n",
              "      <th>4</th>\n",
              "      <td>Miki</td>\n",
              "      <td>F</td>\n",
              "      <td>23.0</td>\n",
              "      <td>160</td>\n",
              "      <td>NaN</td>\n",
              "      <td>None</td>\n",
              "    </tr>\n",
              "    <tr>\n",
              "      <th>5</th>\n",
              "      <td>Saeko</td>\n",
              "      <td>F</td>\n",
              "      <td>25.0</td>\n",
              "      <td>163</td>\n",
              "      <td>NaN</td>\n",
              "      <td>S</td>\n",
              "    </tr>\n",
              "  </tbody>\n",
              "</table>\n",
              "</div>"
            ],
            "text/plain": [
              "       name gender   age  height  weight  size\n",
              "0       Ryo      M  30.0     186    72.0     L\n",
              "1     Kaori      F  20.0     168    47.0     M\n",
              "2  Hideyuki      M   NaN     175    62.0     L\n",
              "3    Hayato      M   NaN     210    90.0    XL\n",
              "4      Miki      F  23.0     160     NaN  None\n",
              "5     Saeko      F  25.0     163     NaN     S"
            ]
          },
          "metadata": {
            "tags": []
          },
          "execution_count": 4
        }
      ]
    },
    {
      "metadata": {
        "id": "dmEnTwKSK5dk",
        "colab_type": "code",
        "colab": {}
      },
      "cell_type": "code",
      "source": [
        "# reshape(-1, 1) は StandardScaler に入力するために、numpy.array の shape を変更しています\n",
        "# astype(float) は numpy.array のデータタイプを float に変更しています\n",
        "X = df['height'].values.reshape(-1, 1).astype(float)\n"
      ],
      "execution_count": 0,
      "outputs": []
    },
    {
      "metadata": {
        "id": "Aq_LFwN9LPfs",
        "colab_type": "code",
        "colab": {}
      },
      "cell_type": "code",
      "source": [
        "from sklearn.preprocessing import StandardScaler"
      ],
      "execution_count": 0,
      "outputs": []
    },
    {
      "metadata": {
        "id": "H5ddBm3bLXao",
        "colab_type": "code",
        "colab": {
          "base_uri": "https://localhost:8080/",
          "height": 170
        },
        "outputId": "eefb2f1a-1d80-486f-c8e0-9b10036b6509"
      },
      "cell_type": "code",
      "source": [
        "sc=StandardScaler()\n",
        "X_std=sc.fit_transform(X)\n",
        "\n",
        "print(X_std)\n",
        "print()\n",
        "print('average:',X_std.mean())\n",
        "print('standard deviation:',X_std.std())"
      ],
      "execution_count": 12,
      "outputs": [
        {
          "output_type": "stream",
          "text": [
            "[[ 0.5284982 ]\n",
            " [-0.5284982 ]\n",
            " [-0.11744404]\n",
            " [ 1.93782672]\n",
            " [-0.99827437]\n",
            " [-0.82210831]]\n",
            "\n",
            "average: 1.850371707708594e-17\n",
            "standard deviation: 1.0\n"
          ],
          "name": "stdout"
        }
      ]
    },
    {
      "metadata": {
        "id": "BVJzorymMgfn",
        "colab_type": "text"
      },
      "cell_type": "markdown",
      "source": [
        "# 正規化"
      ]
    },
    {
      "metadata": {
        "id": "wPUOg_4GLeT0",
        "colab_type": "code",
        "colab": {}
      },
      "cell_type": "code",
      "source": [
        "from sklearn.preprocessing import MinMaxScaler"
      ],
      "execution_count": 0,
      "outputs": []
    },
    {
      "metadata": {
        "id": "QFhS1-y5Ms2R",
        "colab_type": "code",
        "colab": {
          "base_uri": "https://localhost:8080/",
          "height": 170
        },
        "outputId": "122dfe66-a6b5-4e3b-d8f0-6d11ce0cb07f"
      },
      "cell_type": "code",
      "source": [
        "scaler = MinMaxScaler()\n",
        "X_norm = scaler.fit_transform(X)\n",
        "\n",
        "print(X_norm)\n",
        "print()\n",
        "print('Max',X_norm.max())\n",
        "print('Min',X_norm.min())"
      ],
      "execution_count": 15,
      "outputs": [
        {
          "output_type": "stream",
          "text": [
            "[[0.52]\n",
            " [0.16]\n",
            " [0.3 ]\n",
            " [1.  ]\n",
            " [0.  ]\n",
            " [0.06]]\n",
            "\n",
            "Max 1.0\n",
            "Min 0.0\n"
          ],
          "name": "stdout"
        }
      ]
    },
    {
      "metadata": {
        "id": "zebHRTgHNXvN",
        "colab_type": "text"
      },
      "cell_type": "markdown",
      "source": [
        "# 特徴量の選択"
      ]
    },
    {
      "metadata": {
        "id": "nfpfvqTLNPRq",
        "colab_type": "code",
        "colab": {}
      },
      "cell_type": "code",
      "source": [
        "from sklearn.datasets import load_breast_cancer"
      ],
      "execution_count": 0,
      "outputs": []
    },
    {
      "metadata": {
        "id": "H_muF3KeONKr",
        "colab_type": "code",
        "colab": {}
      },
      "cell_type": "code",
      "source": [
        "breast_cancer = load_breast_cancer()\n",
        "X = breast_cancer.data[:,:10]\n",
        "y= breast_cancer.target\n",
        "columns=['radius','texture','Circumference','area','smoothness','compactness','dent','number_of_dent','Symmetry','fractal dimension']\n"
      ],
      "execution_count": 0,
      "outputs": []
    },
    {
      "metadata": {
        "id": "UT8nfV6zPFt_",
        "colab_type": "code",
        "colab": {}
      },
      "cell_type": "code",
      "source": [
        "from sklearn.ensemble import RandomForestClassifier"
      ],
      "execution_count": 0,
      "outputs": []
    },
    {
      "metadata": {
        "id": "qJcqKyRrPhOL",
        "colab_type": "code",
        "colab": {
          "base_uri": "https://localhost:8080/",
          "height": 118
        },
        "outputId": "ff6a2ea1-4afc-4ff5-a37a-9bbd214c8e40"
      },
      "cell_type": "code",
      "source": [
        "rf = RandomForestClassifier(max_depth=None,n_estimators=100,random_state=42)\n",
        "rf.fit(X,y)"
      ],
      "execution_count": 29,
      "outputs": [
        {
          "output_type": "execute_result",
          "data": {
            "text/plain": [
              "RandomForestClassifier(bootstrap=True, class_weight=None, criterion='gini',\n",
              "            max_depth=None, max_features='auto', max_leaf_nodes=None,\n",
              "            min_impurity_decrease=0.0, min_impurity_split=None,\n",
              "            min_samples_leaf=1, min_samples_split=2,\n",
              "            min_weight_fraction_leaf=0.0, n_estimators=100, n_jobs=None,\n",
              "            oob_score=False, random_state=42, verbose=0, warm_start=False)"
            ]
          },
          "metadata": {
            "tags": []
          },
          "execution_count": 29
        }
      ]
    },
    {
      "metadata": {
        "id": "0j6BExdhOlwz",
        "colab_type": "code",
        "colab": {}
      },
      "cell_type": "code",
      "source": [
        "from matplotlib import pyplot\n",
        "#pyplot.rcParams[]"
      ],
      "execution_count": 0,
      "outputs": []
    },
    {
      "metadata": {
        "id": "bouUFwWoOyE7",
        "colab_type": "code",
        "colab": {
          "base_uri": "https://localhost:8080/",
          "height": 443
        },
        "outputId": "d012b3cd-a670-4108-e208-69a65f08c30c"
      },
      "cell_type": "code",
      "source": [
        "feature_names = numpy.array(columns)\n",
        "feature_importances = rf.feature_importances_\n",
        "indices = numpy.argsort(feature_importances)\n",
        "\n",
        "pyplot.figure(figsize=(11,7))\n",
        "pyplot.title('Feature Importances')\n",
        "pyplot.barh(range(len(indices)),feature_importances[indices],color='b',align='center')\n",
        "pyplot.yticks(range(len(indices)),feature_names[indices])\n",
        "pyplot.show()"
      ],
      "execution_count": 34,
      "outputs": [
        {
          "output_type": "display_data",
          "data": {
            "image/png": "[encoded data removed]",
            "text/plain": [
              "<Figure size 792x504 with 1 Axes>"
            ]
          },
          "metadata": {
            "tags": []
          }
        }
      ]
    },
    {
      "metadata": {
        "id": "GLCFwR9jPAN9",
        "colab_type": "code",
        "colab": {
          "base_uri": "https://localhost:8080/",
          "height": 34
        },
        "outputId": "a88aa423-37ce-4f85-a47e-107c8ecf2a53"
      },
      "cell_type": "code",
      "source": [
        "# 特徴量重要度の平均値\n",
        "mu = feature_importances.mean()\n",
        "# 平均値以上の特徴量\n",
        "print(feature_names[feature_importances > mu])"
      ],
      "execution_count": 35,
      "outputs": [
        {
          "output_type": "stream",
          "text": [
            "['radius' 'Circumference' 'area' 'dent' 'number_of_dent']\n"
          ],
          "name": "stdout"
        }
      ]
    },
    {
      "metadata": {
        "id": "qnEwQB3XRjea",
        "colab_type": "code",
        "colab": {}
      },
      "cell_type": "code",
      "source": [
        ""
      ],
      "execution_count": 0,
      "outputs": []
    }
  ]
}