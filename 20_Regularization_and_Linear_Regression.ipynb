{
  "nbformat": 4,
  "nbformat_minor": 0,
  "metadata": {
    "colab": {
      "name": "20_Regularization_and_Linear_Regression.ipynb",
      "version": "0.3.2",
      "provenance": [],
      "collapsed_sections": [],
      "include_colab_link": true
    },
    "kernelspec": {
      "name": "python3",
      "display_name": "Python 3"
    },
    "accelerator": "GPU"
  },
  "cells": [
    {
      "cell_type": "markdown",
      "metadata": {
        "id": "view-in-github",
        "colab_type": "text"
      },
      "source": [
        "<a href=\"https://colab.research.google.com/github/aluqbnle/ml-sandbox/blob/master/20_Regularization_and_Linear_Regression.ipynb\" target=\"_parent\"><img src=\"https://colab.research.google.com/assets/colab-badge.svg\" alt=\"Open In Colab\"/></a>"
      ]
    },
    {
      "metadata": {
        "id": "tmjErzKjww92",
        "colab_type": "text"
      },
      "cell_type": "markdown",
      "source": [
        "# 実験\n"
      ]
    },
    {
      "metadata": {
        "id": "pX-QH4gix0NR",
        "colab_type": "text"
      },
      "cell_type": "markdown",
      "source": [
        "# 正則化手法を線形回帰に導入する"
      ]
    },
    {
      "metadata": {
        "id": "UxwQ2Hc1xL_s",
        "colab_type": "text"
      },
      "cell_type": "markdown",
      "source": [
        "### データの読み込み"
      ]
    },
    {
      "metadata": {
        "id": "8Y53fyuiwXN4",
        "colab_type": "code",
        "colab": {}
      },
      "cell_type": "code",
      "source": [
        "import numpy\n",
        "from pandas import DataFrame\n",
        "from sklearn.datasets import load_boston\n",
        "from sklearn.model_selection import train_test_split"
      ],
      "execution_count": 0,
      "outputs": []
    },
    {
      "metadata": {
        "id": "g9UMuHwdwzEY",
        "colab_type": "code",
        "colab": {}
      },
      "cell_type": "code",
      "source": [
        "\n",
        "boston = load_boston()\n",
        "X = boston.data  # 特徴量\n",
        "y = boston.target  # 目的変数\n",
        "feature_names = boston.feature_names  # 特徴量名\n",
        "\n",
        "df = DataFrame(data=X, columns=feature_names)\n",
        "df['MEDV'] = y  # 目的変数"
      ],
      "execution_count": 0,
      "outputs": []
    },
    {
      "metadata": {
        "id": "Y9W6yscww7ZK",
        "colab_type": "code",
        "colab": {}
      },
      "cell_type": "code",
      "source": [
        "X = df[['RM', 'LSTAT']].values\n",
        "y = df['MEDV'].values"
      ],
      "execution_count": 0,
      "outputs": []
    },
    {
      "metadata": {
        "id": "5dMZ5SBExDhq",
        "colab_type": "code",
        "colab": {}
      },
      "cell_type": "code",
      "source": [
        "X_train, X_test, y_train, y_test = train_test_split(X, y, test_size=0.30, random_state=42)"
      ],
      "execution_count": 0,
      "outputs": []
    },
    {
      "metadata": {
        "id": "g52275ZixFse",
        "colab_type": "code",
        "colab": {}
      },
      "cell_type": "code",
      "source": [
        "X_train0 = X_train[:, 0].reshape(-1, 1)  # 訓練データのRM\n",
        "X_train1 = X_train[:, 1].reshape(-1, 1)  # 訓練データのLSTAT\n",
        "X_test0 = X_test[:, 0].reshape(-1, 1)  # テストデータのRM\n",
        "X_test1 = X_test[:, 1].reshape(-1, 1)  # テストデータのLSTAT"
      ],
      "execution_count": 0,
      "outputs": []
    },
    {
      "metadata": {
        "id": "_HfgjXbUxHwW",
        "colab_type": "code",
        "colab": {}
      },
      "cell_type": "code",
      "source": [
        "from sklearn.preprocessing import MinMaxScaler, StandardScaler"
      ],
      "execution_count": 0,
      "outputs": []
    },
    {
      "metadata": {
        "id": "2U276jsYxOTJ",
        "colab_type": "text"
      },
      "cell_type": "markdown",
      "source": [
        "### 前処理"
      ]
    },
    {
      "metadata": {
        "id": "GojK5uw-xJ69",
        "colab_type": "code",
        "colab": {}
      },
      "cell_type": "code",
      "source": [
        "standerd_scaler = StandardScaler()\n",
        "X_train_scaled0 = standerd_scaler.fit_transform(X_train0)\n",
        "X_test_scaled0 = standerd_scaler.transform(X_test0)"
      ],
      "execution_count": 0,
      "outputs": []
    },
    {
      "metadata": {
        "id": "tro-2OExxTRe",
        "colab_type": "code",
        "colab": {}
      },
      "cell_type": "code",
      "source": [
        "min_max_scaler = MinMaxScaler()\n",
        "X_train_scaled1 = min_max_scaler.fit_transform(X_train1)\n",
        "X_test_scaled1 = min_max_scaler.transform(X_test1)\n"
      ],
      "execution_count": 0,
      "outputs": []
    },
    {
      "metadata": {
        "id": "7fzHA7zOxVgh",
        "colab_type": "code",
        "colab": {}
      },
      "cell_type": "code",
      "source": [
        "X_train_scaled = numpy.zeros(X_train.shape)\n",
        "X_train_scaled[:, 0] = X_train_scaled0.reshape(-1)\n",
        "X_train_scaled[:, 1] = X_train_scaled1.reshape(-1)"
      ],
      "execution_count": 0,
      "outputs": []
    },
    {
      "metadata": {
        "id": "_9FR2Dcixrnx",
        "colab_type": "code",
        "colab": {}
      },
      "cell_type": "code",
      "source": [
        "X_test_scaled = numpy.zeros(X_test.shape)\n",
        "X_test_scaled[:, 0] = standerd_scaler.transform(X_test0).reshape(-1)\n",
        "X_test_scaled[:, 1] = min_max_scaler.transform(X_test1).reshape(-1)"
      ],
      "execution_count": 0,
      "outputs": []
    },
    {
      "metadata": {
        "id": "Uqfk2_VIx-CZ",
        "colab_type": "text"
      },
      "cell_type": "markdown",
      "source": [
        "### k-fold cross validation"
      ]
    },
    {
      "metadata": {
        "id": "lcWiIrYcxtuo",
        "colab_type": "code",
        "colab": {}
      },
      "cell_type": "code",
      "source": [
        "from sklearn.model_selection import KFold"
      ],
      "execution_count": 0,
      "outputs": []
    },
    {
      "metadata": {
        "id": "HXOIuOyPxxVK",
        "colab_type": "code",
        "colab": {}
      },
      "cell_type": "code",
      "source": [
        "kf = KFold(n_splits=5, shuffle=True, random_state=42)"
      ],
      "execution_count": 0,
      "outputs": []
    },
    {
      "metadata": {
        "id": "7kF_bujLyYqg",
        "colab_type": "text"
      },
      "cell_type": "markdown",
      "source": [
        "### Lasso"
      ]
    },
    {
      "metadata": {
        "id": "YQXIIio4yB1p",
        "colab_type": "code",
        "colab": {}
      },
      "cell_type": "code",
      "source": [
        "from sklearn.linear_model import LassoCV"
      ],
      "execution_count": 0,
      "outputs": []
    },
    {
      "metadata": {
        "id": "SsCElANOya9X",
        "colab_type": "code",
        "colab": {}
      },
      "cell_type": "code",
      "source": [
        "lasso = LassoCV(cv=kf)"
      ],
      "execution_count": 0,
      "outputs": []
    },
    {
      "metadata": {
        "id": "_dMqrpJfyh-Y",
        "colab_type": "code",
        "colab": {
          "base_uri": "https://localhost:8080/",
          "height": 101
        },
        "outputId": "6527fb68-3f3a-4da9-cde4-7ecb0cd6d458"
      },
      "cell_type": "code",
      "source": [
        "lasso.fit(X_train_scaled, y_train)"
      ],
      "execution_count": 39,
      "outputs": [
        {
          "output_type": "execute_result",
          "data": {
            "text/plain": [
              "LassoCV(alphas=None, copy_X=True,\n",
              "    cv=KFold(n_splits=5, random_state=42, shuffle=True), eps=0.001,\n",
              "    fit_intercept=True, max_iter=1000, n_alphas=100, n_jobs=None,\n",
              "    normalize=False, positive=False, precompute='auto', random_state=None,\n",
              "    selection='cyclic', tol=0.0001, verbose=False)"
            ]
          },
          "metadata": {
            "tags": []
          },
          "execution_count": 39
        }
      ]
    },
    {
      "metadata": {
        "id": "s9dqUHAqymF0",
        "colab_type": "code",
        "colab": {
          "base_uri": "https://localhost:8080/",
          "height": 34
        },
        "outputId": "f4cbc41c-0d36-4e3b-89ac-edbe88df4882"
      },
      "cell_type": "code",
      "source": [
        "lasso.score(X_train_scaled, y_train)"
      ],
      "execution_count": 40,
      "outputs": [
        {
          "output_type": "execute_result",
          "data": {
            "text/plain": [
              "0.6486214999775376"
            ]
          },
          "metadata": {
            "tags": []
          },
          "execution_count": 40
        }
      ]
    },
    {
      "metadata": {
        "id": "FvIzh-yfyopb",
        "colab_type": "code",
        "colab": {
          "base_uri": "https://localhost:8080/",
          "height": 34
        },
        "outputId": "355a037a-fad8-4993-b3ec-e07bb6944b3e"
      },
      "cell_type": "code",
      "source": [
        "lasso.score(X_test_scaled, y_test)"
      ],
      "execution_count": 41,
      "outputs": [
        {
          "output_type": "execute_result",
          "data": {
            "text/plain": [
              "0.6004647942968495"
            ]
          },
          "metadata": {
            "tags": []
          },
          "execution_count": 41
        }
      ]
    },
    {
      "metadata": {
        "id": "c24EHTWiyqxI",
        "colab_type": "code",
        "colab": {
          "base_uri": "https://localhost:8080/",
          "height": 34
        },
        "outputId": "79f7f6ad-a5d1-4226-8c42-ded1704e2e2b"
      },
      "cell_type": "code",
      "source": [
        "lasso.alpha_"
      ],
      "execution_count": 42,
      "outputs": [
        {
          "output_type": "execute_result",
          "data": {
            "text/plain": [
              "0.006548570448456534"
            ]
          },
          "metadata": {
            "tags": []
          },
          "execution_count": 42
        }
      ]
    },
    {
      "metadata": {
        "id": "laJbwbYByyfv",
        "colab_type": "text"
      },
      "cell_type": "markdown",
      "source": [
        "### Ridge Regression"
      ]
    },
    {
      "metadata": {
        "id": "O53vBddSyuLQ",
        "colab_type": "code",
        "colab": {}
      },
      "cell_type": "code",
      "source": [
        "import numpy\n",
        "from sklearn.linear_model import RidgeCV"
      ],
      "execution_count": 0,
      "outputs": []
    },
    {
      "metadata": {
        "id": "2yBr6V73ywZg",
        "colab_type": "code",
        "colab": {}
      },
      "cell_type": "code",
      "source": [
        "ridge = RidgeCV(cv=kf)"
      ],
      "execution_count": 0,
      "outputs": []
    },
    {
      "metadata": {
        "id": "CEi0EZC2y96V",
        "colab_type": "code",
        "colab": {
          "base_uri": "https://localhost:8080/",
          "height": 138
        },
        "outputId": "7ae06e8f-6c7d-4840-a226-8a96ce2f8fa7"
      },
      "cell_type": "code",
      "source": [
        "ridge.fit(X_train_scaled, y_train)"
      ],
      "execution_count": 45,
      "outputs": [
        {
          "output_type": "stream",
          "text": [
            "/usr/local/lib/python3.6/dist-packages/sklearn/model_selection/_search.py:841: DeprecationWarning: The default of the `iid` parameter will change from True to False in version 0.22 and will be removed in 0.24. This will change numeric results when test-set sizes are unequal.\n",
            "  DeprecationWarning)\n"
          ],
          "name": "stderr"
        },
        {
          "output_type": "execute_result",
          "data": {
            "text/plain": [
              "RidgeCV(alphas=array([ 0.1,  1. , 10. ]),\n",
              "    cv=KFold(n_splits=5, random_state=42, shuffle=True),\n",
              "    fit_intercept=True, gcv_mode=None, normalize=False, scoring=None,\n",
              "    store_cv_values=False)"
            ]
          },
          "metadata": {
            "tags": []
          },
          "execution_count": 45
        }
      ]
    },
    {
      "metadata": {
        "id": "Em8J1ymKzDgB",
        "colab_type": "code",
        "colab": {
          "base_uri": "https://localhost:8080/",
          "height": 34
        },
        "outputId": "6e8085b3-dd53-41a9-94c6-6559ca4b477e"
      },
      "cell_type": "code",
      "source": [
        "ridge.score(X_train_scaled, y_train)"
      ],
      "execution_count": 46,
      "outputs": [
        {
          "output_type": "execute_result",
          "data": {
            "text/plain": [
              "0.648616441243237"
            ]
          },
          "metadata": {
            "tags": []
          },
          "execution_count": 46
        }
      ]
    },
    {
      "metadata": {
        "id": "suZk7P_3zOcN",
        "colab_type": "code",
        "colab": {
          "base_uri": "https://localhost:8080/",
          "height": 34
        },
        "outputId": "95b9f396-a423-456c-d5e9-3726669b730c"
      },
      "cell_type": "code",
      "source": [
        "ridge.score(X_test_scaled, y_test)"
      ],
      "execution_count": 47,
      "outputs": [
        {
          "output_type": "execute_result",
          "data": {
            "text/plain": [
              "0.6005255323711268"
            ]
          },
          "metadata": {
            "tags": []
          },
          "execution_count": 47
        }
      ]
    },
    {
      "metadata": {
        "id": "zZCtIXswzdT2",
        "colab_type": "code",
        "colab": {
          "base_uri": "https://localhost:8080/",
          "height": 34
        },
        "outputId": "96018c52-c557-4478-ca95-99e32a6eaf48"
      },
      "cell_type": "code",
      "source": [
        "ridge.alpha_"
      ],
      "execution_count": 48,
      "outputs": [
        {
          "output_type": "execute_result",
          "data": {
            "text/plain": [
              "0.1"
            ]
          },
          "metadata": {
            "tags": []
          },
          "execution_count": 48
        }
      ]
    },
    {
      "metadata": {
        "id": "8OjqWWNTzic0",
        "colab_type": "text"
      },
      "cell_type": "markdown",
      "source": [
        "### Elastic Net"
      ]
    },
    {
      "metadata": {
        "id": "lahKQUVLzgIL",
        "colab_type": "code",
        "colab": {}
      },
      "cell_type": "code",
      "source": [
        "from sklearn.linear_model import ElasticNetCV"
      ],
      "execution_count": 0,
      "outputs": []
    },
    {
      "metadata": {
        "id": "jolRDV8zzndc",
        "colab_type": "code",
        "colab": {}
      },
      "cell_type": "code",
      "source": [
        "elasticnet = ElasticNetCV(cv=kf, l1_ratio=0.5)"
      ],
      "execution_count": 0,
      "outputs": []
    },
    {
      "metadata": {
        "id": "qIQM1R-dzpZh",
        "colab_type": "code",
        "colab": {
          "base_uri": "https://localhost:8080/",
          "height": 101
        },
        "outputId": "92fb5e17-f054-4912-9a22-d00f56514a85"
      },
      "cell_type": "code",
      "source": [
        "elasticnet.fit(X_train_scaled, y_train)"
      ],
      "execution_count": 51,
      "outputs": [
        {
          "output_type": "execute_result",
          "data": {
            "text/plain": [
              "ElasticNetCV(alphas=None, copy_X=True,\n",
              "       cv=KFold(n_splits=5, random_state=42, shuffle=True), eps=0.001,\n",
              "       fit_intercept=True, l1_ratio=0.5, max_iter=1000, n_alphas=100,\n",
              "       n_jobs=None, normalize=False, positive=False, precompute='auto',\n",
              "       random_state=None, selection='cyclic', tol=0.0001, verbose=0)"
            ]
          },
          "metadata": {
            "tags": []
          },
          "execution_count": 51
        }
      ]
    },
    {
      "metadata": {
        "id": "ZNzNp_f9zrGf",
        "colab_type": "code",
        "colab": {
          "base_uri": "https://localhost:8080/",
          "height": 34
        },
        "outputId": "1933594c-4b1a-49c7-bbe8-e2be2cf468b6"
      },
      "cell_type": "code",
      "source": [
        "elasticnet.score(X_train_scaled, y_train)"
      ],
      "execution_count": 52,
      "outputs": [
        {
          "output_type": "execute_result",
          "data": {
            "text/plain": [
              "0.6408644755644152"
            ]
          },
          "metadata": {
            "tags": []
          },
          "execution_count": 52
        }
      ]
    },
    {
      "metadata": {
        "id": "mGMhSX3vzs2Q",
        "colab_type": "code",
        "colab": {
          "base_uri": "https://localhost:8080/",
          "height": 34
        },
        "outputId": "293931cf-59dd-40a2-d537-4c276d1f078e"
      },
      "cell_type": "code",
      "source": [
        "elasticnet.score(X_test_scaled, y_test)"
      ],
      "execution_count": 53,
      "outputs": [
        {
          "output_type": "execute_result",
          "data": {
            "text/plain": [
              "0.6034664891361318"
            ]
          },
          "metadata": {
            "tags": []
          },
          "execution_count": 53
        }
      ]
    },
    {
      "metadata": {
        "id": "1ROajep8zuxf",
        "colab_type": "code",
        "colab": {
          "base_uri": "https://localhost:8080/",
          "height": 34
        },
        "outputId": "80f9098e-4b52-41ea-dc7d-6dc80485df16"
      },
      "cell_type": "code",
      "source": [
        "elasticnet.alpha_"
      ],
      "execution_count": 54,
      "outputs": [
        {
          "output_type": "execute_result",
          "data": {
            "text/plain": [
              "0.01309714089691307"
            ]
          },
          "metadata": {
            "tags": []
          },
          "execution_count": 54
        }
      ]
    },
    {
      "metadata": {
        "id": "l1VNMpf5zwuz",
        "colab_type": "code",
        "colab": {
          "base_uri": "https://localhost:8080/",
          "height": 34
        },
        "outputId": "05e543e5-4bc8-445b-a774-b75f8f42c73b"
      },
      "cell_type": "code",
      "source": [
        "elasticnet.l1_ratio_"
      ],
      "execution_count": 55,
      "outputs": [
        {
          "output_type": "execute_result",
          "data": {
            "text/plain": [
              "0.5"
            ]
          },
          "metadata": {
            "tags": []
          },
          "execution_count": 55
        }
      ]
    },
    {
      "metadata": {
        "id": "DPmySDc8zy6c",
        "colab_type": "code",
        "colab": {}
      },
      "cell_type": "code",
      "source": [
        ""
      ],
      "execution_count": 0,
      "outputs": []
    }
  ]
}